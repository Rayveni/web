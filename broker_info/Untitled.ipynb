{
 "cells": [
  {
   "cell_type": "code",
   "execution_count": 1,
   "metadata": {},
   "outputs": [
    {
     "data": {
      "text/plain": [
       "'C:\\\\Users\\\\ivolochkov\\\\Documents\\\\jupyter_projects\\\\web\\\\broker_info'"
      ]
     },
     "execution_count": 1,
     "metadata": {},
     "output_type": "execute_result"
    }
   ],
   "source": [
    "from open_broker_report import open_broker_report\n",
    "#file_dir=r'C:\\Users\\Kart\\jupyter_projects\\web\\broker_info'\n",
    "file_dir=r'C:\\Users\\ivolochkov\\Documents\\jupyter_projects\\web\\broker_info'\n",
    "file_dir"
   ]
  },
  {
   "cell_type": "code",
   "execution_count": 8,
   "metadata": {
    "scrolled": true
   },
   "outputs": [],
   "source": [
    "ob=open_broker_report(file_dir)#,\"_173364i_\"\n",
    "#ob._extract_title_info()\n",
    "#ob._extract_section_definition(True,True) \n",
    "#ob._extract_unified_account_totally()\n",
    "#ob._extract_unified_guarantee_totally()\n",
    "\n",
    "#ob._extract_unified_preclosing_assets()\n",
    "#ob._extract_unified_closing_assets()\n",
    "#ob._extract_spot_main_deals_conclusion()\n",
    "#ob._extract_spot_main_deals_executed()\n",
    "#ob._extract_unified_non_trade_money_operations()\n",
    "\n",
    "#ob._extract_unified_spot_non_trade_security_operations()\n",
    "#ob._extract_spot_portfolio_security_params()"
   ]
  },
  {
   "cell_type": "code",
   "execution_count": 9,
   "metadata": {
    "scrolled": true
   },
   "outputs": [],
   "source": [
    "a=ob.json_report()"
   ]
  },
  {
   "cell_type": "code",
   "execution_count": 12,
   "metadata": {},
   "outputs": [
    {
     "data": {
      "text/plain": [
       "{'asset_type_id': '1',\n",
       " 'asset_type': 'ADR',\n",
       " 'period_change_position_fact': 30.0,\n",
       " 'closing_position_fact': 30.0,\n",
       " 'price_currency': 'RUB',\n",
       " 'settlement_price': 777.5,\n",
       " 'settlement_fact_cb': 23325.0,\n",
       " 'position_weight_cb': 0.80799282,\n",
       " 'isin': 'US74735M1080',\n",
       " 'asset_name': 'iQIWI     '}"
      ]
     },
     "execution_count": 12,
     "metadata": {},
     "output_type": "execute_result"
    }
   ],
   "source": [
    "a['assets']['QIWI']"
   ]
  },
  {
   "cell_type": "code",
   "execution_count": 7,
   "metadata": {},
   "outputs": [
    {
     "data": {
      "text/plain": [
       "{'asset_type_id': '2',\n",
       " 'asset_type': 'Денежные средства',\n",
       " 'period_change_position_fact': 2218.11,\n",
       " 'closing_position_fact': 2218.11,\n",
       " 'settlement_price': 1.0,\n",
       " 'position_weight_cb': '7.499541020000000000',\n",
       " 'settlement_fact_cb': '2218.11000000'}"
      ]
     },
     "execution_count": 7,
     "metadata": {},
     "output_type": "execute_result"
    }
   ],
   "source": [
    "a['assets']['Рубль РФ']"
   ]
  },
  {
   "cell_type": "code",
   "execution_count": null,
   "metadata": {},
   "outputs": [],
   "source": [
    "a['non_trade_money_operations']"
   ]
  },
  {
   "cell_type": "code",
   "execution_count": null,
   "metadata": {},
   "outputs": [],
   "source": [
    "#ob._extract_title_info(print_raw=True)\n",
    "#ob._extract_section_definition(True,False) \n",
    "ob._extract_unified_account_totally(print_raw=True)\n",
    "#ob._extract_unified_guarantee_totally(print_raw=True)\n",
    "\n",
    "#ob._extract_unified_preclosing_assets(print_raw=True)\n",
    "#ob._extract_unified_closing_assets(print_raw=True)\n",
    "#ob._extract_spot_main_deals_conclusion(print_raw=True)\n",
    "#ob._extract_spot_main_deals_executed(print_raw=True)\n",
    "#ob._extract_unified_non_trade_money_operations(print_raw=True)\n",
    "\n",
    "#ob._extract_unified_spot_non_trade_security_operations(print_raw=True)\n",
    "#ob._extract_spot_portfolio_security_params(print_raw=True)"
   ]
  },
  {
   "cell_type": "code",
   "execution_count": null,
   "metadata": {},
   "outputs": [],
   "source": [
    "a[\"account_totally\"][\"assets_cb_value_fact\"]"
   ]
  },
  {
   "cell_type": "code",
   "execution_count": null,
   "metadata": {},
   "outputs": [],
   "source": [
    ": 'RUB',\n",
    "  '': -17.68,"
   ]
  }
 ],
 "metadata": {
  "kernelspec": {
   "display_name": "Python 3",
   "language": "python",
   "name": "python3"
  },
  "language_info": {
   "codemirror_mode": {
    "name": "ipython",
    "version": 3
   },
   "file_extension": ".py",
   "mimetype": "text/x-python",
   "name": "python",
   "nbconvert_exporter": "python",
   "pygments_lexer": "ipython3",
   "version": "3.8.8"
  }
 },
 "nbformat": 4,
 "nbformat_minor": 4
}
