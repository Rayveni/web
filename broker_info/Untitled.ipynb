{
 "cells": [
  {
   "cell_type": "code",
   "execution_count": 1,
   "metadata": {},
   "outputs": [],
   "source": [
    "from open_broker_report import open_broker_report\n",
    "file_dir=r'C:\\Users\\Kart\\jupyter_projects\\web\\broker_info'"
   ]
  },
  {
   "cell_type": "code",
   "execution_count": 2,
   "metadata": {},
   "outputs": [
    {
     "data": {
      "text/plain": [
       "'C:\\\\Users\\\\Kart\\\\jupyter_projects\\\\web\\\\broker_info'"
      ]
     },
     "execution_count": 2,
     "metadata": {},
     "output_type": "execute_result"
    }
   ],
   "source": [
    "file_dir"
   ]
  },
  {
   "cell_type": "code",
   "execution_count": 6,
   "metadata": {
    "scrolled": true
   },
   "outputs": [],
   "source": [
    "ob=open_broker_report(file_dir,\"_173364i_\")\n",
    "#ob._extract_title_info()\n",
    "#ob._extract_section_definition(True,True) \n",
    "#ob._extract_unified_account_totally()\n",
    "#ob._extract_unified_guarantee_totally()\n",
    "\n",
    "#ob._extract_unified_preclosing_assets()\n",
    "#ob._extract_unified_closing_assets()\n",
    "#ob._extract_spot_main_deals_conclusion()\n",
    "#ob._extract_spot_main_deals_executed()\n",
    "#ob._extract_unified_non_trade_money_operations()\n",
    "\n",
    "#ob._extract_unified_spot_non_trade_security_operations()\n",
    "#ob._extract_spot_portfolio_security_params()"
   ]
  },
  {
   "cell_type": "code",
   "execution_count": 9,
   "metadata": {
    "scrolled": true
   },
   "outputs": [
    {
     "data": {
      "text/plain": [
       "{'income_balance_fact': {'RUB': {'value': 0.0},\n",
       "  'text_description': 'Входящий остаток (факт)'},\n",
       " 'broker_fee_for_info': {'RUB': {'value': -1790.0},\n",
       "  'text_description': 'Вознаграждение Брокера за организацию доступа к биржевым торгам с предоставлением информации клиентам, необходимой для совершения операций и сделок'},\n",
       " 'cashflow': {'RUB': {'value': 2091410.69},\n",
       "  'USD': {'value': 346.08},\n",
       "  'text_description': 'Движение средств'},\n",
       " 'broker_repo_comission': {'RUB': {'value': -11.24},\n",
       "  'text_description': 'Комиссия Брокера за заключение Специальных сделок РЕПО'},\n",
       " 'broker_fee_for_deals': {'RUB': {'value': -1651.74},\n",
       "  'text_description': 'Комиссия Брокера/Доп. комиссия Брокера \"Сборы ТС\" за заключение сделок'},\n",
       " 'broker_loan_securities_comission': {'RUB': {'value': -0.98},\n",
       "  'text_description': 'Комиссия за сделки займа ЦБ на условиях Примерных условий сделок займа ценных бумаг'},\n",
       " 'ncd': {'RUB': {'value': -3800.12}, 'text_description': 'НКД'},\n",
       " 'repayment_ncd': {'RUB': {'value': 17644.74},\n",
       "  'text_description': 'Погашение НКД'},\n",
       " 'repayment_cb': {'RUB': {'value': 264000.0},\n",
       "  'text_description': 'Погашение ЦБ'},\n",
       " 'percents_cb_loans': {'RUB': {'value': 1.48},\n",
       "  'text_description': 'Проценты по предоставленным займам ЦБ'},\n",
       " 'securities_deals_saldo': {'RUB': {'value': -2373473.87},\n",
       "  'text_description': 'Сальдо расчётов по сделкам с ценными бумагами'},\n",
       " 'outcome_balance_fact': {'RUB': {'value': -7671.04},\n",
       "  'USD': {'value': 346.08, 'value_rub': '25332.61'},\n",
       "  'text_description': 'Исходящий остаток (факт)'},\n",
       " 'assets_cb_value_fact': {'RUB': {'value': 2886710.67},\n",
       "  'text_description': 'Оценка активов, по курсу ЦБ (факт)'},\n",
       " 'assets_cb_value_fact_plan': {'RUB': {'value': 2886710.67},\n",
       "  'text_description': 'Оценка активов, по курсу ЦБ (факт+план) (с учётом нерассчитанных сделок по ценным бумагам)'},\n",
       " 'assets_cb_value_fact_precloseday': {'RUB': {'value': 2886706.86},\n",
       "  'text_description': 'Оценка активов, по Центральному курсу (факт) (Предварительное закрытие дня)'},\n",
       " 'assets_cb_value_fact_plan_precloseday': {'RUB': {'value': 2886706.86},\n",
       "  'text_description': 'Оценка активов, по Центральному курсу (факт+план) (с учётом нерассчитанных сделок по ценным бумагам)  (Предварительное закрытие дня)'},\n",
       " 'assets_cb_value_fact_finalcloseday': {'RUB': {'value': 2886706.86},\n",
       "  'text_description': 'Оценка активов, по Центральному курсу (факт) (Итоговое закрытие дня)'},\n",
       " 'assets_cb_value_fact_plan_finalcloseday': {'RUB': {'value': 2886706.86},\n",
       "  'text_description': 'Оценка активов, по Центральному курсу (факт+план) (с учётом нерассчитанных сделок по ценным бумагам)  (Итоговое закрытие дня)'}}"
      ]
     },
     "execution_count": 9,
     "metadata": {},
     "output_type": "execute_result"
    }
   ],
   "source": [
    "ob._extract_unified_account_totally()"
   ]
  },
  {
   "cell_type": "code",
   "execution_count": 21,
   "metadata": {},
   "outputs": [],
   "source": [
    "a=ob.json_report()"
   ]
  },
  {
   "cell_type": "code",
   "execution_count": 23,
   "metadata": {},
   "outputs": [
    {
     "data": {
      "text/plain": [
       "('2018-12-03', '2021-06-22')"
      ]
     },
     "execution_count": 23,
     "metadata": {},
     "output_type": "execute_result"
    }
   ],
   "source": [
    "a['title_info']['period']"
   ]
  },
  {
   "cell_type": "code",
   "execution_count": 17,
   "metadata": {},
   "outputs": [],
   "source": [
    "b=[el for el in a if el['comment']=='Поставлены на торги средства клиента  173364']"
   ]
  },
  {
   "cell_type": "code",
   "execution_count": 18,
   "metadata": {},
   "outputs": [
    {
     "data": {
      "text/plain": [
       "[{'operation_date': '2018-12-24T00:00:00',\n",
       "  'currency_code': 'RUB',\n",
       "  'amount': 100000.0,\n",
       "  'comment': 'Поставлены на торги средства клиента  173364'},\n",
       " {'operation_date': '2019-03-11T00:00:00',\n",
       "  'currency_code': 'RUB',\n",
       "  'amount': 120000.0,\n",
       "  'comment': 'Поставлены на торги средства клиента  173364'},\n",
       " {'operation_date': '2019-04-09T00:00:00',\n",
       "  'currency_code': 'RUB',\n",
       "  'amount': 200000.0,\n",
       "  'comment': 'Поставлены на торги средства клиента  173364'},\n",
       " {'operation_date': '2019-07-08T00:00:00',\n",
       "  'currency_code': 'RUB',\n",
       "  'amount': 200000.0,\n",
       "  'comment': 'Поставлены на торги средства клиента  173364'},\n",
       " {'operation_date': '2019-09-09T00:00:00',\n",
       "  'currency_code': 'RUB',\n",
       "  'amount': 100000.0,\n",
       "  'comment': 'Поставлены на торги средства клиента  173364'},\n",
       " {'operation_date': '2019-10-14T00:00:00',\n",
       "  'currency_code': 'RUB',\n",
       "  'amount': 100000.0,\n",
       "  'comment': 'Поставлены на торги средства клиента  173364'},\n",
       " {'operation_date': '2019-12-23T00:00:00',\n",
       "  'currency_code': 'RUB',\n",
       "  'amount': 150000.0,\n",
       "  'comment': 'Поставлены на торги средства клиента  173364'},\n",
       " {'operation_date': '2020-03-03T00:00:00',\n",
       "  'currency_code': 'RUB',\n",
       "  'amount': 200000.0,\n",
       "  'comment': 'Поставлены на торги средства клиента  173364'},\n",
       " {'operation_date': '2020-03-10T00:00:00',\n",
       "  'currency_code': 'RUB',\n",
       "  'amount': 400000.0,\n",
       "  'comment': 'Поставлены на торги средства клиента  173364'},\n",
       " {'operation_date': '2020-04-29T00:00:00',\n",
       "  'currency_code': 'RUB',\n",
       "  'amount': 60000.0,\n",
       "  'comment': 'Поставлены на торги средства клиента  173364'},\n",
       " {'operation_date': '2020-06-08T00:00:00',\n",
       "  'currency_code': 'RUB',\n",
       "  'amount': 90000.0,\n",
       "  'comment': 'Поставлены на торги средства клиента  173364'},\n",
       " {'operation_date': '2020-10-05T00:00:00',\n",
       "  'currency_code': 'RUB',\n",
       "  'amount': 200000.0,\n",
       "  'comment': 'Поставлены на торги средства клиента  173364'}]"
      ]
     },
     "execution_count": 18,
     "metadata": {},
     "output_type": "execute_result"
    }
   ],
   "source": [
    "b"
   ]
  },
  {
   "cell_type": "code",
   "execution_count": 5,
   "metadata": {},
   "outputs": [
    {
     "ename": "AttributeError",
     "evalue": "'NoneType' object has no attribute 'getchildren'",
     "output_type": "error",
     "traceback": [
      "\u001b[1;31m---------------------------------------------------------------------------\u001b[0m",
      "\u001b[1;31mAttributeError\u001b[0m                            Traceback (most recent call last)",
      "\u001b[1;32m<ipython-input-5-7cc339d91b98>\u001b[0m in \u001b[0;36m<module>\u001b[1;34m\u001b[0m\n\u001b[0;32m      1\u001b[0m \u001b[1;31m#ob._extract_title_info(print_raw=True)\u001b[0m\u001b[1;33m\u001b[0m\u001b[1;33m\u001b[0m\u001b[1;33m\u001b[0m\u001b[0m\n\u001b[0;32m      2\u001b[0m \u001b[1;31m#ob._extract_section_definition(True,False)\u001b[0m\u001b[1;33m\u001b[0m\u001b[1;33m\u001b[0m\u001b[1;33m\u001b[0m\u001b[0m\n\u001b[1;32m----> 3\u001b[1;33m \u001b[0mob\u001b[0m\u001b[1;33m.\u001b[0m\u001b[0m_extract_unified_account_totally\u001b[0m\u001b[1;33m(\u001b[0m\u001b[0mprint_raw\u001b[0m\u001b[1;33m=\u001b[0m\u001b[1;32mTrue\u001b[0m\u001b[1;33m)\u001b[0m\u001b[1;33m\u001b[0m\u001b[1;33m\u001b[0m\u001b[0m\n\u001b[0m\u001b[0;32m      4\u001b[0m \u001b[1;31m#ob._extract_unified_guarantee_totally(print_raw=True)\u001b[0m\u001b[1;33m\u001b[0m\u001b[1;33m\u001b[0m\u001b[1;33m\u001b[0m\u001b[0m\n\u001b[0;32m      5\u001b[0m \u001b[1;33m\u001b[0m\u001b[0m\n",
      "\u001b[1;32m~\\jupyter_projects\\web\\broker_info\\open_broker_report.py\u001b[0m in \u001b[0;36m_extract_unified_account_totally\u001b[1;34m(self, print_raw)\u001b[0m\n\u001b[0;32m    130\u001b[0m         \u001b[1;32melse\u001b[0m\u001b[1;33m:\u001b[0m\u001b[1;33m\u001b[0m\u001b[1;33m\u001b[0m\u001b[0m\n\u001b[0;32m    131\u001b[0m             \u001b[0md_keys\u001b[0m\u001b[1;33m,\u001b[0m\u001b[0mfloat_keys\u001b[0m\u001b[1;33m=\u001b[0m\u001b[1;33m[\u001b[0m\u001b[1;34m'row_name'\u001b[0m\u001b[1;33m,\u001b[0m\u001b[1;34m'currency'\u001b[0m\u001b[1;33m]\u001b[0m\u001b[1;33m,\u001b[0m\u001b[1;33m[\u001b[0m\u001b[1;34m'value'\u001b[0m\u001b[1;33m]\u001b[0m\u001b[1;33m\u001b[0m\u001b[1;33m\u001b[0m\u001b[0m\n\u001b[1;32m--> 132\u001b[1;33m         \u001b[0m_d\u001b[0m\u001b[1;33m=\u001b[0m\u001b[0mself\u001b[0m\u001b[1;33m.\u001b[0m\u001b[0m__children_to_dict\u001b[0m\u001b[1;33m(\u001b[0m\u001b[1;34m'unified_account_totally'\u001b[0m\u001b[1;33m,\u001b[0m\u001b[0md_keys\u001b[0m\u001b[1;33m=\u001b[0m\u001b[0md_keys\u001b[0m\u001b[1;33m,\u001b[0m\u001b[0mfloat_keys\u001b[0m\u001b[1;33m=\u001b[0m\u001b[0mfloat_keys\u001b[0m\u001b[1;33m)\u001b[0m\u001b[1;33m\u001b[0m\u001b[1;33m\u001b[0m\u001b[0m\n\u001b[0m\u001b[0;32m    133\u001b[0m         \u001b[1;32mif\u001b[0m \u001b[0mprint_raw\u001b[0m\u001b[1;33m:\u001b[0m\u001b[1;33m\u001b[0m\u001b[1;33m\u001b[0m\u001b[0m\n\u001b[0;32m    134\u001b[0m             \u001b[1;32mreturn\u001b[0m \u001b[0m_d\u001b[0m\u001b[1;33m\u001b[0m\u001b[1;33m\u001b[0m\u001b[0m\n",
      "\u001b[1;32m~\\jupyter_projects\\web\\broker_info\\open_broker_report.py\u001b[0m in \u001b[0;36m__children_to_dict\u001b[1;34m(self, node_name, d_keys, print_uniq_keys, float_keys)\u001b[0m\n\u001b[0;32m     33\u001b[0m             \u001b[0mres\u001b[0m\u001b[1;33m=\u001b[0m\u001b[1;33m[\u001b[0m\u001b[1;33m]\u001b[0m\u001b[1;33m\u001b[0m\u001b[1;33m\u001b[0m\u001b[0m\n\u001b[0;32m     34\u001b[0m \u001b[1;33m\u001b[0m\u001b[0m\n\u001b[1;32m---> 35\u001b[1;33m         \u001b[1;32mfor\u001b[0m \u001b[0m_el\u001b[0m \u001b[1;32min\u001b[0m \u001b[0mself\u001b[0m\u001b[1;33m.\u001b[0m\u001b[0mroot\u001b[0m\u001b[1;33m.\u001b[0m\u001b[0mfind\u001b[0m\u001b[1;33m(\u001b[0m\u001b[0mnode_name\u001b[0m\u001b[1;33m)\u001b[0m\u001b[1;33m.\u001b[0m\u001b[0mgetchildren\u001b[0m\u001b[1;33m(\u001b[0m\u001b[1;33m)\u001b[0m\u001b[1;33m:\u001b[0m\u001b[1;33m\u001b[0m\u001b[1;33m\u001b[0m\u001b[0m\n\u001b[0m\u001b[0;32m     36\u001b[0m             \u001b[0m_d_el\u001b[0m\u001b[1;33m=\u001b[0m\u001b[0mdict\u001b[0m\u001b[1;33m(\u001b[0m\u001b[0m_el\u001b[0m\u001b[1;33m.\u001b[0m\u001b[0mitems\u001b[0m\u001b[1;33m(\u001b[0m\u001b[1;33m)\u001b[0m\u001b[1;33m)\u001b[0m\u001b[1;33m\u001b[0m\u001b[1;33m\u001b[0m\u001b[0m\n\u001b[0;32m     37\u001b[0m             \u001b[0m_d_el_keys\u001b[0m\u001b[1;33m=\u001b[0m\u001b[0m_d_el\u001b[0m\u001b[1;33m.\u001b[0m\u001b[0mkeys\u001b[0m\u001b[1;33m(\u001b[0m\u001b[1;33m)\u001b[0m\u001b[1;33m\u001b[0m\u001b[1;33m\u001b[0m\u001b[0m\n",
      "\u001b[1;31mAttributeError\u001b[0m: 'NoneType' object has no attribute 'getchildren'"
     ]
    }
   ],
   "source": [
    "#ob._extract_title_info(print_raw=True)\n",
    "#ob._extract_section_definition(True,False) \n",
    "ob._extract_unified_account_totally(print_raw=True)\n",
    "#ob._extract_unified_guarantee_totally(print_raw=True)\n",
    "\n",
    "#ob._extract_unified_preclosing_assets(print_raw=True)\n",
    "#ob._extract_unified_closing_assets(print_raw=True)\n",
    "#ob._extract_spot_main_deals_conclusion(print_raw=True)\n",
    "#ob._extract_spot_main_deals_executed(print_raw=True)\n",
    "#ob._extract_unified_non_trade_money_operations(print_raw=True)\n",
    "\n",
    "#ob._extract_unified_spot_non_trade_security_operations(print_raw=True)\n",
    "#ob._extract_spot_portfolio_security_params(print_raw=True)"
   ]
  },
  {
   "cell_type": "code",
   "execution_count": null,
   "metadata": {},
   "outputs": [],
   "source": [
    "    def __json_report(self,report=False):\n",
    "        res={}\n",
    "        res['title_info']=self._extract_title_info()\n",
    "        res['section_definition']=self._extract_section_definition(True,True) \n",
    "        \n",
    "        res['spot_main_deals_conclusion']=self._extract_spot_main_deals_conclusion()\n",
    "        res['spot_main_deals_executed']=self._extract_spot_main_deals_executed()\n",
    "\n",
    "        res['spot_portfolio_security_params']=self._extract_spot_portfolio_security_params()\n",
    "        \n",
    "        if res['title_info']['agreement']['dgvr']=='Договор на ведение индивидуального инвестиционного счета: ':\n",
    "            res['account_totally']=self._extract_spot_account_totally()\n",
    "            res['unified_closing_assets']=self._extract_spot_preclosing_assets()\n",
    "            res['closing_assets']=self._extract_spot_assets()       \n",
    "            res['non_trade_money_operations']=self._extract_spot_non_trade_money_operations()       \n",
    "            return res\n",
    "\n",
    "        res['account_totally']=self._extract_unified_account_totally()\n",
    "        res['guarantee_totally']=self._extract_unified_guarantee_totally()\n",
    "        res['non_trade_money_operations']=self._extract_unified_non_trade_money_operations()        \n",
    "        res['preclosing_assets']=self._extract_unified_preclosing_assets()\n",
    "        res['closing_assets']=self._extract_unified_closing_assets()        \n",
    "        res['spot_non_trade_security_operations']=self._extract_unified_spot_non_trade_security_operations()\n",
    "\n",
    "        return res\n",
    "    \n",
    "    def json_report(self,full_report:bool=False):\n",
    "        report=self.__json_report()\n",
    "        if not full_report:\n",
    "            small_report={'period':report['title_info']['period'],\n",
    "                          'assets_cb_value':report[\"account_totally\"][\"assets_cb_value_fact\"],\n",
    "                          \n",
    "                \n",
    "                            }\n",
    "            \n",
    "            pass\n",
    "        return report"
   ]
  },
  {
   "cell_type": "code",
   "execution_count": 27,
   "metadata": {},
   "outputs": [
    {
     "data": {
      "text/plain": [
       "{'RUB': {'value': 2886710.67},\n",
       " 'text_description': 'Оценка активов, по курсу ЦБ (факт)'}"
      ]
     },
     "execution_count": 27,
     "metadata": {},
     "output_type": "execute_result"
    }
   ],
   "source": [
    "a[\"account_totally\"][\"assets_cb_value_fact\"]"
   ]
  },
  {
   "cell_type": "code",
   "execution_count": null,
   "metadata": {},
   "outputs": [],
   "source": []
  }
 ],
 "metadata": {
  "kernelspec": {
   "display_name": "Python 3",
   "language": "python",
   "name": "python3"
  },
  "language_info": {
   "codemirror_mode": {
    "name": "ipython",
    "version": 3
   },
   "file_extension": ".py",
   "mimetype": "text/x-python",
   "name": "python",
   "nbconvert_exporter": "python",
   "pygments_lexer": "ipython3",
   "version": "3.8.3"
  }
 },
 "nbformat": 4,
 "nbformat_minor": 4
}
