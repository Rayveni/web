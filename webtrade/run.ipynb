{
 "cells": [
  {
   "cell_type": "code",
   "execution_count": null,
   "metadata": {},
   "outputs": [],
   "source": [
    "import sys\n",
    "import os\n",
    "from src import app\n",
    "from gevent import monkey,pywsgi\n",
    "CURRENT_DIR = os.getcwd()\n",
    "sys.path.insert(0, CURRENT_DIR)"
   ]
  },
  {
   "cell_type": "code",
   "execution_count": null,
   "metadata": {
    "scrolled": true
   },
   "outputs": [
    {
     "name": "stderr",
     "output_type": "stream",
     "text": [
      "127.0.0.1 - - [2020-03-08 20:22:35] \"GET /upload_jobs HTTP/1.1\" 200 7015 0.024063\n",
      "127.0.0.1 - - [2020-03-08 20:22:35] \"GET /static/vendor/fontawesome-free/css/all.min.css HTTP/1.1\" 200 57493 0.002006\n",
      "127.0.0.1 - - [2020-03-08 20:22:35] \"GET /static/css/template.css HTTP/1.1\" 200 16644 0.002006\n",
      "127.0.0.1 - - [2020-03-08 20:22:35] \"GET /static/css/mycss.css HTTP/1.1\" 200 2125 0.002005\n",
      "127.0.0.1 - - [2020-03-08 20:22:35] \"GET /static/vendor/jquery/jquery-3.4.1.slim.min.js HTTP/1.1\" 200 88470 0.001971\n",
      "127.0.0.1 - - [2020-03-08 20:22:35] \"GET /static/vendor/jquery/popper.min.js HTTP/1.1\" 200 21584 0.002011\n",
      "127.0.0.1 - - [2020-03-08 20:22:35] \"GET /static/vendor/bootstrsap4/bootstrap.min.js HTTP/1.1\" 200 60337 0.002011\n",
      "127.0.0.1 - - [2020-03-08 20:22:35] \"GET /static/js/template.js HTTP/1.1\" 200 1194 0.002004\n",
      "127.0.0.1 - - [2020-03-08 20:22:36] \"GET /static/vendor/fontawesome-free/webfonts/fa-solid-900.woff2 HTTP/1.1\" 200 76394 0.002005\n",
      "127.0.0.1 - - [2020-03-08 20:22:36] \"GET /static/vendor/fontawesome-free/webfonts/fa-brands-400.woff2 HTTP/1.1\" 200 76246 0.003008\n",
      "127.0.0.1 - - [2020-03-08 20:22:36] \"GET /static/favicon-16x16.png HTTP/1.1\" 200 663 0.002005\n"
     ]
    },
    {
     "name": "stdout",
     "output_type": "stream",
     "text": [
      "1111\n"
     ]
    },
    {
     "name": "stderr",
     "output_type": "stream",
     "text": [
      "127.0.0.1 - - [2020-03-08 20:23:49] \"GET /run_job/job_world_fond_indexes?report_job_world_fond_indexes=%D0%9E%D0%B1%D0%BD%D0%BE%D0%B2%D0%B8%D1%82%D1%8C%21 HTTP/1.1\" 302 547 70.163001\n",
      "127.0.0.1 - - [2020-03-08 20:23:49] \"GET /upload_jobs HTTP/1.1\" 200 7390 0.002024\n"
     ]
    },
    {
     "name": "stdout",
     "output_type": "stream",
     "text": [
      "1111\n"
     ]
    },
    {
     "name": "stderr",
     "output_type": "stream",
     "text": [
      "127.0.0.1 - - [2020-03-08 20:27:25] \"GET /run_job/job_world_fond_indexes?report_job_world_fond_indexes=%D0%9E%D0%B1%D0%BD%D0%BE%D0%B2%D0%B8%D1%82%D1%8C%21 HTTP/1.1\" 302 547 68.210114\n",
      "127.0.0.1 - - [2020-03-08 20:27:25] \"GET /upload_jobs HTTP/1.1\" 200 7390 0.003505\n"
     ]
    }
   ],
   "source": [
    "monkey.patch_all(thread=False)\n",
    "server = pywsgi.WSGIServer(('127.0.0.2', 5000), app)\n",
    "#app.debug = Trueee\n",
    "server.serve_forever()\n",
    "#http://127.0.0.2:5000/"
   ]
  },
  {
   "cell_type": "code",
   "execution_count": null,
   "metadata": {
    "collapsed": true
   },
   "outputs": [],
   "source": [
    "import mygit as mg\n",
    "from pathlib import Path\n",
    "import os\n",
    "folder=os.path.abspath('{}/..'.format(os.getcwd()))\n",
    "#folder=Path(folder).parent\n",
    "git_url='git@github.com:Rayveni/web.git'\n",
    "gt=mg.gitwrapper(folder)\n",
    "#gt.pyignore()\n",
    "#git reset --hard origin/master gt.pull()\n",
    "gt.push_commit(git_url,commit_msg='update')"
   ]
  },
  {
   "cell_type": "code",
   "execution_count": null,
   "metadata": {
    "collapsed": true
   },
   "outputs": [],
   "source": [
    "from jobs import job_sl_bonds\n",
    "from db_drivers import mongo_manager\n",
    "cfg={\"driver\": \"mongo\", \"db_name\": \"trade\", \"host\": \"localhost\",\n",
    "     \"port\": 27017, \"user\": \"\", \"user_pswd\": \"\", \"mongo_data\": \"C:\\\\Users\\\\DB\"}\n",
    "\n",
    "a=job_sl_bonds(cfg)"
   ]
  },
  {
   "cell_type": "code",
   "execution_count": null,
   "metadata": {},
   "outputs": [],
   "source": [
    "%%time\n",
    "from sys import path\n",
    "import os\n",
    "path.append(os.path.join(os.getcwd(),'src'))\n",
    "\n",
    "from commons import convert_file_size,init_db_manager\n",
    "from jobs import *\n",
    "#a=job_world_fond_indexes(init_db_manager())"
   ]
  },
  {
   "cell_type": "code",
   "execution_count": null,
   "metadata": {},
   "outputs": [],
   "source": [
    "from datetime import datetime\n",
    "datetime.now().year"
   ]
  },
  {
   "cell_type": "code",
   "execution_count": null,
   "metadata": {
    "collapsed": true
   },
   "outputs": [],
   "source": [
    "from sys import path\n",
    "path.append(r\"C:\\Users\\Kart\\jupyter_projects\\webtrade\\webtrade\\external_sources\")\n",
    "\n",
    "from external_sources import mosex,tradingview\n",
    "import pandas as pd\n",
    "a=mosex()\n",
    "a=tradingview()"
   ]
  },
  {
   "cell_type": "code",
   "execution_count": null,
   "metadata": {
    "collapsed": true
   },
   "outputs": [],
   "source": [
    "if len(history_manager)=={}:\n",
    "    pass\n",
    "else:\n",
    "    'разделяем на новые и старые'\n",
    "    для старых считаем последние 3 года\n",
    "    для новых- все\n",
    "    update таблиц"
   ]
  }
 ],
 "metadata": {
  "kernelspec": {
   "display_name": "Python 3",
   "language": "python",
   "name": "python3"
  },
  "language_info": {
   "codemirror_mode": {
    "name": "ipython",
    "version": 3
   },
   "file_extension": ".py",
   "mimetype": "text/x-python",
   "name": "python",
   "nbconvert_exporter": "python",
   "pygments_lexer": "ipython3",
   "version": "3.7.4"
  }
 },
 "nbformat": 4,
 "nbformat_minor": 2
}
