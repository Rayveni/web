{
 "cells": [
  {
   "cell_type": "code",
   "execution_count": 7,
   "metadata": {},
   "outputs": [],
   "source": [
    "import sys\n",
    "import os\n",
    "from src import app\n",
    "from gevent import monkey,pywsgi\n",
    "CURRENT_DIR = os.getcwd()\n",
    "sys.path.insert(0, CURRENT_DIR)"
   ]
  },
  {
   "cell_type": "code",
   "execution_count": null,
   "metadata": {
    "scrolled": true
   },
   "outputs": [
    {
     "name": "stderr",
     "output_type": "stream",
     "text": [
      "127.0.0.1 - - [2020-08-13 11:16:48] \"GET /upload_jobs HTTP/1.1\" 200 7827 0.028075\n",
      "127.0.0.1 - - [2020-08-13 11:16:48] \"GET /static/favicon-16x16.png HTTP/1.1\" 200 641 0.002506\n",
      "127.0.0.1 - - [2020-08-13 11:18:03] \"POST /run_job/all HTTP/1.1\" 302 561 69.990161\n",
      "127.0.0.1 - - [2020-08-13 11:18:03] \"GET /upload_jobs HTTP/1.1\" 200 8172 0.002505\n"
     ]
    }
   ],
   "source": [
    "#monkey.patch_all(thread=False,select=False)\n",
    "server = pywsgi.WSGIServer(('127.0.0.2', 5000), app)\n",
    "#app.debug = Trueee\n",
    "server.serve_forever()\n",
    "#http://127.0.0.2:5000/"
   ]
  },
  {
   "cell_type": "code",
   "execution_count": null,
   "metadata": {},
   "outputs": [],
   "source": [
    "230 *0.87"
   ]
  },
  {
   "cell_type": "code",
   "execution_count": null,
   "metadata": {},
   "outputs": [],
   "source": [
    "from jobs import job_sl_bonds\n",
    "from db_drivers import mongo_manager\n",
    "cfg={\"driver\": \"mongo\", \"db_name\": \"trade\", \"host\": \"localhost\",\n",
    "     \"port\": 27017, \"user\": \"\", \"user_pswd\": \"\", \"mongo_data\": \"C:\\\\Users\\\\DB\"}\n",
    "\n",
    "a=job_sl_bonds(cfg)"
   ]
  },
  {
   "cell_type": "code",
   "execution_count": 2,
   "metadata": {},
   "outputs": [
    {
     "name": "stdout",
     "output_type": "stream",
     "text": [
      "Wall time: 669 ms\n"
     ]
    }
   ],
   "source": [
    "%%time\n",
    "from sys import path\n",
    "from datetime import datetime\n",
    "import os\n",
    "path.append(os.path.join(os.getcwd(),'src'))\n",
    "\n",
    "from commons import convert_file_size,init_db_manager\n",
    "from jobs import *\n",
    "#a=job_world_fond_indexes(init_db_manager())"
   ]
  },
  {
   "cell_type": "code",
   "execution_count": 6,
   "metadata": {},
   "outputs": [],
   "source": [
    "a=job_sectors(init_db_manager())"
   ]
  },
  {
   "cell_type": "code",
   "execution_count": null,
   "metadata": {},
   "outputs": [],
   "source": [
    "db=init_db_manager()\n",
    "a=db.get_table('mosex_securities',result='matrix')"
   ]
  },
  {
   "cell_type": "code",
   "execution_count": null,
   "metadata": {},
   "outputs": [],
   "source": [
    "from sys import path\n",
    "path.append(r\"C:\\Users\\Kart\\jupyter_projects\\webtrade\\webtrade\\external_sources\")\n",
    "\n",
    "from external_sources import mosex,tradingview\n",
    "import pandas as pd\n",
    "a=mosex()\n",
    "a=tradingview()"
   ]
  },
  {
   "cell_type": "code",
   "execution_count": null,
   "metadata": {},
   "outputs": [],
   "source": [
    "\n",
    "aa=a.security_hist('SBER')"
   ]
  },
  {
   "cell_type": "code",
   "execution_count": null,
   "metadata": {},
   "outputs": [],
   "source": [
    "aa=a.rus_security_sector()"
   ]
  },
  {
   "cell_type": "code",
   "execution_count": null,
   "metadata": {},
   "outputs": [],
   "source": [
    "aa"
   ]
  },
  {
   "cell_type": "code",
   "execution_count": null,
   "metadata": {},
   "outputs": [],
   "source": [
    "aa.json()['history.cursor']"
   ]
  },
  {
   "cell_type": "code",
   "execution_count": null,
   "metadata": {},
   "outputs": [],
   "source": [
    "columns= ['DATESTAMP', 'INSTRUMENT_ID', 'LIST_SECTION','SUPERTYPE', 'INSTRUMENT_TYPE', 'INSTRUMENT_CATEGORY', 'TRADE_CODE', 'ISIN', 'REGISTRY_NUMBER', 'REGISTRY_DATE', 'EMITENT_FULL_NAME', 'INN', 'NOMINAL', 'CURRENCY', 'ISSUE_AMOUNT', 'DECISION_DATE', 'OKSM_EDR', 'ONLY_EMITENT_FULL_NAME', 'REG_COUNTRY', 'QUALIFIED_INVESTOR', 'HAS_PROSPECTUS', 'IS_CONCESSION_AGREEMENT', 'IS_MORTGAGE_AGENT', 'INCLUDED_DURING_CREATION', 'SECURITY_HAS_DEFAULT', 'SECURITY_HAS_TECH_DEFAULT', 'INCLUDED_WITHOUT_COMPLIANCE', 'RETAINED_WITHOUT_COMPLIANCE', 'HAS_RESTRICTION_CIRCULATION', 'LISTING_LEVEL_HIST', 'OBLIGATION_PROGRAM_RN', 'COUPON_PERCENT', 'EARLY_REPAYMENT', 'EARLY_REDEMPTION', 'ISS_BOARDS', 'OTHER_SECURITIES', 'DISCLOSURE_PART_PAGE', 'DISCLOSURE_RF_INFO_PAGE']\n",
    "\n",
    "upload_arr=[[*list(v.values)] for i,v in aa[columns].iterrows()]"
   ]
  },
  {
   "cell_type": "code",
   "execution_count": null,
   "metadata": {},
   "outputs": [],
   "source": [
    "upload_arr[1]"
   ]
  },
  {
   "cell_type": "code",
   "execution_count": null,
   "metadata": {},
   "outputs": [],
   "source": [
    "%%time\n",
    "a=job_sectors(init_db_manager())"
   ]
  },
  {
   "cell_type": "code",
   "execution_count": null,
   "metadata": {},
   "outputs": [],
   "source": [
    "    def parse_sector(self,sector_url,session) :\n",
    "        try:\n",
    "            _sector_url=self.url+sector_url\n",
    "            page=session.get(_sector_url)   \n",
    "\n",
    "            doc = lh.fromstring(page.content)\n",
    "            table_body = doc.xpath('//tbody[@class=\"tv-data-table__tbody\"]')[0]\n",
    "            r=[]\n",
    "            for row  in table_body.getchildren():\n",
    "                _list=row[0].text_content().split('\\t')[20:]\n",
    "                _extract=[]\n",
    "                for el in _list:\n",
    "                    _el=self.__transform_str(el)\n",
    "                    if len(_el)>0:\n",
    "                        _extract.append(_el)\n",
    "                r.append([*_extract,row[4].text_content()])              \n",
    "        except:\n",
    "            return (False,)\n",
    "                \n",
    "        return (True,(sector_url,r))"
   ]
  }
 ],
 "metadata": {
  "kernelspec": {
   "display_name": "Python 3",
   "language": "python",
   "name": "python3"
  },
  "language_info": {
   "codemirror_mode": {
    "name": "ipython",
    "version": 3
   },
   "file_extension": ".py",
   "mimetype": "text/x-python",
   "name": "python",
   "nbconvert_exporter": "python",
   "pygments_lexer": "ipython3",
   "version": "3.8.3"
  }
 },
 "nbformat": 4,
 "nbformat_minor": 2
}
