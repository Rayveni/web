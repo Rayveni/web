{
 "cells": [
  {
   "cell_type": "code",
   "execution_count": 1,
   "metadata": {
    "scrolled": true
   },
   "outputs": [],
   "source": [
    "import sys\n",
    "import os\n",
    "from src import app\n",
    "from gevent import monkey,pywsgi\n",
    "CURRENT_DIR = os.getcwd()\n",
    "sys.path.insert(0, CURRENT_DIR)"
   ]
  },
  {
   "cell_type": "code",
   "execution_count": null,
   "metadata": {
    "scrolled": false
   },
   "outputs": [
    {
     "name": "stderr",
     "output_type": "stream",
     "text": [
      "127.0.0.1 - - [2021-07-15 10:03:29] \"GET /upload_jobs HTTP/1.1\" 200 7812 0.031912\n",
      "127.0.0.1 - - [2021-07-15 10:03:29] \"GET /static/vendor/fontawesome-free/css/all.min.css HTTP/1.1\" 200 57471 0.004068\n",
      "127.0.0.1 - - [2021-07-15 10:03:29] \"GET /static/css/template.css HTTP/1.1\" 200 16699 0.002147\n",
      "127.0.0.1 - - [2021-07-15 10:03:29] \"GET /static/css/mycss.css HTTP/1.1\" 200 2488 0.002303\n",
      "127.0.0.1 - - [2021-07-15 10:03:29] \"GET /static/vendor/jquery/jquery-3.4.1.slim.min.js HTTP/1.1\" 200 88448 0.002989\n",
      "127.0.0.1 - - [2021-07-15 10:03:29] \"GET /static/vendor/jquery/popper.min.js HTTP/1.1\" 200 21563 0.003997\n",
      "127.0.0.1 - - [2021-07-15 10:03:29] \"GET /static/vendor/bootstrsap4/bootstrap.min.js HTTP/1.1\" 200 60317 0.002357\n",
      "127.0.0.1 - - [2021-07-15 10:03:29] \"GET /static/js/template.js HTTP/1.1\" 200 1713 0.003078\n",
      "127.0.0.1 - - [2021-07-15 10:03:29] \"GET /static/vendor/fontawesome-free/webfonts/fa-solid-900.woff2 HTTP/1.1\" 200 76372 0.005068\n",
      "127.0.0.1 - - [2021-07-15 10:03:29] \"GET /static/vendor/fontawesome-free/webfonts/fa-brands-400.woff2 HTTP/1.1\" 200 76224 0.004403\n",
      "127.0.0.1 - - [2021-07-15 10:03:30] \"GET /static/favicon-16x16.png HTTP/1.1\" 200 641 0.003003\n",
      "127.0.0.1 - - [2021-07-15 10:03:32] \"GET / HTTP/1.1\" 200 8392 0.004047\n",
      "127.0.0.1 - - [2021-07-15 10:03:32] \"GET /static/vendor/fontawesome-free/webfonts/fa-regular-400.woff2 HTTP/1.1\" 200 13863 0.002991\n",
      "127.0.0.1 - - [2021-07-15 10:03:32] \"POST /query_data?view_id=open_broker_report&params=_173364_ HTTP/1.1\" 200 8489 0.034804\n",
      "127.0.0.1 - - [2021-07-15 10:03:32] \"POST /query_data?view_id=open_broker_report&params=_173364i_ HTTP/1.1\" 200 992 0.009764\n",
      "127.0.0.1 - - [2021-07-15 10:03:32] \"POST /query_data?view_id=open_broker_report&params=_173364_ HTTP/1.1\" 200 8489 0.018428\n",
      "127.0.0.1 - - [2021-07-15 10:03:32] \"POST /query_data?view_id=open_broker_report&params=_173364i_ HTTP/1.1\" 200 992 0.007616\n",
      "127.0.0.1 - - [2021-07-15 10:03:32] \"POST /query_data?table=sec_sector&noconvert=1 HTTP/1.1\" 200 3957 0.019257\n",
      "127.0.0.1 - - [2021-07-15 10:07:20] \"GET / HTTP/1.1\" 200 8392 0.000921\n",
      "127.0.0.1 - - [2021-07-15 10:07:20] \"GET /static/vendor/fontawesome-free/css/all.min.css HTTP/1.1\" 200 57471 0.003356\n",
      "127.0.0.1 - - [2021-07-15 10:07:20] \"GET /static/css/d3_chart.css HTTP/1.1\" 200 1748 0.003153\n",
      "127.0.0.1 - - [2021-07-15 10:07:20] \"GET /static/css/handsontable.full.min.css HTTP/1.1\" 200 33270 0.002961\n",
      "127.0.0.1 - - [2021-07-15 10:07:20] \"GET /static/css/template.css HTTP/1.1\" 200 16699 0.002000\n",
      "127.0.0.1 - - [2021-07-15 10:07:20] \"GET /static/css/mycss.css HTTP/1.1\" 200 2488 0.003000\n",
      "127.0.0.1 - - [2021-07-15 10:07:20] \"GET /static/vendor/bootstrsap4/bootstrap.min.js HTTP/1.1\" 200 60317 0.002001\n",
      "127.0.0.1 - - [2021-07-15 10:07:20] \"GET /static/js/template.js HTTP/1.1\" 200 1713 0.002013\n",
      "127.0.0.1 - - [2021-07-15 10:07:20] \"GET /static/vendor/jquery/jquery-3.4.1.slim.min.js HTTP/1.1\" 200 88448 0.002590\n",
      "127.0.0.1 - - [2021-07-15 10:07:20] \"GET /static/vendor/jquery/popper.min.js HTTP/1.1\" 200 21563 0.003426\n",
      "127.0.0.1 - - [2021-07-15 10:07:20] \"GET /static/vendor/d3/d3.v5.min.js HTTP/1.1\" 200 248619 0.005599\n",
      "127.0.0.1 - - [2021-07-15 10:07:20] \"GET /static/js/index.js HTTP/1.1\" 200 9722 0.001098\n",
      "127.0.0.1 - - [2021-07-15 10:07:20] \"GET /static/vendor/handsontable/handsontable.full.min.js HTTP/1.1\" 200 2207667 0.020118\n",
      "127.0.0.1 - - [2021-07-15 10:07:20] \"GET /static/js/gen_table.js HTTP/1.1\" 200 2004 0.003000\n",
      "127.0.0.1 - - [2021-07-15 10:07:20] \"GET /static/js/ajax_get_data.js HTTP/1.1\" 200 838 0.000999\n",
      "127.0.0.1 - - [2021-07-15 10:07:20] \"GET /static/vendor/fontawesome-free/webfonts/fa-brands-400.woff2 HTTP/1.1\" 200 76224 0.002002\n",
      "127.0.0.1 - - [2021-07-15 10:07:20] \"GET /static/vendor/fontawesome-free/webfonts/fa-solid-900.woff2 HTTP/1.1\" 200 76372 0.002000\n",
      "127.0.0.1 - - [2021-07-15 10:07:20] \"GET /static/vendor/fontawesome-free/webfonts/fa-regular-400.woff2 HTTP/1.1\" 200 13863 0.002517\n",
      "127.0.0.1 - - [2021-07-15 10:07:21] \"POST /query_data?view_id=open_broker_report&params=_173364_ HTTP/1.1\" 200 8489 0.018516\n",
      "127.0.0.1 - - [2021-07-15 10:07:21] \"POST /query_data?view_id=open_broker_report&params=_173364i_ HTTP/1.1\" 200 992 0.008016\n",
      "127.0.0.1 - - [2021-07-15 10:07:21] \"POST /query_data?view_id=open_broker_report&params=_173364_ HTTP/1.1\" 200 8489 0.019409\n",
      "127.0.0.1 - - [2021-07-15 10:07:21] \"POST /query_data?view_id=open_broker_report&params=_173364i_ HTTP/1.1\" 200 992 0.006085\n",
      "127.0.0.1 - - [2021-07-15 10:07:21] \"POST /query_data?table=sec_sector&noconvert=1 HTTP/1.1\" 200 3957 0.015998\n",
      "127.0.0.1 - - [2021-07-15 10:07:21] \"GET /static/favicon-16x16.png HTTP/1.1\" 200 641 0.001925\n",
      "127.0.0.1 - - [2021-07-15 10:07:23] \"GET /upload_jobs HTTP/1.1\" 200 7812 0.004001\n"
     ]
    }
   ],
   "source": [
    "#monkey.patch_all(thread=False,select=False)\n",
    "server = pywsgi.WSGIServer(('127.0.0.2', 5000), app)\n",
    "#app.debug = Trueee\n",
    "server.serve_forever()\n",
    "#http://127.0.0.2:5000/"
   ]
  },
  {
   "cell_type": "code",
   "execution_count": null,
   "metadata": {},
   "outputs": [],
   "source": [
    "from jobs import job_sl_bonds\n",
    "from db_drivers import mongo_manager\n",
    "cfg={\"driver\": \"mongo\", \"db_name\": \"trade\", \"host\": \"localhost\",\n",
    "     \"port\": 27017, \"user\": \"\", \"user_pswd\": \"\", \"mongo_data\": \"C:\\\\Users\\\\DB\"}\n",
    "\n",
    "a=job_sl_bonds(cfg)"
   ]
  },
  {
   "cell_type": "code",
   "execution_count": null,
   "metadata": {},
   "outputs": [],
   "source": [
    "%%time\n",
    "from sys import path\n",
    "from datetime import datetime\n",
    "import os\n",
    "path.append(os.path.join(os.getcwd(),'src'))\n",
    "\n",
    "from commons import convert_file_size,init_db_manager\n",
    "import pandas as pd\n",
    "from jobs import *\n",
    "#a=job_world_fond_indexes(init_db_manager())"
   ]
  },
  {
   "cell_type": "code",
   "execution_count": null,
   "metadata": {},
   "outputs": [],
   "source": [
    "a=job_sectors(init_db_manager())"
   ]
  },
  {
   "cell_type": "code",
   "execution_count": null,
   "metadata": {},
   "outputs": [],
   "source": [
    "db=init_db_manager()\n",
    "a=db.get_table('sec_sector',result='json')\n",
    "#a=job_update_sec_hist(init_db_manager())"
   ]
  },
  {
   "cell_type": "code",
   "execution_count": null,
   "metadata": {},
   "outputs": [],
   "source": [
    "for row in db.get_table_cursor('sec_sector',query={'ticker': ['IRKT','RKKE']}):\n",
    "    print(list(row.values()))"
   ]
  },
  {
   "cell_type": "code",
   "execution_count": null,
   "metadata": {},
   "outputs": [],
   "source": [
    "for row in db.db['sec_sector'].find({'ticker':{'$in': ['IRKT','RKKE']}}):\n",
    "    print(row)"
   ]
  },
  {
   "cell_type": "code",
   "execution_count": null,
   "metadata": {},
   "outputs": [],
   "source": [
    "db.get_table('sec_sector',query={'ticker':{'$in': ['IRKT','RKKE']}},dict_key=\"ticker\",result='dict',columns=['action',\n",
    "                                                                                                             'industry',\n",
    "                                                                                                             'sector','ticker'])\n"
   ]
  },
  {
   "cell_type": "code",
   "execution_count": null,
   "metadata": {},
   "outputs": [],
   "source": [
    "def f(c=11,a=3,b=6):\n",
    "    return a/b+c\n",
    "aa={'a':5,'b':15}\n",
    "for k,v in aa.items():\n",
    "    print(k,v)"
   ]
  },
  {
   "cell_type": "code",
   "execution_count": null,
   "metadata": {},
   "outputs": [],
   "source": [
    "def __get_table(table_name,result='matrix',view_id=None,params=None,post_data={},query:dict={},dict_key=None,columns=None):\n",
    "    kvargs={'result':result,'query':query,\"dict_key\":dict_key,'columns':columns}\n",
    "    for k,v in post_data.items():\n",
    "        kvargs[k]=v\n",
    "    mm=mongo_manager(config)\n",
    "    if view_id is not None:\n",
    "        return __get_view(mm,view_id,result,params=params,)\n",
    "    else:\n",
    "        return mm.get_table(table_name,**kvargs)"
   ]
  },
  {
   "cell_type": "code",
   "execution_count": null,
   "metadata": {},
   "outputs": [],
   "source": [
    "list(row.values())"
   ]
  },
  {
   "cell_type": "code",
   "execution_count": null,
   "metadata": {},
   "outputs": [],
   "source": [
    "db.find_one('sec_sector',{'ticker': ['IRKT']})"
   ]
  },
  {
   "cell_type": "code",
   "execution_count": null,
   "metadata": {
    "scrolled": true
   },
   "outputs": [],
   "source": [
    "a=pd.DataFrame(a)\n",
    "a"
   ]
  },
  {
   "cell_type": "code",
   "execution_count": null,
   "metadata": {},
   "outputs": [],
   "source": [
    "a.shape"
   ]
  },
  {
   "cell_type": "code",
   "execution_count": null,
   "metadata": {},
   "outputs": [],
   "source": [
    "db.get_table('sec_history_manager_mosex')"
   ]
  },
  {
   "cell_type": "code",
   "execution_count": null,
   "metadata": {},
   "outputs": [],
   "source": [
    "db.get_table('mosex_sec_history')[-10:]"
   ]
  },
  {
   "cell_type": "code",
   "execution_count": null,
   "metadata": {},
   "outputs": [],
   "source": [
    "r=db.find_one('sec_history_manager_mosex',{\"secid\":'GAZP111'})"
   ]
  },
  {
   "cell_type": "code",
   "execution_count": null,
   "metadata": {},
   "outputs": [],
   "source": [
    "from datetime import datetime\n",
    "datetime.strptime('2016-01-04','%Y-%m-%d').month"
   ]
  },
  {
   "cell_type": "code",
   "execution_count": null,
   "metadata": {},
   "outputs": [],
   "source": [
    "db=init_db_manager()"
   ]
  },
  {
   "cell_type": "code",
   "execution_count": null,
   "metadata": {},
   "outputs": [],
   "source": [
    "df[df.boardid=='TQBR'].tradedate.nunique()"
   ]
  },
  {
   "cell_type": "code",
   "execution_count": null,
   "metadata": {},
   "outputs": [],
   "source": [
    "from sys import path\n",
    "path.append(r\"C:\\Users\\Kart\\jupyter_projects\\webtrade\\webtrade\\external_sources\")\n",
    "\n",
    "from external_sources import mosex,tradingview\n",
    "import pandas as pd\n",
    "a=mosex()\n",
    "#a=tradingview()"
   ]
  },
  {
   "cell_type": "code",
   "execution_count": null,
   "metadata": {},
   "outputs": [],
   "source": [
    "\n",
    "aa=a.security_hist('SBER')"
   ]
  },
  {
   "cell_type": "code",
   "execution_count": null,
   "metadata": {},
   "outputs": [],
   "source": [
    "aa[1][1]"
   ]
  },
  {
   "cell_type": "code",
   "execution_count": null,
   "metadata": {},
   "outputs": [],
   "source": [
    "datetime.now()"
   ]
  },
  {
   "cell_type": "code",
   "execution_count": null,
   "metadata": {},
   "outputs": [],
   "source": [
    "for el in list(map(lambda s:s.lower(),aa[1][0])):\n",
    "    print(el+\"=\"+el+\"_ind,\")"
   ]
  },
  {
   "cell_type": "code",
   "execution_count": null,
   "metadata": {},
   "outputs": [],
   "source": [
    "aa[1][0]"
   ]
  },
  {
   "cell_type": "code",
   "execution_count": null,
   "metadata": {},
   "outputs": [],
   "source": [
    "df=aa[1][1]"
   ]
  },
  {
   "cell_type": "code",
   "execution_count": null,
   "metadata": {},
   "outputs": [],
   "source": [
    "aa.json()['history.cursor']"
   ]
  },
  {
   "cell_type": "code",
   "execution_count": null,
   "metadata": {},
   "outputs": [],
   "source": [
    "%%time\n",
    "a=job_sectors(init_db_manager())"
   ]
  },
  {
   "cell_type": "code",
   "execution_count": null,
   "metadata": {},
   "outputs": [],
   "source": [
    "from requests import Session\n",
    "from multiprocessing.dummy import Pool as ThreadPool\n",
    "s = Session()\n",
    "s.get(\"http://ya.ru\")\n",
    "def f(url):\n",
    "    return s.get(url)\n",
    "\n",
    "\n",
    "    \n",
    "urls=[r'https://www.rbc.ru/',r'http://ya.ru/']"
   ]
  },
  {
   "cell_type": "code",
   "execution_count": null,
   "metadata": {},
   "outputs": [],
   "source": [
    "number_of_years=6\n",
    "month_in_year=12\n",
    "total_month=number_of_years*month_in_year"
   ]
  },
  {
   "cell_type": "code",
   "execution_count": null,
   "metadata": {},
   "outputs": [],
   "source": [
    "function around_year(number_of_years,month_in_year){return number_of_years*month_in_year}\n",
    "around_year(5,2)"
   ]
  }
 ],
 "metadata": {
  "kernelspec": {
   "display_name": "Python 3",
   "language": "python",
   "name": "python3"
  },
  "language_info": {
   "codemirror_mode": {
    "name": "ipython",
    "version": 3
   },
   "file_extension": ".py",
   "mimetype": "text/x-python",
   "name": "python",
   "nbconvert_exporter": "python",
   "pygments_lexer": "ipython3",
   "version": "3.8.8"
  }
 },
 "nbformat": 4,
 "nbformat_minor": 2
}
