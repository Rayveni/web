{
 "cells": [
  {
   "cell_type": "code",
   "execution_count": null,
   "metadata": {},
   "outputs": [],
   "source": [
    "import sys\n",
    "import os\n",
    "from src import app\n",
    "from gevent import monkey,pywsgi\n",
    "CURRENT_DIR = os.getcwd()\n",
    "sys.path.insert(0, CURRENT_DIR)"
   ]
  },
  {
   "cell_type": "code",
   "execution_count": null,
   "metadata": {
    "scrolled": true
   },
   "outputs": [],
   "source": [
    "monkey.patch_all(thread=False)\n",
    "server = pywsgi.WSGIServer(('127.0.0.2', 5000), app)\n",
    "#app.debug = Trueee\n",
    "server.serve_forever()\n",
    "#http://127.0.0.2:5000/"
   ]
  },
  {
   "cell_type": "code",
   "execution_count": null,
   "metadata": {},
   "outputs": [],
   "source": [
    "import mygit as mg\n",
    "from pathlib import Path\n",
    "import os\n",
    "folder=os.path.abspath('{}/..'.format(os.getcwd()))\n",
    "#folder=Path(folder).parent\n",
    "git_url='git@github.com:Rayveni/web.git'\n",
    "gt=mg.gitwrapper(folder)\n",
    "#gt.pyignore()\n",
    "#gt.pull()\n",
    "gt.push_commit(git_url,commit_msg='update')"
   ]
  },
  {
   "cell_type": "code",
   "execution_count": null,
   "metadata": {},
   "outputs": [],
   "source": [
    "from jobs import job_sl_bonds\n",
    "from db_drivers import mongo_manager\n",
    "cfg={\"driver\": \"mongo\", \"db_name\": \"trade\", \"host\": \"localhost\",\n",
    "     \"port\": 27017, \"user\": \"\", \"user_pswd\": \"\", \"mongo_data\": \"C:\\\\Users\\\\DB\"}\n",
    "\n",
    "a=job_sl_bonds(cfg)"
   ]
  },
  {
   "cell_type": "code",
   "execution_count": 1,
   "metadata": {},
   "outputs": [],
   "source": [
    "from sys import path\n",
    "import os\n",
    "path.append(os.path.join(os.getcwd(),'src'))"
   ]
  },
  {
   "cell_type": "code",
   "execution_count": 2,
   "metadata": {},
   "outputs": [],
   "source": [
    "from commons import convert_file_size,init_db_manager\n",
    "from jobs import *\n",
    "#a=job_sectors(init_db_manager())"
   ]
  },
  {
   "cell_type": "code",
   "execution_count": 15,
   "metadata": {},
   "outputs": [
    {
     "data": {
      "text/plain": [
       "'AWT27M4Y1HHNIGXL'"
      ]
     },
     "execution_count": 15,
     "metadata": {},
     "output_type": "execute_result"
    }
   ],
   "source": [
    "db=init_db_manager()\n"
   ]
  },
  {
   "cell_type": "code",
   "execution_count": null,
   "metadata": {},
   "outputs": [],
   "source": [
    "a=job_sl_bonds(init_db_manager())"
   ]
  },
  {
   "cell_type": "code",
   "execution_count": null,
   "metadata": {},
   "outputs": [],
   "source": [
    "from sys import path\n",
    "path.append(r\"C:\\Users\\Kart\\jupyter_projects\\webtrade\\webtrade\\external_sources\")"
   ]
  },
  {
   "cell_type": "code",
   "execution_count": null,
   "metadata": {},
   "outputs": [],
   "source": [
    "from external_sources import mosex\n",
    "import pandas as pd\n",
    "a=mosex()"
   ]
  },
  {
   "cell_type": "code",
   "execution_count": null,
   "metadata": {},
   "outputs": [],
   "source": [
    "    def __fond_index_history_worker(self,session,url:str,params:dict,ticker:str)->tuple:\n",
    "        response=session.get(url , params = {'symbol' :ticker,**params},headers=self.http_headers)\n",
    "        if response.ok:\n",
    "            return True,response.json()\n",
    "        return (False,ticker)\n",
    "\n",
    "\n",
    "    def fond_index_history(self,tickers_list:list,full_reload:bool=True,token:str,n_threads:int=7)->tuple:\n",
    "        if full_reload:\n",
    "            outputsize='full'\n",
    "        else:\n",
    "            outputsize='compact'\n",
    "        params={'outputsize':outputsize,'apikey':self.__token}\n",
    "        s=self.__init_session()        \n",
    "        worker=partial(self.__fond_index_history_worker,s,self.url+self.sources['daily'],params)             \n",
    "    \n",
    "        i,true_results_final=0,[]\n",
    "\n",
    "        while i < 6:\n",
    "            true_results,false_results=thread_pool(worker,tickers_list,n_threads=n_threads)\n",
    "            true_results_final=true_results+true_results_final\n",
    "            if len(false_results)==0:\n",
    "                break   \n",
    "            worker_args=false_results[1]\n",
    "            sleep(1)\n",
    "            i+=1\n",
    "\n",
    "        s.close()\n",
    "        if len(false_results)>0:\n",
    "            return (False,)\n",
    "\n",
    "        return True,true_results_final\n"
   ]
  },
  {
   "cell_type": "code",
   "execution_count": null,
   "metadata": {},
   "outputs": [],
   "source": [
    "        response=s.get(url , params = {'start' :0,**query_params})\n",
    "        start_cursor,end_cursor,step=response.json()['history.cursor']['data'][0]\n",
    "     \n",
    "        worker=partial(self.__security_hist_worker,s,url,query_params)     \n",
    "        i=0\n",
    "        true_results_final=[]\n",
    "        worker_args=[i for i in range(start_cursor,end_cursor,step)]\n",
    "\n",
    "        while i < 6:\n",
    "            true_results,false_results=thread_pool(worker,worker_args,n_threads=n_threads)\n",
    "            true_results_final=true_results+true_results_final\n",
    "            if len(false_results)==0:\t\t\t\n",
    "                break    \t\t\t\n",
    "            worker_args=false_results[1]\n",
    "            sleep(1)\n",
    "            i+=1\n",
    "\n",
    "        s.close()\n",
    "        if len(false_results)>0:\n",
    "            return (False,)\n",
    "        columns=true_results_final[0]['columns']\n",
    "        return True,{'columns':columns,'data':sum([el['data'] for el in true_results_final], [])}"
   ]
  }
 ],
 "metadata": {
  "kernelspec": {
   "display_name": "Python 3",
   "language": "python",
   "name": "python3"
  },
  "language_info": {
   "codemirror_mode": {
    "name": "ipython",
    "version": 3
   },
   "file_extension": ".py",
   "mimetype": "text/x-python",
   "name": "python",
   "nbconvert_exporter": "python",
   "pygments_lexer": "ipython3",
   "version": "3.7.4"
  }
 },
 "nbformat": 4,
 "nbformat_minor": 2
}
