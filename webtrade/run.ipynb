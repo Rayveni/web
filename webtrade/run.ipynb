{
 "cells": [
  {
   "cell_type": "code",
   "execution_count": 1,
   "metadata": {},
   "outputs": [],
   "source": [
    "import sys\n",
    "import os\n",
    "from src import app\n",
    "from gevent import monkey,pywsgi\n",
    "CURRENT_DIR = os.getcwd()\n",
    "sys.path.insert(0, CURRENT_DIR)"
   ]
  },
  {
   "cell_type": "code",
   "execution_count": null,
   "metadata": {
    "scrolled": true
   },
   "outputs": [
    {
     "name": "stderr",
     "output_type": "stream",
     "text": [
      "127.0.0.1 - - [2021-06-23 13:58:15] \"GET / HTTP/1.1\" 200 8655 0.015026\n",
      "127.0.0.1 - - [2021-06-23 13:58:15] \"GET /static/vendor/jquery/popper.min.js.map HTTP/1.1\" 404 356 0.001003\n",
      "127.0.0.1 - - [2021-06-23 13:58:15] \"GET /static/vendor/bootstrsap4/bootstrap.min.js.map HTTP/1.1\" 404 356 0.001003\n",
      "127.0.0.1 - - [2021-06-23 13:58:15] \"POST /query_data?view_id=open_broker_report&params=_173364_ HTTP/1.1\" 200 244788 0.037095\n",
      "127.0.0.1 - - [2021-06-23 13:58:15] \"GET /static/favicon-16x16.png HTTP/1.1\" 200 641 0.001007\n",
      "127.0.0.1 - - [2021-06-23 14:15:02] \"GET /bonds HTTP/1.1\" 200 8108 0.041109\n",
      "127.0.0.1 - - [2021-06-23 14:15:02] \"GET /static/css/handsontable.full.min.css HTTP/1.1\" 304 188 0.002006\n",
      "127.0.0.1 - - [2021-06-23 14:15:02] \"GET /static/css/daterangepicker.css HTTP/1.1\" 304 187 0.002005\n",
      "127.0.0.1 - - [2021-06-23 14:15:02] \"GET /static/vendor/daterangepicker/moment.min.js HTTP/1.1\" 304 188 0.003004\n",
      "127.0.0.1 - - [2021-06-23 14:15:02] \"GET /static/vendor/crossfilter/crossfilter.min.js HTTP/1.1\" 304 188 0.002006\n",
      "127.0.0.1 - - [2021-06-23 14:15:02] \"GET /static/vendor/daterangepicker/daterangepicker.min.js HTTP/1.1\" 304 188 0.002032\n",
      "127.0.0.1 - - [2021-06-23 14:15:02] \"GET /static/js/bonds.js HTTP/1.1\" 304 188 0.002009\n",
      "127.0.0.1 - - [2021-06-23 14:15:02] \"GET /static/vendor/jquery/popper.min.js.map HTTP/1.1\" 404 356 0.000993\n",
      "127.0.0.1 - - [2021-06-23 14:15:02] \"GET /static/vendor/bootstrsap4/bootstrap.min.js.map HTTP/1.1\" 404 356 0.001003\n",
      "127.0.0.1 - - [2021-06-23 14:15:02] \"GET /static/vendor/fontawesome-free/webfonts/fa-regular-400.woff2 HTTP/1.1\" 304 186 0.001003\n",
      "127.0.0.1 - - [2021-06-23 14:15:03] \"GET /sm/3a884fe0bdb97cb3a94b410e67cf38fdc248890d5581232077b3e6241e25cd21.map HTTP/1.1\" 404 356 0.000000\n",
      "127.0.0.1 - - [2021-06-23 14:15:03] \"POST /query_data?table=smartlabbondsrus HTTP/1.1\" 200 451766 0.069186\n",
      "127.0.0.1 - - [2021-06-23 14:15:03] \"POST /query_data?table=smartlabbondsusd HTTP/1.1\" 200 37496 0.032085\n",
      "127.0.0.1 - - [2021-06-23 14:15:03] \"GET / HTTP/1.1\" 200 8655 0.000000\n",
      "127.0.0.1 - - [2021-06-23 14:15:04] \"GET /static/vendor/jquery/popper.min.js.map HTTP/1.1\" 404 356 0.001003\n",
      "127.0.0.1 - - [2021-06-23 14:15:04] \"GET /static/vendor/bootstrsap4/bootstrap.min.js.map HTTP/1.1\" 404 356 0.000000\n",
      "127.0.0.1 - - [2021-06-23 14:15:04] \"POST /query_data?view_id=open_broker_report&params=_173364_ HTTP/1.1\" 200 244788 0.027072\n",
      "127.0.0.1 - - [2021-06-23 14:15:05] \"GET / HTTP/1.1\" 200 8655 0.000000\n",
      "127.0.0.1 - - [2021-06-23 14:15:05] \"GET /static/vendor/jquery/popper.min.js.map HTTP/1.1\" 404 356 0.001000\n",
      "127.0.0.1 - - [2021-06-23 14:15:05] \"GET /static/vendor/bootstrsap4/bootstrap.min.js.map HTTP/1.1\" 404 356 0.001003\n",
      "127.0.0.1 - - [2021-06-23 14:15:05] \"POST /query_data?view_id=open_broker_report&params=_173364_ HTTP/1.1\" 200 244788 0.033087\n",
      "127.0.0.1 - - [2021-06-23 14:15:06] \"GET /static/favicon-16x16.png HTTP/1.1\" 200 641 0.002014\n",
      "127.0.0.1 - - [2021-06-23 14:15:24] \"GET /reports/markets HTTP/1.1\" 200 9884 0.019070\n",
      "127.0.0.1 - - [2021-06-23 14:15:24] \"GET /static/vendor/jquery/popper.min.js.map HTTP/1.1\" 404 356 0.001003\n",
      "127.0.0.1 - - [2021-06-23 14:15:24] \"GET /static/vendor/bootstrsap4/bootstrap.min.js.map HTTP/1.1\" 404 356 0.001003\n",
      "127.0.0.1 - - [2021-06-23 14:15:24] \"POST /query_data?view_id=markets_index_data HTTP/1.1\" 200 455517 0.133373\n",
      "127.0.0.1 - - [2021-06-23 14:15:25] \"POST /query_data?table=sec_history_manager HTTP/1.1\" 200 2482 0.025067\n",
      "127.0.0.1 - - [2021-06-23 14:15:25] \"GET / HTTP/1.1\" 200 8655 0.000997\n",
      "127.0.0.1 - - [2021-06-23 14:15:25] \"GET /static/vendor/jquery/popper.min.js.map HTTP/1.1\" 404 356 0.000999\n",
      "127.0.0.1 - - [2021-06-23 14:15:25] \"GET /static/vendor/bootstrsap4/bootstrap.min.js.map HTTP/1.1\" 404 356 0.001004\n",
      "127.0.0.1 - - [2021-06-23 14:15:25] \"POST /query_data?view_id=open_broker_report&params=_173364_ HTTP/1.1\" 200 244788 0.030078\n",
      "127.0.0.1 - - [2021-06-23 14:15:30] \"GET / HTTP/1.1\" 200 8655 0.001003\n",
      "127.0.0.1 - - [2021-06-23 14:15:30] \"GET /static/vendor/fontawesome-free/css/all.min.css HTTP/1.1\" 200 57471 0.003008\n",
      "127.0.0.1 - - [2021-06-23 14:15:30] \"GET /static/css/template.css HTTP/1.1\" 200 16694 0.002006\n",
      "127.0.0.1 - - [2021-06-23 14:15:30] \"GET /static/css/mycss.css HTTP/1.1\" 200 2416 0.002001\n",
      "127.0.0.1 - - [2021-06-23 14:15:30] \"GET /static/vendor/jquery/jquery-3.4.1.slim.min.js HTTP/1.1\" 200 88448 0.004012\n",
      "127.0.0.1 - - [2021-06-23 14:15:30] \"GET /static/vendor/d3/d3.v5.min.js HTTP/1.1\" 200 248619 0.006023\n",
      "127.0.0.1 - - [2021-06-23 14:15:30] \"GET /static/js/ajax_get_data.js HTTP/1.1\" 200 815 0.001039\n",
      "127.0.0.1 - - [2021-06-23 14:15:30] \"GET /static/vendor/jquery/popper.min.js HTTP/1.1\" 200 21562 0.001993\n",
      "127.0.0.1 - - [2021-06-23 14:15:30] \"GET /static/vendor/bootstrsap4/bootstrap.min.js HTTP/1.1\" 200 60317 0.002021\n",
      "127.0.0.1 - - [2021-06-23 14:15:30] \"GET /static/js/template.js HTTP/1.1\" 200 1712 0.001000\n",
      "127.0.0.1 - - [2021-06-23 14:15:30] \"GET /static/vendor/handsontable/handsontable.full.min.js HTTP/1.1\" 200 1154262 0.011065\n",
      "127.0.0.1 - - [2021-06-23 14:15:30] \"GET /static/js/gen_table.js HTTP/1.1\" 200 2004 0.001004\n",
      "127.0.0.1 - - [2021-06-23 14:15:30] \"GET /static/js/index.js HTTP/1.1\" 200 1292 0.001003\n",
      "127.0.0.1 - - [2021-06-23 14:15:30] \"GET /static/vendor/jquery/popper.min.js.map HTTP/1.1\" 404 356 0.002013\n",
      "127.0.0.1 - - [2021-06-23 14:15:30] \"GET /static/vendor/bootstrsap4/bootstrap.min.js.map HTTP/1.1\" 404 356 0.001005\n",
      "127.0.0.1 - - [2021-06-23 14:15:30] \"GET /static/vendor/fontawesome-free/webfonts/fa-solid-900.woff2 HTTP/1.1\" 200 76372 0.003005\n",
      "127.0.0.1 - - [2021-06-23 14:15:30] \"GET /static/vendor/fontawesome-free/webfonts/fa-brands-400.woff2 HTTP/1.1\" 200 76224 0.002004\n",
      "127.0.0.1 - - [2021-06-23 14:15:30] \"POST /query_data?view_id=open_broker_report&params=_173364_ HTTP/1.1\" 200 244788 0.027071\n",
      "127.0.0.1 - - [2021-06-23 14:15:30] \"GET /static/favicon-16x16.png HTTP/1.1\" 200 641 0.002002\n",
      "127.0.0.1 - - [2021-06-23 14:17:07] \"GET / HTTP/1.1\" 200 8655 0.002007\n",
      "127.0.0.1 - - [2021-06-23 14:17:07] \"GET /static/vendor/fontawesome-free/css/all.min.css HTTP/1.1\" 200 57471 0.002992\n",
      "127.0.0.1 - - [2021-06-23 14:17:07] \"GET /static/css/template.css HTTP/1.1\" 200 16694 0.002006\n",
      "127.0.0.1 - - [2021-06-23 14:17:07] \"GET /static/css/mycss.css HTTP/1.1\" 200 2416 0.003010\n",
      "127.0.0.1 - - [2021-06-23 14:17:07] \"GET /static/vendor/jquery/jquery-3.4.1.slim.min.js HTTP/1.1\" 200 88448 0.002008\n",
      "127.0.0.1 - - [2021-06-23 14:17:07] \"GET /static/vendor/jquery/popper.min.js HTTP/1.1\" 200 21562 0.002006\n",
      "127.0.0.1 - - [2021-06-23 14:17:07] \"GET /static/vendor/bootstrsap4/bootstrap.min.js HTTP/1.1\" 200 60317 0.002036\n",
      "127.0.0.1 - - [2021-06-23 14:17:07] \"GET /static/vendor/d3/d3.v5.min.js HTTP/1.1\" 200 248619 0.003983\n",
      "127.0.0.1 - - [2021-06-23 14:17:07] \"GET /static/js/ajax_get_data.js HTTP/1.1\" 200 815 0.002005\n",
      "127.0.0.1 - - [2021-06-23 14:17:07] \"GET /static/js/template.js HTTP/1.1\" 200 1712 0.002005\n",
      "127.0.0.1 - - [2021-06-23 14:17:07] \"GET /static/js/gen_table.js HTTP/1.1\" 200 2004 0.001042\n",
      "127.0.0.1 - - [2021-06-23 14:17:07] \"GET /static/js/index.js HTTP/1.1\" 200 1321 0.004011\n",
      "127.0.0.1 - - [2021-06-23 14:17:07] \"GET /static/vendor/handsontable/handsontable.full.min.js HTTP/1.1\" 200 1154262 0.023060\n",
      "127.0.0.1 - - [2021-06-23 14:17:07] \"GET /static/vendor/fontawesome-free/webfonts/fa-solid-900.woff2 HTTP/1.1\" 200 76372 0.003007\n",
      "127.0.0.1 - - [2021-06-23 14:17:07] \"GET /static/vendor/fontawesome-free/webfonts/fa-brands-400.woff2 HTTP/1.1\" 200 76224 0.002003\n",
      "127.0.0.1 - - [2021-06-23 14:17:07] \"GET /static/vendor/jquery/popper.min.js.map HTTP/1.1\" 404 356 0.000000\n",
      "127.0.0.1 - - [2021-06-23 14:17:07] \"GET /static/vendor/bootstrsap4/bootstrap.min.js.map HTTP/1.1\" 404 356 0.001001\n",
      "127.0.0.1 - - [2021-06-23 14:17:07] \"POST /query_data?view_id=open_broker_report&params=_173364_ HTTP/1.1\" 200 244788 0.023058\n",
      "127.0.0.1 - - [2021-06-23 14:17:07] \"GET /static/favicon-16x16.png HTTP/1.1\" 200 641 0.002008\n",
      "127.0.0.1 - - [2021-06-23 14:17:16] \"GET / HTTP/1.1\" 200 8655 0.001006\n",
      "127.0.0.1 - - [2021-06-23 14:17:16] \"GET /static/vendor/fontawesome-free/css/all.min.css HTTP/1.1\" 200 57471 0.003008\n",
      "127.0.0.1 - - [2021-06-23 14:17:16] \"GET /static/css/template.css HTTP/1.1\" 200 16694 0.002007\n",
      "127.0.0.1 - - [2021-06-23 14:17:16] \"GET /static/css/mycss.css HTTP/1.1\" 200 2416 0.002014\n",
      "127.0.0.1 - - [2021-06-23 14:17:16] \"GET /static/vendor/jquery/jquery-3.4.1.slim.min.js HTTP/1.1\" 200 88448 0.003017\n",
      "127.0.0.1 - - [2021-06-23 14:17:16] \"GET /static/vendor/jquery/popper.min.js HTTP/1.1\" 200 21562 0.003008\n",
      "127.0.0.1 - - [2021-06-23 14:17:16] \"GET /static/vendor/bootstrsap4/bootstrap.min.js HTTP/1.1\" 200 60317 0.001997\n",
      "127.0.0.1 - - [2021-06-23 14:17:16] \"GET /static/vendor/d3/d3.v5.min.js HTTP/1.1\" 200 248619 0.005018\n",
      "127.0.0.1 - - [2021-06-23 14:17:16] \"GET /static/js/ajax_get_data.js HTTP/1.1\" 200 815 0.001003\n",
      "127.0.0.1 - - [2021-06-23 14:17:16] \"GET /static/vendor/handsontable/handsontable.full.min.js HTTP/1.1\" 200 1154262 0.012058\n",
      "127.0.0.1 - - [2021-06-23 14:17:16] \"GET /static/js/gen_table.js HTTP/1.1\" 200 2004 0.002012\n",
      "127.0.0.1 - - [2021-06-23 14:17:16] \"GET /static/js/index.js HTTP/1.1\" 200 1323 0.003007\n",
      "127.0.0.1 - - [2021-06-23 14:17:16] \"GET /static/js/template.js HTTP/1.1\" 200 1712 0.001000\n",
      "127.0.0.1 - - [2021-06-23 14:17:16] \"GET /static/vendor/fontawesome-free/webfonts/fa-solid-900.woff2 HTTP/1.1\" 200 76372 0.002006\n",
      "127.0.0.1 - - [2021-06-23 14:17:16] \"GET /static/vendor/fontawesome-free/webfonts/fa-brands-400.woff2 HTTP/1.1\" 200 76224 0.002005\n",
      "127.0.0.1 - - [2021-06-23 14:17:16] \"GET /static/vendor/jquery/popper.min.js.map HTTP/1.1\" 404 356 0.002002\n",
      "127.0.0.1 - - [2021-06-23 14:17:16] \"GET /static/vendor/bootstrsap4/bootstrap.min.js.map HTTP/1.1\" 404 356 0.002005\n"
     ]
    },
    {
     "name": "stderr",
     "output_type": "stream",
     "text": [
      "127.0.0.1 - - [2021-06-23 14:17:16] \"POST /query_data?view_id=open_broker_report&params=_173364_ HTTP/1.1\" 200 244788 0.022060\n",
      "127.0.0.1 - - [2021-06-23 14:17:16] \"GET /static/favicon-16x16.png HTTP/1.1\" 200 641 0.001002\n",
      "127.0.0.1 - - [2021-06-23 14:17:26] \"GET / HTTP/1.1\" 200 8655 0.000995\n",
      "127.0.0.1 - - [2021-06-23 14:17:26] \"GET /static/vendor/fontawesome-free/css/all.min.css HTTP/1.1\" 200 57471 0.002005\n",
      "127.0.0.1 - - [2021-06-23 14:17:26] \"GET /static/css/template.css HTTP/1.1\" 200 16694 0.002007\n",
      "127.0.0.1 - - [2021-06-23 14:17:26] \"GET /static/css/mycss.css HTTP/1.1\" 200 2416 0.001997\n",
      "127.0.0.1 - - [2021-06-23 14:17:26] \"GET /static/vendor/jquery/jquery-3.4.1.slim.min.js HTTP/1.1\" 200 88448 0.002006\n",
      "127.0.0.1 - - [2021-06-23 14:17:26] \"GET /static/vendor/d3/d3.v5.min.js HTTP/1.1\" 200 248619 0.005014\n",
      "127.0.0.1 - - [2021-06-23 14:17:26] \"GET /static/js/ajax_get_data.js HTTP/1.1\" 200 815 0.002014\n",
      "127.0.0.1 - - [2021-06-23 14:17:26] \"GET /static/vendor/handsontable/handsontable.full.min.js HTTP/1.1\" 200 1154262 0.015061\n",
      "127.0.0.1 - - [2021-06-23 14:17:26] \"GET /static/vendor/jquery/popper.min.js HTTP/1.1\" 200 21562 0.001998\n",
      "127.0.0.1 - - [2021-06-23 14:17:26] \"GET /static/vendor/bootstrsap4/bootstrap.min.js HTTP/1.1\" 200 60317 0.003006\n",
      "127.0.0.1 - - [2021-06-23 14:17:26] \"GET /static/js/template.js HTTP/1.1\" 200 1712 0.001004\n",
      "127.0.0.1 - - [2021-06-23 14:17:26] \"GET /static/js/gen_table.js HTTP/1.1\" 200 2004 0.000998\n",
      "127.0.0.1 - - [2021-06-23 14:17:26] \"GET /static/js/index.js HTTP/1.1\" 200 1324 0.003016\n",
      "127.0.0.1 - - [2021-06-23 14:17:26] \"GET /static/vendor/fontawesome-free/webfonts/fa-solid-900.woff2 HTTP/1.1\" 200 76372 0.003010\n",
      "127.0.0.1 - - [2021-06-23 14:17:26] \"GET /static/vendor/fontawesome-free/webfonts/fa-brands-400.woff2 HTTP/1.1\" 200 76224 0.002006\n",
      "127.0.0.1 - - [2021-06-23 14:17:26] \"GET /static/vendor/jquery/popper.min.js.map HTTP/1.1\" 404 356 0.001002\n",
      "127.0.0.1 - - [2021-06-23 14:17:26] \"GET /static/vendor/bootstrsap4/bootstrap.min.js.map HTTP/1.1\" 404 356 0.001003\n",
      "127.0.0.1 - - [2021-06-23 14:17:27] \"POST /query_data?view_id=open_broker_report&params=_173364_ HTTP/1.1\" 200 244788 0.023062\n",
      "127.0.0.1 - - [2021-06-23 14:17:27] \"GET /static/favicon-16x16.png HTTP/1.1\" 200 641 0.001002\n",
      "127.0.0.1 - - [2021-06-23 14:19:20] \"GET / HTTP/1.1\" 200 8655 0.001004\n",
      "127.0.0.1 - - [2021-06-23 14:19:20] \"GET /static/vendor/fontawesome-free/css/all.min.css HTTP/1.1\" 200 57471 0.002996\n",
      "127.0.0.1 - - [2021-06-23 14:19:20] \"GET /static/css/template.css HTTP/1.1\" 200 16694 0.002005\n",
      "127.0.0.1 - - [2021-06-23 14:19:20] \"GET /static/css/mycss.css HTTP/1.1\" 200 2416 0.002005\n",
      "127.0.0.1 - - [2021-06-23 14:19:20] \"GET /static/vendor/jquery/jquery-3.4.1.slim.min.js HTTP/1.1\" 200 88448 0.002003\n",
      "127.0.0.1 - - [2021-06-23 14:19:20] \"GET /static/vendor/jquery/popper.min.js HTTP/1.1\" 200 21562 0.001003\n",
      "127.0.0.1 - - [2021-06-23 14:19:20] \"GET /static/vendor/bootstrsap4/bootstrap.min.js HTTP/1.1\" 200 60317 0.003008\n",
      "127.0.0.1 - - [2021-06-23 14:19:20] \"GET /static/vendor/d3/d3.v5.min.js HTTP/1.1\" 200 248619 0.004013\n",
      "127.0.0.1 - - [2021-06-23 14:19:20] \"GET /static/js/ajax_get_data.js HTTP/1.1\" 200 815 0.002006\n",
      "127.0.0.1 - - [2021-06-23 14:19:20] \"GET /static/js/index.js HTTP/1.1\" 200 1368 0.002003\n",
      "127.0.0.1 - - [2021-06-23 14:19:20] \"GET /static/vendor/handsontable/handsontable.full.min.js HTTP/1.1\" 200 1154262 0.014037\n",
      "127.0.0.1 - - [2021-06-23 14:19:20] \"GET /static/js/gen_table.js HTTP/1.1\" 200 2004 0.001002\n",
      "127.0.0.1 - - [2021-06-23 14:19:20] \"GET /static/js/template.js HTTP/1.1\" 200 1712 0.002000\n",
      "127.0.0.1 - - [2021-06-23 14:19:20] \"GET /static/vendor/fontawesome-free/webfonts/fa-solid-900.woff2 HTTP/1.1\" 200 76372 0.003008\n",
      "127.0.0.1 - - [2021-06-23 14:19:20] \"GET /static/vendor/fontawesome-free/webfonts/fa-brands-400.woff2 HTTP/1.1\" 200 76224 0.002005\n",
      "127.0.0.1 - - [2021-06-23 14:19:20] \"GET /static/vendor/jquery/popper.min.js.map HTTP/1.1\" 404 356 0.001003\n",
      "127.0.0.1 - - [2021-06-23 14:19:20] \"GET /static/vendor/bootstrsap4/bootstrap.min.js.map HTTP/1.1\" 404 356 0.001002\n",
      "127.0.0.1 - - [2021-06-23 14:19:20] \"GET /static/favicon-16x16.png HTTP/1.1\" 200 641 0.002010\n",
      "127.0.0.1 - - [2021-06-23 14:19:50] \"GET / HTTP/1.1\" 200 8655 0.000986\n",
      "127.0.0.1 - - [2021-06-23 14:19:50] \"GET /static/vendor/fontawesome-free/css/all.min.css HTTP/1.1\" 200 57471 0.002005\n",
      "127.0.0.1 - - [2021-06-23 14:19:50] \"GET /static/css/template.css HTTP/1.1\" 200 16694 0.002002\n",
      "127.0.0.1 - - [2021-06-23 14:19:50] \"GET /static/css/mycss.css HTTP/1.1\" 200 2416 0.001002\n",
      "127.0.0.1 - - [2021-06-23 14:19:50] \"GET /static/vendor/jquery/jquery-3.4.1.slim.min.js HTTP/1.1\" 200 88448 0.003008\n",
      "127.0.0.1 - - [2021-06-23 14:19:50] \"GET /static/vendor/jquery/popper.min.js HTTP/1.1\" 200 21562 0.001003\n",
      "127.0.0.1 - - [2021-06-23 14:19:50] \"GET /static/vendor/bootstrsap4/bootstrap.min.js HTTP/1.1\" 200 60317 0.003007\n",
      "127.0.0.1 - - [2021-06-23 14:19:50] \"GET /static/js/template.js HTTP/1.1\" 200 1712 0.002007\n",
      "127.0.0.1 - - [2021-06-23 14:19:50] \"GET /static/vendor/handsontable/handsontable.full.min.js HTTP/1.1\" 200 1154262 0.013062\n",
      "127.0.0.1 - - [2021-06-23 14:19:50] \"GET /static/js/gen_table.js HTTP/1.1\" 200 2004 0.001004\n",
      "127.0.0.1 - - [2021-06-23 14:19:50] \"GET /static/js/index.js HTTP/1.1\" 200 1369 0.002012\n",
      "127.0.0.1 - - [2021-06-23 14:19:50] \"GET /static/vendor/d3/d3.v5.min.js HTTP/1.1\" 200 248619 0.005013\n",
      "127.0.0.1 - - [2021-06-23 14:19:50] \"GET /static/js/ajax_get_data.js HTTP/1.1\" 200 815 0.002008\n",
      "127.0.0.1 - - [2021-06-23 14:19:50] \"GET /static/vendor/fontawesome-free/webfonts/fa-solid-900.woff2 HTTP/1.1\" 200 76372 0.003010\n",
      "127.0.0.1 - - [2021-06-23 14:19:50] \"GET /static/vendor/fontawesome-free/webfonts/fa-brands-400.woff2 HTTP/1.1\" 200 76224 0.003004\n",
      "127.0.0.1 - - [2021-06-23 14:19:50] \"GET /static/vendor/jquery/popper.min.js.map HTTP/1.1\" 404 356 0.001005\n",
      "127.0.0.1 - - [2021-06-23 14:19:50] \"GET /static/vendor/bootstrsap4/bootstrap.min.js.map HTTP/1.1\" 404 356 0.001004\n",
      "127.0.0.1 - - [2021-06-23 14:19:50] \"POST /query_data?view_id=open_broker_report&params=_173364_ HTTP/1.1\" 200 244788 0.023055\n",
      "127.0.0.1 - - [2021-06-23 14:19:50] \"GET /static/favicon-16x16.png HTTP/1.1\" 200 641 0.001004\n",
      "127.0.0.1 - - [2021-06-23 14:20:39] \"GET / HTTP/1.1\" 200 8655 0.002007\n",
      "127.0.0.1 - - [2021-06-23 14:20:39] \"GET /static/vendor/fontawesome-free/css/all.min.css HTTP/1.1\" 200 57471 0.002019\n",
      "127.0.0.1 - - [2021-06-23 14:20:39] \"GET /static/css/template.css HTTP/1.1\" 200 16694 0.002007\n",
      "127.0.0.1 - - [2021-06-23 14:20:39] \"GET /static/css/mycss.css HTTP/1.1\" 200 2416 0.002006\n",
      "127.0.0.1 - - [2021-06-23 14:20:39] \"GET /static/vendor/jquery/jquery-3.4.1.slim.min.js HTTP/1.1\" 200 88448 0.001996\n",
      "127.0.0.1 - - [2021-06-23 14:20:39] \"GET /static/vendor/jquery/popper.min.js HTTP/1.1\" 200 21562 0.002000\n",
      "127.0.0.1 - - [2021-06-23 14:20:39] \"GET /static/vendor/bootstrsap4/bootstrap.min.js HTTP/1.1\" 200 60317 0.002005\n",
      "127.0.0.1 - - [2021-06-23 14:20:39] \"GET /static/vendor/d3/d3.v5.min.js HTTP/1.1\" 200 248619 0.003020\n",
      "127.0.0.1 - - [2021-06-23 14:20:39] \"GET /static/js/ajax_get_data.js HTTP/1.1\" 200 815 0.002007\n",
      "127.0.0.1 - - [2021-06-23 14:20:39] \"GET /static/vendor/handsontable/handsontable.full.min.js HTTP/1.1\" 200 1154262 0.012032\n",
      "127.0.0.1 - - [2021-06-23 14:20:39] \"GET /static/js/gen_table.js HTTP/1.1\" 200 2004 0.001002\n",
      "127.0.0.1 - - [2021-06-23 14:20:39] \"GET /static/js/index.js HTTP/1.1\" 200 1372 0.004009\n",
      "127.0.0.1 - - [2021-06-23 14:20:39] \"GET /static/js/template.js HTTP/1.1\" 200 1712 0.001991\n",
      "127.0.0.1 - - [2021-06-23 14:20:39] \"GET /static/vendor/fontawesome-free/webfonts/fa-solid-900.woff2 HTTP/1.1\" 200 76372 0.002005\n",
      "127.0.0.1 - - [2021-06-23 14:20:39] \"GET /static/vendor/fontawesome-free/webfonts/fa-brands-400.woff2 HTTP/1.1\" 200 76224 0.002007\n",
      "127.0.0.1 - - [2021-06-23 14:20:40] \"POST /query_data?view_id=open_broker_report&params=_173364_ HTTP/1.1\" 200 244788 0.022058\n",
      "127.0.0.1 - - [2021-06-23 14:20:40] \"GET /static/favicon-16x16.png HTTP/1.1\" 200 641 0.002019\n",
      "127.0.0.1 - - [2021-06-23 14:21:53] \"GET / HTTP/1.1\" 200 8655 0.001003\n",
      "127.0.0.1 - - [2021-06-23 14:21:53] \"GET /static/vendor/fontawesome-free/css/all.min.css HTTP/1.1\" 200 57471 0.003007\n",
      "127.0.0.1 - - [2021-06-23 14:21:53] \"GET /static/css/template.css HTTP/1.1\" 200 16694 0.002004\n",
      "127.0.0.1 - - [2021-06-23 14:21:53] \"GET /static/css/mycss.css HTTP/1.1\" 200 2416 0.002028\n",
      "127.0.0.1 - - [2021-06-23 14:21:53] \"GET /static/vendor/jquery/jquery-3.4.1.slim.min.js HTTP/1.1\" 200 88448 0.002007\n",
      "127.0.0.1 - - [2021-06-23 14:21:53] \"GET /static/vendor/jquery/popper.min.js HTTP/1.1\" 200 21562 0.002005\n",
      "127.0.0.1 - - [2021-06-23 14:21:53] \"GET /static/vendor/bootstrsap4/bootstrap.min.js HTTP/1.1\" 200 60317 0.001989\n",
      "127.0.0.1 - - [2021-06-23 14:21:53] \"GET /static/vendor/d3/d3.v5.min.js HTTP/1.1\" 200 248619 0.004009\n",
      "127.0.0.1 - - [2021-06-23 14:21:53] \"GET /static/js/ajax_get_data.js HTTP/1.1\" 200 815 0.001000\n",
      "127.0.0.1 - - [2021-06-23 14:21:53] \"GET /static/vendor/handsontable/handsontable.full.min.js HTTP/1.1\" 200 1154262 0.014037\n",
      "127.0.0.1 - - [2021-06-23 14:21:53] \"GET /static/js/gen_table.js HTTP/1.1\" 200 2004 0.001034\n",
      "127.0.0.1 - - [2021-06-23 14:21:53] \"GET /static/js/index.js HTTP/1.1\" 200 1371 0.002005\n",
      "127.0.0.1 - - [2021-06-23 14:21:53] \"GET /static/js/template.js HTTP/1.1\" 200 1712 0.001003\n",
      "127.0.0.1 - - [2021-06-23 14:21:53] \"GET /static/vendor/fontawesome-free/webfonts/fa-solid-900.woff2 HTTP/1.1\" 200 76372 0.001991\n",
      "127.0.0.1 - - [2021-06-23 14:21:53] \"GET /static/vendor/fontawesome-free/webfonts/fa-brands-400.woff2 HTTP/1.1\" 200 76224 0.002003\n"
     ]
    },
    {
     "name": "stderr",
     "output_type": "stream",
     "text": [
      "127.0.0.1 - - [2021-06-23 14:21:53] \"POST /query_data?view_id=open_broker_report&params=_173364_ HTTP/1.1\" 200 244788 0.021067\n",
      "127.0.0.1 - - [2021-06-23 14:21:53] \"GET /static/favicon-16x16.png HTTP/1.1\" 200 641 0.001030\n",
      "127.0.0.1 - - [2021-06-23 14:23:06] \"GET /static/vendor/jquery/popper.min.js.map HTTP/1.1\" 404 356 0.001001\n",
      "127.0.0.1 - - [2021-06-23 14:23:06] \"GET /static/vendor/bootstrsap4/bootstrap.min.js.map HTTP/1.1\" 404 356 0.001003\n",
      "127.0.0.1 - - [2021-06-23 14:23:27] \"GET / HTTP/1.1\" 200 8655 0.000990\n",
      "127.0.0.1 - - [2021-06-23 14:23:27] \"GET /static/vendor/fontawesome-free/css/all.min.css HTTP/1.1\" 200 57471 0.003015\n",
      "127.0.0.1 - - [2021-06-23 14:23:27] \"GET /static/css/template.css HTTP/1.1\" 200 16694 0.002012\n",
      "127.0.0.1 - - [2021-06-23 14:23:27] \"GET /static/css/mycss.css HTTP/1.1\" 200 2416 0.002000\n",
      "127.0.0.1 - - [2021-06-23 14:23:27] \"GET /static/vendor/jquery/jquery-3.4.1.slim.min.js HTTP/1.1\" 200 88448 0.002996\n",
      "127.0.0.1 - - [2021-06-23 14:23:27] \"GET /static/vendor/jquery/popper.min.js HTTP/1.1\" 200 21562 0.002005\n",
      "127.0.0.1 - - [2021-06-23 14:23:27] \"GET /static/vendor/d3/d3.v5.min.js HTTP/1.1\" 200 248619 0.004013\n",
      "127.0.0.1 - - [2021-06-23 14:23:27] \"GET /static/js/ajax_get_data.js HTTP/1.1\" 200 815 0.001002\n",
      "127.0.0.1 - - [2021-06-23 14:23:27] \"GET /static/vendor/handsontable/handsontable.full.min.js HTTP/1.1\" 200 1154262 0.014037\n",
      "127.0.0.1 - - [2021-06-23 14:23:27] \"GET /static/js/gen_table.js HTTP/1.1\" 200 2004 0.001001\n",
      "127.0.0.1 - - [2021-06-23 14:23:27] \"GET /static/vendor/bootstrsap4/bootstrap.min.js HTTP/1.1\" 200 60317 0.002007\n",
      "127.0.0.1 - - [2021-06-23 14:23:27] \"GET /static/js/template.js HTTP/1.1\" 200 1712 0.001017\n",
      "127.0.0.1 - - [2021-06-23 14:23:27] \"GET /static/js/index.js HTTP/1.1\" 200 1371 0.001001\n",
      "127.0.0.1 - - [2021-06-23 14:23:27] \"GET /static/vendor/fontawesome-free/webfonts/fa-solid-900.woff2 HTTP/1.1\" 200 76372 0.003014\n",
      "127.0.0.1 - - [2021-06-23 14:23:27] \"GET /static/vendor/fontawesome-free/webfonts/fa-brands-400.woff2 HTTP/1.1\" 200 76224 0.002003\n",
      "127.0.0.1 - - [2021-06-23 14:23:27] \"GET /static/vendor/jquery/popper.min.js.map HTTP/1.1\" 404 356 0.001003\n",
      "127.0.0.1 - - [2021-06-23 14:23:27] \"GET /static/vendor/bootstrsap4/bootstrap.min.js.map HTTP/1.1\" 404 356 0.001005\n",
      "127.0.0.1 - - [2021-06-23 14:23:27] \"POST /query_data?view_id=open_broker_report&params=_173364_ HTTP/1.1\" 200 244788 0.023066\n",
      "127.0.0.1 - - [2021-06-23 14:23:27] \"GET /static/favicon-16x16.png HTTP/1.1\" 200 641 0.001003\n",
      "127.0.0.1 - - [2021-06-23 14:25:13] \"GET / HTTP/1.1\" 200 8655 0.001003\n",
      "127.0.0.1 - - [2021-06-23 14:25:13] \"GET /static/vendor/fontawesome-free/css/all.min.css HTTP/1.1\" 200 57471 0.002006\n",
      "127.0.0.1 - - [2021-06-23 14:25:13] \"GET /static/css/template.css HTTP/1.1\" 200 16694 0.002005\n",
      "127.0.0.1 - - [2021-06-23 14:25:13] \"GET /static/css/mycss.css HTTP/1.1\" 200 2416 0.001003\n",
      "127.0.0.1 - - [2021-06-23 14:25:13] \"GET /static/vendor/jquery/jquery-3.4.1.slim.min.js HTTP/1.1\" 200 88448 0.002004\n",
      "127.0.0.1 - - [2021-06-23 14:25:13] \"GET /static/vendor/jquery/popper.min.js HTTP/1.1\" 200 21562 0.000998\n",
      "127.0.0.1 - - [2021-06-23 14:25:13] \"GET /static/vendor/d3/d3.v5.min.js HTTP/1.1\" 200 248619 0.002006\n",
      "127.0.0.1 - - [2021-06-23 14:25:13] \"GET /static/vendor/bootstrsap4/bootstrap.min.js HTTP/1.1\" 200 60317 0.002005\n",
      "127.0.0.1 - - [2021-06-23 14:25:13] \"GET /static/js/template.js HTTP/1.1\" 200 1712 0.002005\n",
      "127.0.0.1 - - [2021-06-23 14:25:13] \"GET /static/js/ajax_get_data.js HTTP/1.1\" 200 815 0.002005\n",
      "127.0.0.1 - - [2021-06-23 14:25:13] \"GET /static/vendor/handsontable/handsontable.full.min.js HTTP/1.1\" 200 1154262 0.016042\n",
      "127.0.0.1 - - [2021-06-23 14:25:13] \"GET /static/js/gen_table.js HTTP/1.1\" 200 2004 0.001003\n",
      "127.0.0.1 - - [2021-06-23 14:25:13] \"GET /static/js/index.js HTTP/1.1\" 200 1381 0.002005\n",
      "127.0.0.1 - - [2021-06-23 14:25:13] \"GET /static/vendor/fontawesome-free/webfonts/fa-solid-900.woff2 HTTP/1.1\" 200 76372 0.002008\n",
      "127.0.0.1 - - [2021-06-23 14:25:13] \"GET /static/vendor/fontawesome-free/webfonts/fa-brands-400.woff2 HTTP/1.1\" 200 76224 0.002006\n",
      "127.0.0.1 - - [2021-06-23 14:25:13] \"GET /static/vendor/jquery/popper.min.js.map HTTP/1.1\" 404 356 0.001003\n",
      "127.0.0.1 - - [2021-06-23 14:25:13] \"GET /static/vendor/bootstrsap4/bootstrap.min.js.map HTTP/1.1\" 404 356 0.001005\n",
      "127.0.0.1 - - [2021-06-23 14:25:13] \"POST /query_data?view_id=open_broker_report&params=_173364_ HTTP/1.1\" 200 244788 0.021058\n",
      "127.0.0.1 - - [2021-06-23 14:25:13] \"GET /static/favicon-16x16.png HTTP/1.1\" 200 641 0.002005\n",
      "127.0.0.1 - - [2021-06-23 14:28:29] \"GET / HTTP/1.1\" 200 8655 0.001988\n",
      "127.0.0.1 - - [2021-06-23 14:28:29] \"GET /static/vendor/fontawesome-free/css/all.min.css HTTP/1.1\" 200 57471 0.003010\n",
      "127.0.0.1 - - [2021-06-23 14:28:29] \"GET /static/css/template.css HTTP/1.1\" 200 16694 0.001003\n",
      "127.0.0.1 - - [2021-06-23 14:28:29] \"GET /static/css/mycss.css HTTP/1.1\" 200 2416 0.002005\n",
      "127.0.0.1 - - [2021-06-23 14:28:29] \"GET /static/vendor/jquery/jquery-3.4.1.slim.min.js HTTP/1.1\" 200 88448 0.003011\n",
      "127.0.0.1 - - [2021-06-23 14:28:29] \"GET /static/vendor/jquery/popper.min.js HTTP/1.1\" 200 21562 0.002006\n",
      "127.0.0.1 - - [2021-06-23 14:28:29] \"GET /static/vendor/bootstrsap4/bootstrap.min.js HTTP/1.1\" 200 60317 0.002005\n",
      "127.0.0.1 - - [2021-06-23 14:28:29] \"GET /static/vendor/d3/d3.v5.min.js HTTP/1.1\" 200 248619 0.004025\n",
      "127.0.0.1 - - [2021-06-23 14:28:29] \"GET /static/js/ajax_get_data.js HTTP/1.1\" 200 815 0.002003\n",
      "127.0.0.1 - - [2021-06-23 14:28:29] \"GET /static/vendor/handsontable/handsontable.full.min.js HTTP/1.1\" 200 1154262 0.016042\n",
      "127.0.0.1 - - [2021-06-23 14:28:29] \"GET /static/js/gen_table.js HTTP/1.1\" 200 2004 0.001002\n",
      "127.0.0.1 - - [2021-06-23 14:28:29] \"GET /static/js/index.js HTTP/1.1\" 200 1370 0.002014\n",
      "127.0.0.1 - - [2021-06-23 14:28:29] \"GET /static/js/template.js HTTP/1.1\" 200 1712 0.002009\n",
      "127.0.0.1 - - [2021-06-23 14:28:29] \"GET /static/vendor/fontawesome-free/webfonts/fa-solid-900.woff2 HTTP/1.1\" 200 76372 0.002001\n",
      "127.0.0.1 - - [2021-06-23 14:28:29] \"GET /static/vendor/fontawesome-free/webfonts/fa-brands-400.woff2 HTTP/1.1\" 200 76224 0.002006\n",
      "127.0.0.1 - - [2021-06-23 14:28:29] \"GET /static/vendor/jquery/popper.min.js.map HTTP/1.1\" 404 356 0.001002\n",
      "127.0.0.1 - - [2021-06-23 14:28:29] \"GET /static/vendor/bootstrsap4/bootstrap.min.js.map HTTP/1.1\" 404 356 0.001003\n",
      "127.0.0.1 - - [2021-06-23 14:28:29] \"GET /static/favicon-16x16.png HTTP/1.1\" 200 641 0.002008\n",
      "127.0.0.1 - - [2021-06-23 14:28:48] \"GET / HTTP/1.1\" 200 8655 0.002006\n",
      "127.0.0.1 - - [2021-06-23 14:28:48] \"GET /static/vendor/fontawesome-free/css/all.min.css HTTP/1.1\" 200 57471 0.002006\n",
      "127.0.0.1 - - [2021-06-23 14:28:48] \"GET /static/css/template.css HTTP/1.1\" 200 16694 0.002007\n",
      "127.0.0.1 - - [2021-06-23 14:28:48] \"GET /static/css/mycss.css HTTP/1.1\" 200 2416 0.002005\n",
      "127.0.0.1 - - [2021-06-23 14:28:48] \"GET /static/vendor/jquery/jquery-3.4.1.slim.min.js HTTP/1.1\" 200 88448 0.002004\n",
      "127.0.0.1 - - [2021-06-23 14:28:49] \"GET /static/vendor/d3/d3.v5.min.js HTTP/1.1\" 200 248619 0.005008\n",
      "127.0.0.1 - - [2021-06-23 14:28:49] \"GET /static/js/ajax_get_data.js HTTP/1.1\" 200 815 0.002003\n",
      "127.0.0.1 - - [2021-06-23 14:28:49] \"GET /static/vendor/handsontable/handsontable.full.min.js HTTP/1.1\" 200 1154262 0.015039\n",
      "127.0.0.1 - - [2021-06-23 14:28:49] \"GET /static/vendor/jquery/popper.min.js HTTP/1.1\" 200 21562 0.001969\n",
      "127.0.0.1 - - [2021-06-23 14:28:49] \"GET /static/vendor/bootstrsap4/bootstrap.min.js HTTP/1.1\" 200 60317 0.002018\n",
      "127.0.0.1 - - [2021-06-23 14:28:49] \"GET /static/js/template.js HTTP/1.1\" 200 1712 0.001005\n",
      "127.0.0.1 - - [2021-06-23 14:28:49] \"GET /static/js/gen_table.js HTTP/1.1\" 200 2004 0.001000\n",
      "127.0.0.1 - - [2021-06-23 14:28:49] \"GET /static/js/index.js HTTP/1.1\" 200 1369 0.004010\n",
      "127.0.0.1 - - [2021-06-23 14:28:49] \"GET /static/vendor/fontawesome-free/webfonts/fa-solid-900.woff2 HTTP/1.1\" 200 76372 0.002015\n",
      "127.0.0.1 - - [2021-06-23 14:28:49] \"GET /static/vendor/fontawesome-free/webfonts/fa-brands-400.woff2 HTTP/1.1\" 200 76224 0.003000\n",
      "127.0.0.1 - - [2021-06-23 14:28:49] \"GET /static/vendor/jquery/popper.min.js.map HTTP/1.1\" 404 356 0.001002\n",
      "127.0.0.1 - - [2021-06-23 14:28:49] \"GET /static/vendor/bootstrsap4/bootstrap.min.js.map HTTP/1.1\" 404 356 0.001002\n",
      "127.0.0.1 - - [2021-06-23 14:28:49] \"POST /query_data?view_id=open_broker_report&params=_173364_ HTTP/1.1\" 200 244788 0.022058\n",
      "127.0.0.1 - - [2021-06-23 14:28:49] \"GET /static/favicon-16x16.png HTTP/1.1\" 200 641 0.001001\n"
     ]
    },
    {
     "name": "stderr",
     "output_type": "stream",
     "text": [
      "127.0.0.1 - - [2021-06-23 14:29:35] \"GET / HTTP/1.1\" 200 8655 0.001003\n",
      "127.0.0.1 - - [2021-06-23 14:29:35] \"GET /static/vendor/fontawesome-free/css/all.min.css HTTP/1.1\" 200 57471 0.003010\n",
      "127.0.0.1 - - [2021-06-23 14:29:35] \"GET /static/css/template.css HTTP/1.1\" 200 16694 0.002014\n",
      "127.0.0.1 - - [2021-06-23 14:29:35] \"GET /static/css/mycss.css HTTP/1.1\" 200 2416 0.001001\n",
      "127.0.0.1 - - [2021-06-23 14:29:35] \"GET /static/vendor/jquery/jquery-3.4.1.slim.min.js HTTP/1.1\" 200 88448 0.003009\n",
      "127.0.0.1 - - [2021-06-23 14:29:35] \"GET /static/vendor/jquery/popper.min.js HTTP/1.1\" 200 21562 0.001968\n",
      "127.0.0.1 - - [2021-06-23 14:29:35] \"GET /static/vendor/bootstrsap4/bootstrap.min.js HTTP/1.1\" 200 60317 0.002007\n",
      "127.0.0.1 - - [2021-06-23 14:29:35] \"GET /static/vendor/d3/d3.v5.min.js HTTP/1.1\" 200 248619 0.006014\n",
      "127.0.0.1 - - [2021-06-23 14:29:35] \"GET /static/js/ajax_get_data.js HTTP/1.1\" 200 815 0.001002\n",
      "127.0.0.1 - - [2021-06-23 14:29:35] \"GET /static/vendor/handsontable/handsontable.full.min.js HTTP/1.1\" 200 1154262 0.012031\n",
      "127.0.0.1 - - [2021-06-23 14:29:35] \"GET /static/js/gen_table.js HTTP/1.1\" 200 2004 0.002006\n",
      "127.0.0.1 - - [2021-06-23 14:29:35] \"GET /static/js/index.js HTTP/1.1\" 200 1435 0.004011\n",
      "127.0.0.1 - - [2021-06-23 14:29:35] \"GET /static/js/template.js HTTP/1.1\" 200 1712 0.001003\n",
      "127.0.0.1 - - [2021-06-23 14:29:35] \"GET /static/vendor/fontawesome-free/webfonts/fa-solid-900.woff2 HTTP/1.1\" 200 76372 0.002006\n",
      "127.0.0.1 - - [2021-06-23 14:29:35] \"GET /static/vendor/fontawesome-free/webfonts/fa-brands-400.woff2 HTTP/1.1\" 200 76224 0.002003\n",
      "127.0.0.1 - - [2021-06-23 14:29:35] \"POST /query_data?view_id=open_broker_report&params=_173364_ HTTP/1.1\" 200 244788 0.020054\n",
      "127.0.0.1 - - [2021-06-23 14:29:35] \"GET /static/favicon-16x16.png HTTP/1.1\" 200 641 0.002002\n",
      "127.0.0.1 - - [2021-06-23 14:30:04] \"GET / HTTP/1.1\" 200 8655 0.000986\n",
      "127.0.0.1 - - [2021-06-23 14:30:04] \"GET /static/vendor/fontawesome-free/css/all.min.css HTTP/1.1\" 200 57471 0.002007\n",
      "127.0.0.1 - - [2021-06-23 14:30:04] \"GET /static/css/template.css HTTP/1.1\" 200 16694 0.001989\n",
      "127.0.0.1 - - [2021-06-23 14:30:04] \"GET /static/css/mycss.css HTTP/1.1\" 200 2416 0.002007\n",
      "127.0.0.1 - - [2021-06-23 14:30:04] \"GET /static/vendor/jquery/jquery-3.4.1.slim.min.js HTTP/1.1\" 200 88448 0.002003\n",
      "127.0.0.1 - - [2021-06-23 14:30:04] \"GET /static/vendor/jquery/popper.min.js HTTP/1.1\" 200 21562 0.002007\n",
      "127.0.0.1 - - [2021-06-23 14:30:04] \"GET /static/vendor/bootstrsap4/bootstrap.min.js HTTP/1.1\" 200 60317 0.002004\n",
      "127.0.0.1 - - [2021-06-23 14:30:04] \"GET /static/vendor/d3/d3.v5.min.js HTTP/1.1\" 200 248619 0.003009\n",
      "127.0.0.1 - - [2021-06-23 14:30:04] \"GET /static/js/ajax_get_data.js HTTP/1.1\" 200 815 0.001989\n",
      "127.0.0.1 - - [2021-06-23 14:30:04] \"GET /static/vendor/handsontable/handsontable.full.min.js HTTP/1.1\" 200 1154262 0.011030\n",
      "127.0.0.1 - - [2021-06-23 14:30:04] \"GET /static/js/gen_table.js HTTP/1.1\" 200 2004 0.002004\n",
      "127.0.0.1 - - [2021-06-23 14:30:04] \"GET /static/js/index.js HTTP/1.1\" 200 1443 0.004009\n",
      "127.0.0.1 - - [2021-06-23 14:30:04] \"GET /static/js/template.js HTTP/1.1\" 200 1712 0.001003\n",
      "127.0.0.1 - - [2021-06-23 14:30:05] \"GET /static/vendor/fontawesome-free/webfonts/fa-solid-900.woff2 HTTP/1.1\" 200 76372 0.003007\n",
      "127.0.0.1 - - [2021-06-23 14:30:05] \"GET /static/vendor/fontawesome-free/webfonts/fa-brands-400.woff2 HTTP/1.1\" 200 76224 0.002008\n",
      "127.0.0.1 - - [2021-06-23 14:30:05] \"POST /query_data?view_id=open_broker_report&params=_173364_ HTTP/1.1\" 200 244788 0.020047\n",
      "127.0.0.1 - - [2021-06-23 14:30:05] \"GET /static/favicon-16x16.png HTTP/1.1\" 200 641 0.002003\n",
      "127.0.0.1 - - [2021-06-23 14:31:13] \"GET / HTTP/1.1\" 200 8655 0.001002\n",
      "127.0.0.1 - - [2021-06-23 14:31:13] \"GET /static/vendor/fontawesome-free/css/all.min.css HTTP/1.1\" 200 57471 0.002007\n",
      "127.0.0.1 - - [2021-06-23 14:31:13] \"GET /static/css/template.css HTTP/1.1\" 200 16694 0.002001\n",
      "127.0.0.1 - - [2021-06-23 14:31:13] \"GET /static/css/mycss.css HTTP/1.1\" 200 2416 0.002006\n",
      "127.0.0.1 - - [2021-06-23 14:31:13] \"GET /static/vendor/jquery/jquery-3.4.1.slim.min.js HTTP/1.1\" 200 88448 0.003007\n",
      "127.0.0.1 - - [2021-06-23 14:31:13] \"GET /static/vendor/jquery/popper.min.js HTTP/1.1\" 200 21562 0.002006\n",
      "127.0.0.1 - - [2021-06-23 14:31:13] \"GET /static/vendor/bootstrsap4/bootstrap.min.js HTTP/1.1\" 200 60317 0.002005\n",
      "127.0.0.1 - - [2021-06-23 14:31:13] \"GET /static/vendor/d3/d3.v5.min.js HTTP/1.1\" 200 248619 0.003006\n",
      "127.0.0.1 - - [2021-06-23 14:31:13] \"GET /static/js/ajax_get_data.js HTTP/1.1\" 200 815 0.001028\n",
      "127.0.0.1 - - [2021-06-23 14:31:13] \"GET /static/vendor/handsontable/handsontable.full.min.js HTTP/1.1\" 200 1154262 0.014036\n",
      "127.0.0.1 - - [2021-06-23 14:31:13] \"GET /static/js/gen_table.js HTTP/1.1\" 200 2004 0.001004\n",
      "127.0.0.1 - - [2021-06-23 14:31:13] \"GET /static/js/index.js HTTP/1.1\" 200 1433 0.004011\n",
      "127.0.0.1 - - [2021-06-23 14:31:13] \"GET /static/js/template.js HTTP/1.1\" 200 1712 0.002005\n",
      "127.0.0.1 - - [2021-06-23 14:31:13] \"GET /static/vendor/fontawesome-free/webfonts/fa-solid-900.woff2 HTTP/1.1\" 200 76372 0.002008\n",
      "127.0.0.1 - - [2021-06-23 14:31:13] \"GET /static/vendor/fontawesome-free/webfonts/fa-brands-400.woff2 HTTP/1.1\" 200 76224 0.002005\n",
      "127.0.0.1 - - [2021-06-23 14:31:13] \"POST /query_data?view_id=open_broker_report&params=_173364_ HTTP/1.1\" 200 244788 0.020037\n",
      "127.0.0.1 - - [2021-06-23 14:31:14] \"GET /static/favicon-16x16.png HTTP/1.1\" 200 641 0.001991\n",
      "127.0.0.1 - - [2021-06-24 00:24:57] \"GET / HTTP/1.1\" 200 8655 0.011500\n",
      "127.0.0.1 - - [2021-06-24 00:24:57] \"GET /static/vendor/fontawesome-free/css/all.min.css HTTP/1.1\" 200 57471 0.002508\n",
      "127.0.0.1 - - [2021-06-24 00:24:57] \"GET /static/css/template.css HTTP/1.1\" 200 16694 0.001504\n",
      "127.0.0.1 - - [2021-06-24 00:24:57] \"GET /static/css/mycss.css HTTP/1.1\" 200 2416 0.001505\n",
      "127.0.0.1 - - [2021-06-24 00:24:57] \"GET /static/vendor/jquery/jquery-3.4.1.slim.min.js HTTP/1.1\" 200 88448 0.002511\n",
      "127.0.0.1 - - [2021-06-24 00:24:57] \"GET /static/vendor/jquery/popper.min.js HTTP/1.1\" 200 21562 0.002507\n",
      "127.0.0.1 - - [2021-06-24 00:24:57] \"GET /static/vendor/bootstrsap4/bootstrap.min.js HTTP/1.1\" 200 60317 0.002004\n",
      "127.0.0.1 - - [2021-06-24 00:24:57] \"GET /static/vendor/d3/d3.v5.min.js HTTP/1.1\" 200 248619 0.004010\n",
      "127.0.0.1 - - [2021-06-24 00:24:57] \"GET /static/js/template.js HTTP/1.1\" 200 1712 0.001505\n",
      "127.0.0.1 - - [2021-06-24 00:24:57] \"GET /static/js/ajax_get_data.js HTTP/1.1\" 200 815 0.001505\n",
      "127.0.0.1 - - [2021-06-24 00:24:57] \"GET /static/vendor/handsontable/handsontable.full.min.js HTTP/1.1\" 200 1154262 0.011530\n",
      "127.0.0.1 - - [2021-06-24 00:24:57] \"GET /static/js/gen_table.js HTTP/1.1\" 200 2004 0.001493\n",
      "127.0.0.1 - - [2021-06-24 00:24:57] \"GET /static/js/index.js HTTP/1.1\" 200 1433 0.001517\n",
      "127.0.0.1 - - [2021-06-24 00:24:57] \"GET /static/vendor/fontawesome-free/webfonts/fa-solid-900.woff2 HTTP/1.1\" 200 76372 0.002498\n",
      "127.0.0.1 - - [2021-06-24 00:24:57] \"GET /static/vendor/fontawesome-free/webfonts/fa-brands-400.woff2 HTTP/1.1\" 200 76224 0.003015\n",
      "127.0.0.1 - - [2021-06-24 00:24:57] \"POST /query_data?view_id=open_broker_report&params=_173364_ HTTP/1.1\" 200 244788 0.034611\n",
      "127.0.0.1 - - [2021-06-24 00:24:57] \"GET /static/favicon-16x16.png HTTP/1.1\" 200 641 0.001506\n"
     ]
    }
   ],
   "source": [
    "#monkey.patch_all(thread=False,select=False)\n",
    "server = pywsgi.WSGIServer(('127.0.0.2', 5000), app)\n",
    "#app.debug = Trueee\n",
    "server.serve_forever()\n",
    "#http://127.0.0.2:5000/"
   ]
  },
  {
   "cell_type": "code",
   "execution_count": null,
   "metadata": {},
   "outputs": [],
   "source": [
    "from jobs import job_sl_bonds\n",
    "from db_drivers import mongo_manager\n",
    "cfg={\"driver\": \"mongo\", \"db_name\": \"trade\", \"host\": \"localhost\",\n",
    "     \"port\": 27017, \"user\": \"\", \"user_pswd\": \"\", \"mongo_data\": \"C:\\\\Users\\\\DB\"}\n",
    "\n",
    "a=job_sl_bonds(cfg)"
   ]
  },
  {
   "cell_type": "code",
   "execution_count": null,
   "metadata": {},
   "outputs": [],
   "source": [
    "%%time\n",
    "from sys import path\n",
    "from datetime import datetime\n",
    "import os\n",
    "path.append(os.path.join(os.getcwd(),'src'))\n",
    "\n",
    "from commons import convert_file_size,init_db_manager\n",
    "import pandas as pd\n",
    "from jobs import *\n",
    "#a=job_world_fond_indexes(init_db_manager())"
   ]
  },
  {
   "cell_type": "code",
   "execution_count": null,
   "metadata": {},
   "outputs": [],
   "source": [
    "a=job_sectors(init_db_manager())"
   ]
  },
  {
   "cell_type": "code",
   "execution_count": null,
   "metadata": {},
   "outputs": [],
   "source": [
    "db=init_db_manager()\n",
    "a=db.get_table('mosex_securities',result='json')\n",
    "#a=job_update_sec_hist(init_db_manager())"
   ]
  },
  {
   "cell_type": "code",
   "execution_count": null,
   "metadata": {},
   "outputs": [],
   "source": [
    "a=pd.DataFrame(a)"
   ]
  },
  {
   "cell_type": "code",
   "execution_count": null,
   "metadata": {},
   "outputs": [],
   "source": [
    "a.shape"
   ]
  },
  {
   "cell_type": "code",
   "execution_count": null,
   "metadata": {},
   "outputs": [],
   "source": [
    "db.get_table('sec_history_manager_mosex')"
   ]
  },
  {
   "cell_type": "code",
   "execution_count": null,
   "metadata": {},
   "outputs": [],
   "source": [
    "db.get_table('mosex_sec_history')[-10:]"
   ]
  },
  {
   "cell_type": "code",
   "execution_count": null,
   "metadata": {},
   "outputs": [],
   "source": [
    "r=db.find_one('sec_history_manager_mosex',{\"secid\":'GAZP111'})"
   ]
  },
  {
   "cell_type": "code",
   "execution_count": null,
   "metadata": {},
   "outputs": [],
   "source": [
    "from datetime import datetime\n",
    "datetime.strptime('2016-01-04','%Y-%m-%d').month"
   ]
  },
  {
   "cell_type": "code",
   "execution_count": null,
   "metadata": {},
   "outputs": [],
   "source": [
    "db=init_db_manager()"
   ]
  },
  {
   "cell_type": "code",
   "execution_count": null,
   "metadata": {},
   "outputs": [],
   "source": [
    "df[df.boardid=='TQBR'].tradedate.nunique()"
   ]
  },
  {
   "cell_type": "code",
   "execution_count": null,
   "metadata": {},
   "outputs": [],
   "source": [
    "from sys import path\n",
    "path.append(r\"C:\\Users\\Kart\\jupyter_projects\\webtrade\\webtrade\\external_sources\")\n",
    "\n",
    "from external_sources import mosex,tradingview\n",
    "import pandas as pd\n",
    "a=mosex()\n",
    "#a=tradingview()"
   ]
  },
  {
   "cell_type": "code",
   "execution_count": null,
   "metadata": {},
   "outputs": [],
   "source": [
    "\n",
    "aa=a.security_hist('SBER')"
   ]
  },
  {
   "cell_type": "code",
   "execution_count": null,
   "metadata": {},
   "outputs": [],
   "source": [
    "aa[1][1]"
   ]
  },
  {
   "cell_type": "code",
   "execution_count": null,
   "metadata": {},
   "outputs": [],
   "source": [
    "datetime.now()"
   ]
  },
  {
   "cell_type": "code",
   "execution_count": null,
   "metadata": {},
   "outputs": [],
   "source": [
    "for el in list(map(lambda s:s.lower(),aa[1][0])):\n",
    "    print(el+\"=\"+el+\"_ind,\")"
   ]
  },
  {
   "cell_type": "code",
   "execution_count": null,
   "metadata": {},
   "outputs": [],
   "source": [
    "aa[1][0]"
   ]
  },
  {
   "cell_type": "code",
   "execution_count": null,
   "metadata": {},
   "outputs": [],
   "source": [
    "df=aa[1][1]"
   ]
  },
  {
   "cell_type": "code",
   "execution_count": null,
   "metadata": {},
   "outputs": [],
   "source": [
    "aa.json()['history.cursor']"
   ]
  },
  {
   "cell_type": "code",
   "execution_count": null,
   "metadata": {},
   "outputs": [],
   "source": [
    "%%time\n",
    "a=job_sectors(init_db_manager())"
   ]
  },
  {
   "cell_type": "code",
   "execution_count": null,
   "metadata": {},
   "outputs": [],
   "source": [
    "from requests import Session\n",
    "from multiprocessing.dummy import Pool as ThreadPool\n",
    "s = Session()\n",
    "s.get(\"http://ya.ru\")\n",
    "def f(url):\n",
    "    return s.get(url)\n",
    "\n",
    "\n",
    "    \n",
    "urls=[r'https://www.rbc.ru/',r'http://ya.ru/']"
   ]
  }
 ],
 "metadata": {
  "kernelspec": {
   "display_name": "Python 3",
   "language": "python",
   "name": "python3"
  },
  "language_info": {
   "codemirror_mode": {
    "name": "ipython",
    "version": 3
   },
   "file_extension": ".py",
   "mimetype": "text/x-python",
   "name": "python",
   "nbconvert_exporter": "python",
   "pygments_lexer": "ipython3",
   "version": "3.8.3"
  }
 },
 "nbformat": 4,
 "nbformat_minor": 2
}
