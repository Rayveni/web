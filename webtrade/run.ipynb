{
 "cells": [
  {
   "cell_type": "code",
   "execution_count": null,
   "metadata": {
    "collapsed": true
   },
   "outputs": [],
   "source": [
    "import sys\n",
    "import os\n",
    "from src import app\n",
    "from gevent import monkey,pywsgi\n",
    "CURRENT_DIR = os.getcwd()\n",
    "sys.path.insert(0, CURRENT_DIR)"
   ]
  },
  {
   "cell_type": "code",
   "execution_count": null,
   "metadata": {},
   "outputs": [
    {
     "name": "stdout",
     "output_type": "stream",
     "text": [
      "The history saving thread hit an unexpected error (LoopExit('This operation would block forever', <Hub at 0x272a0b3e2a8 select pending=0 ref=0>)).History will not be written to the database.\n"
     ]
    },
    {
     "name": "stderr",
     "output_type": "stream",
     "text": [
      "127.0.0.1 - - [2020-02-16 22:38:35] \"GET /bonds HTTP/1.1\" 200 6970 0.023890\n",
      "127.0.0.1 - - [2020-02-16 22:38:35] \"GET /static/vendor/fontawesome-free/css/all.min.css HTTP/1.1\" 200 57493 0.002011\n",
      "127.0.0.1 - - [2020-02-16 22:38:35] \"GET /static/css/template.css HTTP/1.1\" 200 16353 0.002004\n",
      "127.0.0.1 - - [2020-02-16 22:38:35] \"GET /static/css/mycss.css HTTP/1.1\" 200 1784 0.002004\n",
      "127.0.0.1 - - [2020-02-16 22:38:35] \"GET /static/css/daterangepicker.css HTTP/1.1\" 200 8374 0.001988\n",
      "127.0.0.1 - - [2020-02-16 22:38:35] \"GET /static/vendor/jquery/jquery-3.4.1.slim.min.js HTTP/1.1\" 200 88468 0.003008\n",
      "127.0.0.1 - - [2020-02-16 22:38:35] \"GET /static/vendor/jquery/popper.min.js HTTP/1.1\" 200 21584 0.002001\n",
      "127.0.0.1 - - [2020-02-16 22:38:35] \"GET /static/js/bonds.js HTTP/1.1\" 200 1131 0.003007\n",
      "127.0.0.1 - - [2020-02-16 22:38:35] \"GET /static/vendor/daterangepicker/moment.min.js HTTP/1.1\" 200 51788 0.002509\n",
      "127.0.0.1 - - [2020-02-16 22:38:35] \"GET /static/vendor/daterangepicker/daterangepicker.min.js HTTP/1.1\" 200 32681 0.004010\n",
      "127.0.0.1 - - [2020-02-16 22:38:35] \"GET /static/js/template.js HTTP/1.1\" 200 1087 0.002507\n",
      "127.0.0.1 - - [2020-02-16 22:38:35] \"GET /static/vendor/bootstrsap4/bootstrap.min.js HTTP/1.1\" 200 60338 0.004532\n",
      "127.0.0.1 - - [2020-02-16 22:38:35] \"GET /static/vendor/fontawesome-free/webfonts/fa-solid-900.woff2 HTTP/1.1\" 200 76394 0.003010\n",
      "127.0.0.1 - - [2020-02-16 22:38:35] \"GET /static/vendor/fontawesome-free/webfonts/fa-brands-400.woff2 HTTP/1.1\" 200 76246 0.003005\n",
      "127.0.0.1 - - [2020-02-16 22:38:35] \"GET /static/favicon-16x16.png HTTP/1.1\" 200 664 0.001503\n"
     ]
    }
   ],
   "source": [
    "monkey.patch_all()\n",
    "server = pywsgi.WSGIServer(('127.0.0.2', 5000), app)\n",
    "#app.debug = True\n",
    "server.serve_forever()\n",
    "#http://127.0.0.2:5000/"
   ]
  },
  {
   "cell_type": "code",
   "execution_count": null,
   "metadata": {
    "collapsed": true
   },
   "outputs": [],
   "source": [
    "import sys\n",
    "sys.path.insert(1, r'C:\\Users\\Kart\\jupyter_projects')\n",
    "import mygit as mg"
   ]
  },
  {
   "cell_type": "code",
   "execution_count": null,
   "metadata": {
    "collapsed": true
   },
   "outputs": [],
   "source": [
    "folder=r'C:\\Users\\Kart\\jupyter_projects\\webtrade'\n",
    "git_url='git@github.com:Rayveni/web.git'\n",
    "gt=mg.gitwrapper(folder)\n",
    "gt.push_commit(git_url,commit_msg='update')"
   ]
  },
  {
   "cell_type": "code",
   "execution_count": null,
   "metadata": {
    "collapsed": true
   },
   "outputs": [],
   "source": [
    "from jobs import job_sl_bonds\n",
    "from db_drivers import mongo_manager\n",
    "cfg={\"driver\": \"mongo\", \"db_name\": \"trade\", \"host\": \"localhost\",\n",
    "     \"port\": 27017, \"user\": \"\", \"user_pswd\": \"\", \"mongo_data\": \"C:\\\\Users\\\\DB\"}\n",
    "\n",
    "a=job_sl_bonds(cfg)"
   ]
  },
  {
   "cell_type": "code",
   "execution_count": null,
   "metadata": {
    "collapsed": true
   },
   "outputs": [],
   "source": [
    "from sys import path\n",
    "path.append(r\"C:\\Users\\Kart\\jupyter_projects\\webtrade\\webtrade\\src\")"
   ]
  },
  {
   "cell_type": "code",
   "execution_count": null,
   "metadata": {},
   "outputs": [],
   "source": [
    "from commons import convert_file_size,init_db_manager\n",
    "from jobs import *\n",
    "#a=job_sectors(init_db_manager())"
   ]
  },
  {
   "cell_type": "code",
   "execution_count": null,
   "metadata": {},
   "outputs": [],
   "source": []
  },
  {
   "cell_type": "code",
   "execution_count": null,
   "metadata": {
    "collapsed": true
   },
   "outputs": [],
   "source": [
    "    err,db_stats=__db_stats()\n",
    "    if not err[0]:\n",
    "        flash_complex_result(err,db_stats)\n",
    "    else:\n",
    "        pass"
   ]
  }
 ],
 "metadata": {
  "kernelspec": {
   "display_name": "Python 3",
   "language": "python",
   "name": "python3"
  },
  "language_info": {
   "codemirror_mode": {
    "name": "ipython",
    "version": 3
   },
   "file_extension": ".py",
   "mimetype": "text/x-python",
   "name": "python",
   "nbconvert_exporter": "python",
   "pygments_lexer": "ipython3",
   "version": "3.6.7"
  }
 },
 "nbformat": 4,
 "nbformat_minor": 2
}
