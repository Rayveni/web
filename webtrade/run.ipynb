{
 "cells": [
  {
   "cell_type": "code",
   "execution_count": null,
   "metadata": {
    "collapsed": true
   },
   "outputs": [],
   "source": [
    "import sys\n",
    "import os\n",
    "from src import app\n",
    "from gevent import monkey,pywsgi\n",
    "CURRENT_DIR = os.getcwd()\n",
    "sys.path.insert(0, CURRENT_DIR)"
   ]
  },
  {
   "cell_type": "code",
   "execution_count": null,
   "metadata": {
    "scrolled": true
   },
   "outputs": [
    {
     "name": "stderr",
     "output_type": "stream",
     "text": [
      "127.0.0.1 - - [2020-07-04 00:01:44] \"GET /bonds HTTP/1.1\" 200 8073 0.031083\n",
      "127.0.0.1 - - [2020-07-04 00:01:44] \"GET /static/vendor/jquery/popper.min.js.map HTTP/1.1\" 404 341 0.001004\n",
      "127.0.0.1 - - [2020-07-04 00:01:44] \"GET /static/vendor/bootstrsap4/bootstrap.min.js.map HTTP/1.1\" 404 341 0.001000\n",
      "127.0.0.1 - - [2020-07-04 00:01:44] \"GET /sm/3a884fe0bdb97cb3a94b410e67cf38fdc248890d5581232077b3e6241e25cd21.map HTTP/1.1\" 404 341 0.001004\n",
      "127.0.0.1 - - [2020-07-04 00:01:45] \"POST /query_data?table=smartlabbondsrus HTTP/1.1\" 200 384486 0.060140\n",
      "127.0.0.1 - - [2020-07-04 00:01:45] \"POST /query_data?table=smartlabbondsusd HTTP/1.1\" 200 26075 0.013040\n",
      "127.0.0.1 - - [2020-07-04 00:01:45] \"GET /static/favicon-16x16.png HTTP/1.1\" 200 663 0.002007\n",
      "127.0.0.1 - - [2020-07-04 00:04:03] \"GET /bonds HTTP/1.1\" 200 8073 0.009023\n",
      "127.0.0.1 - - [2020-07-04 00:04:03] \"GET /static/vendor/fontawesome-free/css/all.min.css HTTP/1.1\" 200 57492 0.003035\n",
      "127.0.0.1 - - [2020-07-04 00:04:03] \"GET /static/css/template.css HTTP/1.1\" 200 16645 0.002021\n",
      "127.0.0.1 - - [2020-07-04 00:04:03] \"GET /static/css/mycss.css HTTP/1.1\" 200 2126 0.002005\n",
      "127.0.0.1 - - [2020-07-04 00:04:03] \"GET /static/css/handsontable.full.min.css HTTP/1.1\" 200 38133 0.002006\n",
      "127.0.0.1 - - [2020-07-04 00:04:03] \"GET /static/css/daterangepicker.css HTTP/1.1\" 200 8376 0.001001\n",
      "127.0.0.1 - - [2020-07-04 00:04:03] \"GET /static/vendor/jquery/jquery-3.4.1.slim.min.js HTTP/1.1\" 200 88470 0.003012\n",
      "127.0.0.1 - - [2020-07-04 00:04:03] \"GET /static/vendor/crossfilter/crossfilter.min.js HTTP/1.1\" 200 14938 0.001996\n",
      "127.0.0.1 - - [2020-07-04 00:04:03] \"GET /static/js/template.js HTTP/1.1\" 200 1194 0.002014\n",
      "127.0.0.1 - - [2020-07-04 00:04:03] \"GET /static/vendor/daterangepicker/moment.min.js HTTP/1.1\" 200 51794 0.002021\n",
      "127.0.0.1 - - [2020-07-04 00:04:03] \"GET /static/vendor/bootstrsap4/bootstrap.min.js HTTP/1.1\" 200 60339 0.003008\n",
      "127.0.0.1 - - [2020-07-04 00:04:03] \"GET /static/vendor/jquery/popper.min.js HTTP/1.1\" 200 21584 0.002005\n",
      "127.0.0.1 - - [2020-07-04 00:04:03] \"GET /static/vendor/daterangepicker/daterangepicker.min.js HTTP/1.1\" 200 32688 0.002006\n",
      "127.0.0.1 - - [2020-07-04 00:04:03] \"GET /static/vendor/handsontable/handsontable.full.min.js HTTP/1.1\" 200 1154284 0.011029\n",
      "127.0.0.1 - - [2020-07-04 00:04:03] \"GET /static/js/ajax_get_data.js HTTP/1.1\" 200 837 0.002006\n",
      "127.0.0.1 - - [2020-07-04 00:04:03] \"GET /static/js/bonds.js HTTP/1.1\" 200 8210 0.001001\n",
      "127.0.0.1 - - [2020-07-04 00:04:03] \"GET /static/vendor/fontawesome-free/webfonts/fa-solid-900.woff2 HTTP/1.1\" 200 76394 0.002006\n",
      "127.0.0.1 - - [2020-07-04 00:04:03] \"GET /static/vendor/fontawesome-free/webfonts/fa-brands-400.woff2 HTTP/1.1\" 200 76246 0.002992\n",
      "127.0.0.1 - - [2020-07-04 00:04:03] \"GET /static/vendor/fontawesome-free/webfonts/fa-regular-400.woff2 HTTP/1.1\" 200 13885 0.001003\n",
      "127.0.0.1 - - [2020-07-04 00:04:03] \"POST /query_data?table=smartlabbondsrus HTTP/1.1\" 200 384486 0.046128\n",
      "127.0.0.1 - - [2020-07-04 00:04:03] \"POST /query_data?table=smartlabbondsusd HTTP/1.1\" 200 26075 0.019078\n",
      "127.0.0.1 - - [2020-07-04 00:04:03] \"GET /static/favicon-16x16.png HTTP/1.1\" 200 663 0.002996\n"
     ]
    }
   ],
   "source": [
    "monkey.patch_all(thread=False)\n",
    "server = pywsgi.WSGIServer(('127.0.0.2', 5000), app)\n",
    "#app.debug = Trueee\n",
    "server.serve_forever()\n",
    "#http://127.0.0.2:5000/"
   ]
  },
  {
   "cell_type": "code",
   "execution_count": null,
   "metadata": {},
   "outputs": [],
   "source": [
    "import mygit as mg\n",
    "from pathlib import Path\n",
    "import os\n",
    "folder=os.path.abspath('{}/..'.format(os.getcwd()))\n",
    "#folder=Path(folder).parent\n",
    "git_url='git@github.com:Rayveni/web.git'\n",
    "gt=mg.gitwrapper(folder)\n",
    "#gt.pyignore()\n",
    "#git reset --hard origin/master gt.pull()\n",
    "gt.push_commit(git_url,commit_msg='update')"
   ]
  },
  {
   "cell_type": "code",
   "execution_count": null,
   "metadata": {},
   "outputs": [],
   "source": [
    "from jobs import job_sl_bonds\n",
    "from db_drivers import mongo_manager\n",
    "cfg={\"driver\": \"mongo\", \"db_name\": \"trade\", \"host\": \"localhost\",\n",
    "     \"port\": 27017, \"user\": \"\", \"user_pswd\": \"\", \"mongo_data\": \"C:\\\\Users\\\\DB\"}\n",
    "\n",
    "a=job_sl_bonds(cfg)"
   ]
  },
  {
   "cell_type": "code",
   "execution_count": null,
   "metadata": {
    "collapsed": true
   },
   "outputs": [],
   "source": [
    "%%time\n",
    "from sys import path\n",
    "import os\n",
    "path.append(os.path.join(os.getcwd(),'src'))\n",
    "\n",
    "from commons import convert_file_size,init_db_manager\n",
    "from jobs import *\n",
    "#a=job_world_fond_indexes(init_db_manager())"
   ]
  },
  {
   "cell_type": "code",
   "execution_count": null,
   "metadata": {
    "collapsed": true
   },
   "outputs": [],
   "source": [
    "from datetime import datetime\n",
    "datetime.now().year"
   ]
  },
  {
   "cell_type": "code",
   "execution_count": null,
   "metadata": {
    "collapsed": true
   },
   "outputs": [],
   "source": [
    "from sys import path\n",
    "path.append(r\"C:\\Users\\Kart\\jupyter_projects\\webtrade\\webtrade\\external_sources\")\n",
    "\n",
    "from external_sources import mosex,tradingview\n",
    "import pandas as pd\n",
    "a=mosex()\n",
    "a=tradingview()"
   ]
  },
  {
   "cell_type": "code",
   "execution_count": null,
   "metadata": {},
   "outputs": [],
   "source": [
    "\n",
    "import lxml.html as lh\n",
    "from collections import Counter\n",
    "\n",
    "class smartlab(request_session):\n",
    "    __slots__='sources','link'\n",
    "    def __init__(self):\n",
    "        self.link:str=r'https://smart-lab.ru'\n",
    "        self.sources:dict={'bonds':{'ОФЗ':{'link':r'/q/ofz/','currency':'RUR','paging':None},\n",
    "                               'Муниципальные':{'link':r'/q/subfed/','currency':'RUR','paging':None},\n",
    "                               'Корпоративные':{'link':r'/q/bonds/','currency':'RUR'\n",
    "                                                ,r'paging':'order_by_val_to_day/desc/page{}/'},\n",
    "                               'Еврооблигации':{'link':r'/q/eurobonds/','currency':'USD','paging':None}\n",
    "                              },\n",
    "                           'bonds_query':r'/q/bonds/'\n",
    "                           \n",
    "                     }\n",
    "        self.limit_pages=100\n",
    "\n",
    "    def __table_from_html(self,url:str,extra_fields_dict:dict=None)->tuple:\n",
    "        mask=\"Unnamed: {}\"\n",
    "        \"\"\"\n",
    "        extra_fields_dict={field_text_val:[{'add_column_name':0,'xpath_text':\"a/@href\",'insert_position':0}]}\n",
    "        \"\"\"\n",
    "        with self._init_session() as s:\n",
    "            page=s.get(url)\n",
    "        doc = lh.fromstring(page.content)\n",
    "        tr_elements = doc.xpath('//tr')\n",
    "        header=[h.text_content() for h in tr_elements[0]]\n",
    "        ununique_columns=[ key for key,value in Counter(header).items() if value>1]\n",
    "        if len(ununique_columns)>0:\n",
    "            for i in range(len(header)):\n",
    "                if header[i] in ununique_columns:\n",
    "                    header[i]=mask.format(i)\n",
    "                \n",
    "        if extra_fields_dict:\n",
    "            keys= list(extra_fields_dict.keys())\n",
    "            for key in keys:\n",
    "                value=extra_fields_dict[key]\n",
    "\n",
    "                extra_fields_dict[header.index(key)]=extra_fields_dict.pop(key)\n",
    "                for condition in value:\n",
    "                    header.insert(condition['insert_position'],condition['add_column_name'])\n",
    "\n",
    "        res=[]\n",
    "\n",
    "        for row in tr_elements[1:]:           \n",
    "            arr=[el.text_content() for el in row]\n",
    "            if len(arr)>1:\n",
    "                if extra_fields_dict:\n",
    "                    for key,value in extra_fields_dict.items():\n",
    "\n",
    "                        xml_element=row[key]\n",
    "                        for condition in value:\n",
    "                            arr.insert(condition['insert_position'],xml_element.xpath(condition['xpath_text']))\n",
    "\n",
    "                res.append(arr)\n",
    "        return header,res        \n",
    "            \n",
    "    def __extract_pages(self,url,paging,extra_fields_dict):\n",
    "        i = 1\n",
    "        res=[]\n",
    "        while i < self.limit_pages:      \n",
    "            page=self.__table_from_html(url+paging.format(i),extra_fields_dict={**extra_fields_dict})\n",
    "            _table=page[1]\n",
    "            if len(_table)==0:\n",
    "                break\n",
    "            else:\n",
    "                _header=page[0]\n",
    "                res+=_table\n",
    "            i+=1  \n",
    "        return _header,res\n",
    "        \n",
    "        \n",
    "    def bonds_info(self)->dict:\n",
    "        bonds_dict=self.sources['bonds']\n",
    "        res={}\n",
    "        for bond_group in list(bonds_dict.keys()):\n",
    "            info=bonds_dict[bond_group]\n",
    "            url,currency,paging=self.link+info['link'],info['currency'],info['paging']\n",
    "            ticker='Тикер'\n",
    "            extra_fields_dict={'Имя':[{'add_column_name':ticker\n",
    "                                       ,'xpath_text':\"a/@href\"\n",
    "                                       ,'insert_position':1\n",
    "                                      } \n",
    "                                     ]}  \n",
    "            if paging is None:\n",
    "                res[bond_group]=(*self.__table_from_html(url,extra_fields_dict=extra_fields_dict),currency)\n",
    "            else:\n",
    "                 res[bond_group]=(*self.__extract_pages(url,paging,extra_fields_dict),currency)\n",
    "\n",
    "        return res\n",
    "    \n",
    "a=smartlab().bonds_info()"
   ]
  }
 ],
 "metadata": {
  "kernelspec": {
   "display_name": "Python 3",
   "language": "python",
   "name": "python3"
  },
  "language_info": {
   "codemirror_mode": {
    "name": "ipython",
    "version": 3
   },
   "file_extension": ".py",
   "mimetype": "text/x-python",
   "name": "python",
   "nbconvert_exporter": "python",
   "pygments_lexer": "ipython3",
   "version": "3.6.10"
  }
 },
 "nbformat": 4,
 "nbformat_minor": 2
}
