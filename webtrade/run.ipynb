{
 "cells": [
  {
   "cell_type": "code",
   "execution_count": 1,
   "metadata": {},
   "outputs": [],
   "source": [
    "import sys\n",
    "import os\n",
    "from src import app\n",
    "from gevent import monkey,pywsgi\n",
    "CURRENT_DIR = os.getcwd()\n",
    "sys.path.insert(0, CURRENT_DIR)"
   ]
  },
  {
   "cell_type": "code",
   "execution_count": null,
   "metadata": {
    "scrolled": true
   },
   "outputs": [
    {
     "name": "stderr",
     "output_type": "stream",
     "text": [
      "C:\\ProgramData\\Anaconda3\\lib\\site-packages\\ipykernel_launcher.py:1: MonkeyPatchWarning: Monkey-patching ssl after ssl has already been imported may lead to errors, including RecursionError on Python 3.6. It may also silently lead to incorrect behaviour on Python 3.7. Please monkey-patch earlier. See https://github.com/gevent/gevent/issues/1016. Modules that had direct imports (NOT patched): ['pymongo.ssl_support (C:\\\\ProgramData\\\\Anaconda3\\\\lib\\\\site-packages\\\\pymongo\\\\ssl_support.py)', 'urllib3.util (C:\\\\ProgramData\\\\Anaconda3\\\\lib\\\\site-packages\\\\urllib3\\\\util\\\\__init__.py)', 'urllib3.contrib.pyopenssl (C:\\\\ProgramData\\\\Anaconda3\\\\lib\\\\site-packages\\\\urllib3\\\\contrib\\\\pyopenssl.py)']. \n",
      "  \"\"\"Entry point for launching an IPython kernel.\n"
     ]
    },
    {
     "name": "stdout",
     "output_type": "stream",
     "text": [
      "{'title': 'admin|api keys', 'params': {'alphavantage': 'AWT27M4Y1HHNIGXL', 'ff': 'rr'}}\n"
     ]
    },
    {
     "name": "stderr",
     "output_type": "stream",
     "text": [
      "127.0.0.1 - - [2020-03-03 10:49:35] \"GET /admin/api_keys HTTP/1.1\" 200 6482 0.061431\n",
      "127.0.0.1 - - [2020-03-03 10:49:35] \"GET /static/vendor/fontawesome-free/css/all.min.css HTTP/1.1\" 200 57493 0.001998\n",
      "127.0.0.1 - - [2020-03-03 10:49:35] \"GET /static/css/template.css HTTP/1.1\" 200 16644 0.001996\n",
      "127.0.0.1 - - [2020-03-03 10:49:35] \"GET /static/css/mycss.css HTTP/1.1\" 200 2076 0.002032\n",
      "127.0.0.1 - - [2020-03-03 10:49:35] \"GET /static/vendor/jquery/jquery-3.4.1.slim.min.js HTTP/1.1\" 200 88469 0.001952\n",
      "127.0.0.1 - - [2020-03-03 10:49:35] \"GET /static/vendor/jquery/popper.min.js HTTP/1.1\" 200 21585 0.001995\n",
      "127.0.0.1 - - [2020-03-03 10:49:35] \"GET /static/vendor/bootstrsap4/bootstrap.min.js HTTP/1.1\" 200 60337 0.001994\n",
      "127.0.0.1 - - [2020-03-03 10:49:35] \"GET /static/js/table_search_filter.js HTTP/1.1\" 200 931 0.000998\n",
      "127.0.0.1 - - [2020-03-03 10:49:35] \"GET /static/js/template.js HTTP/1.1\" 200 1194 0.000997\n",
      "127.0.0.1 - - [2020-03-03 10:49:35] \"GET /static/vendor/fontawesome-free/webfonts/fa-solid-900.woff2 HTTP/1.1\" 200 76393 0.000986\n",
      "127.0.0.1 - - [2020-03-03 10:49:35] \"GET /static/vendor/fontawesome-free/webfonts/fa-brands-400.woff2 HTTP/1.1\" 200 76246 0.001996\n",
      "127.0.0.1 - - [2020-03-03 10:49:35] \"GET /static/vendor/fontawesome-free/webfonts/fa-regular-400.woff2 HTTP/1.1\" 200 13886 0.001995\n",
      "127.0.0.1 - - [2020-03-03 10:49:35] \"GET /static/favicon-16x16.png HTTP/1.1\" 200 663 0.001994\n",
      "127.0.0.1 - - [2020-03-03 10:49:40] \"POST /upload_mongo_form HTTP/1.1\" 302 558 0.009973\n",
      "127.0.0.1 - - [2020-03-03 10:49:40] \"GET /admin/api_keys HTTP/1.1\" 200 6816 0.007981\n"
     ]
    },
    {
     "name": "stdout",
     "output_type": "stream",
     "text": [
      "{'title': 'admin|api keys', 'params': {'alphavantage': 'AWT27M4Y1HHNIGXL', 'ff': ''}}\n",
      "{'title': 'admin|api keys', 'params': {'alphavantage': 'AWT27M4Y1HHNIGXL', 'ff': ''}}\n"
     ]
    },
    {
     "name": "stderr",
     "output_type": "stream",
     "text": [
      "127.0.0.1 - - [2020-03-03 10:49:44] \"GET /admin/api_keys HTTP/1.1\" 200 6480 0.018370\n",
      "127.0.0.1 - - [2020-03-03 10:49:44] \"GET /static/vendor/fontawesome-free/css/all.min.css HTTP/1.1\" 200 57493 0.002994\n",
      "127.0.0.1 - - [2020-03-03 10:49:44] \"GET /static/css/template.css HTTP/1.1\" 200 16644 0.001993\n",
      "127.0.0.1 - - [2020-03-03 10:49:44] \"GET /static/css/mycss.css HTTP/1.1\" 200 2076 0.000997\n",
      "127.0.0.1 - - [2020-03-03 10:49:44] \"GET /static/vendor/jquery/jquery-3.4.1.slim.min.js HTTP/1.1\" 200 88469 0.000997\n",
      "127.0.0.1 - - [2020-03-03 10:49:44] \"GET /static/vendor/jquery/popper.min.js HTTP/1.1\" 200 21585 0.001994\n",
      "127.0.0.1 - - [2020-03-03 10:49:44] \"GET /static/vendor/bootstrsap4/bootstrap.min.js HTTP/1.1\" 200 60337 0.003000\n",
      "127.0.0.1 - - [2020-03-03 10:49:44] \"GET /static/js/table_search_filter.js HTTP/1.1\" 200 931 0.000997\n",
      "127.0.0.1 - - [2020-03-03 10:49:44] \"GET /static/js/template.js HTTP/1.1\" 200 1194 0.002037\n",
      "127.0.0.1 - - [2020-03-03 10:49:44] \"GET /static/vendor/fontawesome-free/webfonts/fa-solid-900.woff2 HTTP/1.1\" 200 76393 0.000995\n",
      "127.0.0.1 - - [2020-03-03 10:49:44] \"GET /static/vendor/fontawesome-free/webfonts/fa-brands-400.woff2 HTTP/1.1\" 200 76246 0.001990\n",
      "127.0.0.1 - - [2020-03-03 10:49:44] \"GET /static/vendor/fontawesome-free/webfonts/fa-regular-400.woff2 HTTP/1.1\" 200 13886 0.001995\n",
      "127.0.0.1 - - [2020-03-03 10:49:45] \"GET /static/favicon-16x16.png HTTP/1.1\" 200 663 0.000998\n"
     ]
    }
   ],
   "source": [
    "monkey.patch_all(thread=False)\n",
    "server = pywsgi.WSGIServer(('127.0.0.2', 5000), app)\n",
    "#app.debug = Trueee\n",
    "server.serve_forever()\n",
    "#http://127.0.0.2:5000/"
   ]
  },
  {
   "cell_type": "code",
   "execution_count": null,
   "metadata": {},
   "outputs": [],
   "source": [
    "import mygit as mg\n",
    "from pathlib import Path\n",
    "import os\n",
    "folder=os.path.abspath('{}/..'.format(os.getcwd()))\n",
    "#folder=Path(folder).parent\n",
    "git_url='git@github.com:Rayveni/web.git'\n",
    "gt=mg.gitwrapper(folder)\n",
    "#gt.pyignore()\n",
    "#gt.pull()\n",
    "gt.push_commit(git_url,commit_msg='update')"
   ]
  },
  {
   "cell_type": "code",
   "execution_count": null,
   "metadata": {},
   "outputs": [],
   "source": [
    "from jobs import job_sl_bonds\n",
    "from db_drivers import mongo_manager\n",
    "cfg={\"driver\": \"mongo\", \"db_name\": \"trade\", \"host\": \"localhost\",\n",
    "     \"port\": 27017, \"user\": \"\", \"user_pswd\": \"\", \"mongo_data\": \"C:\\\\Users\\\\DB\"}\n",
    "\n",
    "a=job_sl_bonds(cfg)"
   ]
  },
  {
   "cell_type": "code",
   "execution_count": null,
   "metadata": {},
   "outputs": [],
   "source": [
    "from sys import path\n",
    "path.append(r\"C:\\Users\\Kart\\jupyter_projects\\webtrade\\webtrade\\src\")"
   ]
  },
  {
   "cell_type": "code",
   "execution_count": null,
   "metadata": {},
   "outputs": [],
   "source": [
    "from commons import convert_file_size,init_db_manager\n",
    "from jobs import *\n",
    "#a=job_sectors(init_db_manager())"
   ]
  },
  {
   "cell_type": "code",
   "execution_count": null,
   "metadata": {},
   "outputs": [],
   "source": [
    "a=job_sl_bonds(init_db_manager())"
   ]
  },
  {
   "cell_type": "code",
   "execution_count": null,
   "metadata": {},
   "outputs": [],
   "source": [
    "from sys import path\n",
    "path.append(r\"C:\\Users\\Kart\\jupyter_projects\\webtrade\\webtrade\\external_sources\")"
   ]
  },
  {
   "cell_type": "code",
   "execution_count": null,
   "metadata": {},
   "outputs": [],
   "source": [
    "from external_sources import mosex\n",
    "import pandas as pd\n",
    "a=mosex()"
   ]
  }
 ],
 "metadata": {
  "kernelspec": {
   "display_name": "Python 3",
   "language": "python",
   "name": "python3"
  },
  "language_info": {
   "codemirror_mode": {
    "name": "ipython",
    "version": 3
   },
   "file_extension": ".py",
   "mimetype": "text/x-python",
   "name": "python",
   "nbconvert_exporter": "python",
   "pygments_lexer": "ipython3",
   "version": "3.7.4"
  }
 },
 "nbformat": 4,
 "nbformat_minor": 2
}
