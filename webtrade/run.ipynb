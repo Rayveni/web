{
 "cells": [
  {
   "cell_type": "code",
   "execution_count": 1,
   "metadata": {},
   "outputs": [],
   "source": [
    "import sys\n",
    "import os\n",
    "from src import app\n",
    "from gevent import monkey,pywsgi\n",
    "CURRENT_DIR = os.getcwd()\n",
    "sys.path.insert(0, CURRENT_DIR)"
   ]
  },
  {
   "cell_type": "code",
   "execution_count": 2,
   "metadata": {
    "scrolled": true
   },
   "outputs": [
    {
     "name": "stderr",
     "output_type": "stream",
     "text": [
      "127.0.0.1 - - [2020-02-25 09:16:39] \"GET / HTTP/1.1\" 200 6818 0.177096\n",
      "127.0.0.1 - - [2020-02-25 09:16:40] \"GET /static/vendor/fontawesome-free/css/all.min.css HTTP/1.1\" 304 211 0.096294\n",
      "127.0.0.1 - - [2020-02-25 09:16:40] \"GET /static/css/template.css HTTP/1.1\" 304 210 0.001052\n",
      "127.0.0.1 - - [2020-02-25 09:16:40] \"GET /static/css/mycss.css HTTP/1.1\" 304 209 0.002003\n",
      "127.0.0.1 - - [2020-02-25 09:16:40] \"GET /static/vendor/jquery/jquery-3.4.1.slim.min.js HTTP/1.1\" 304 210 0.017931\n",
      "127.0.0.1 - - [2020-02-25 09:16:40] \"GET /static/vendor/jquery/popper.min.js HTTP/1.1\" 304 211 0.001001\n",
      "127.0.0.1 - - [2020-02-25 09:16:40] \"GET /static/vendor/bootstrsap4/bootstrap.min.js HTTP/1.1\" 304 210 0.002012\n",
      "127.0.0.1 - - [2020-02-25 09:16:40] \"GET /static/js/template.js HTTP/1.1\" 304 209 0.001504\n",
      "127.0.0.1 - - [2020-02-25 09:16:40] \"GET /static/vendor/fontawesome-free/webfonts/fa-solid-900.woff2 HTTP/1.1\" 304 211 0.006015\n",
      "127.0.0.1 - - [2020-02-25 09:16:40] \"GET /static/vendor/fontawesome-free/webfonts/fa-brands-400.woff2 HTTP/1.1\" 304 210 0.002004\n",
      "127.0.0.1 - - [2020-02-25 09:16:40] \"GET /static/favicon-16x16.png HTTP/1.1\" 200 664 0.012534\n",
      "127.0.0.1 - - [2020-02-25 09:16:42] \"GET /bonds HTTP/1.1\" 200 7975 0.012059\n",
      "127.0.0.1 - - [2020-02-25 09:16:42] \"GET /static/css/handsontable.full.min.css HTTP/1.1\" 200 38132 0.025064\n",
      "127.0.0.1 - - [2020-02-25 09:16:42] \"GET /static/vendor/daterangepicker/moment.min.js HTTP/1.1\" 200 51794 0.027071\n",
      "127.0.0.1 - - [2020-02-25 09:16:42] \"GET /static/vendor/crossfilter/crossfilter.min.js HTTP/1.1\" 200 14938 0.020250\n",
      "127.0.0.1 - - [2020-02-25 09:16:42] \"GET /static/vendor/daterangepicker/daterangepicker.min.js HTTP/1.1\" 200 32687 0.017086\n",
      "127.0.0.1 - - [2020-02-25 09:16:42] \"GET /static/vendor/handsontable/handsontable.full.min.js HTTP/1.1\" 200 1154284 0.029909\n",
      "127.0.0.1 - - [2020-02-25 09:16:42] \"GET /static/css/daterangepicker.css HTTP/1.1\" 200 8376 0.012590\n",
      "127.0.0.1 - - [2020-02-25 09:16:42] \"GET /static/js/ajax_get_data.js HTTP/1.1\" 200 837 0.018047\n",
      "127.0.0.1 - - [2020-02-25 09:16:42] \"GET /static/js/bonds.js HTTP/1.1\" 200 8229 0.002006\n",
      "127.0.0.1 - - [2020-02-25 09:16:42] \"GET /static/vendor/fontawesome-free/webfonts/fa-regular-400.woff2 HTTP/1.1\" 200 13885 0.042137\n",
      "127.0.0.1 - - [2020-02-25 09:16:42] \"POST /query_data?table=smartlabbondsrus HTTP/1.1\" 200 364376 0.050765\n",
      "127.0.0.1 - - [2020-02-25 09:16:42] \"POST /query_data?table=smartlabbondsusd HTTP/1.1\" 200 23520 0.010876\n",
      "KeyboardInterrupt\n",
      "Tue Feb 25 09:21:51 2020\n"
     ]
    },
    {
     "ename": "KeyboardInterrupt",
     "evalue": "",
     "output_type": "error",
     "traceback": [
      "\u001b[1;31m---------------------------------------------------------------------------\u001b[0m",
      "\u001b[1;31mKeyboardInterrupt\u001b[0m                         Traceback (most recent call last)",
      "\u001b[1;32m<ipython-input-2-f1fc1536480b>\u001b[0m in \u001b[0;36m<module>\u001b[1;34m()\u001b[0m\n\u001b[0;32m      2\u001b[0m \u001b[0mserver\u001b[0m \u001b[1;33m=\u001b[0m \u001b[0mpywsgi\u001b[0m\u001b[1;33m.\u001b[0m\u001b[0mWSGIServer\u001b[0m\u001b[1;33m(\u001b[0m\u001b[1;33m(\u001b[0m\u001b[1;34m'127.0.0.2'\u001b[0m\u001b[1;33m,\u001b[0m \u001b[1;36m5000\u001b[0m\u001b[1;33m)\u001b[0m\u001b[1;33m,\u001b[0m \u001b[0mapp\u001b[0m\u001b[1;33m)\u001b[0m\u001b[1;33m\u001b[0m\u001b[1;33m\u001b[0m\u001b[0m\n\u001b[0;32m      3\u001b[0m \u001b[1;31m#app.debug = True\u001b[0m\u001b[1;33m\u001b[0m\u001b[1;33m\u001b[0m\u001b[1;33m\u001b[0m\u001b[0m\n\u001b[1;32m----> 4\u001b[1;33m \u001b[0mserver\u001b[0m\u001b[1;33m.\u001b[0m\u001b[0mserve_forever\u001b[0m\u001b[1;33m(\u001b[0m\u001b[1;33m)\u001b[0m\u001b[1;33m\u001b[0m\u001b[1;33m\u001b[0m\u001b[0m\n\u001b[0m\u001b[0;32m      5\u001b[0m \u001b[1;31m#http://127.0.0.2:5000/\u001b[0m\u001b[1;33m\u001b[0m\u001b[1;33m\u001b[0m\u001b[1;33m\u001b[0m\u001b[0m\n",
      "\u001b[1;32mC:\\ProgramData\\Anaconda3\\lib\\site-packages\\gevent\\baseserver.py\u001b[0m in \u001b[0;36mserve_forever\u001b[1;34m(self, stop_timeout)\u001b[0m\n\u001b[0;32m    360\u001b[0m             \u001b[0mself\u001b[0m\u001b[1;33m.\u001b[0m\u001b[0mstart\u001b[0m\u001b[1;33m(\u001b[0m\u001b[1;33m)\u001b[0m\u001b[1;33m\u001b[0m\u001b[1;33m\u001b[0m\u001b[0m\n\u001b[0;32m    361\u001b[0m         \u001b[1;32mtry\u001b[0m\u001b[1;33m:\u001b[0m\u001b[1;33m\u001b[0m\u001b[1;33m\u001b[0m\u001b[0m\n\u001b[1;32m--> 362\u001b[1;33m             \u001b[0mself\u001b[0m\u001b[1;33m.\u001b[0m\u001b[0m_stop_event\u001b[0m\u001b[1;33m.\u001b[0m\u001b[0mwait\u001b[0m\u001b[1;33m(\u001b[0m\u001b[1;33m)\u001b[0m\u001b[1;33m\u001b[0m\u001b[1;33m\u001b[0m\u001b[0m\n\u001b[0m\u001b[0;32m    363\u001b[0m         \u001b[1;32mfinally\u001b[0m\u001b[1;33m:\u001b[0m\u001b[1;33m\u001b[0m\u001b[1;33m\u001b[0m\u001b[0m\n\u001b[0;32m    364\u001b[0m             \u001b[0mGreenlet\u001b[0m\u001b[1;33m.\u001b[0m\u001b[0mspawn\u001b[0m\u001b[1;33m(\u001b[0m\u001b[0mself\u001b[0m\u001b[1;33m.\u001b[0m\u001b[0mstop\u001b[0m\u001b[1;33m,\u001b[0m \u001b[0mtimeout\u001b[0m\u001b[1;33m=\u001b[0m\u001b[0mstop_timeout\u001b[0m\u001b[1;33m)\u001b[0m\u001b[1;33m.\u001b[0m\u001b[0mjoin\u001b[0m\u001b[1;33m(\u001b[0m\u001b[1;33m)\u001b[0m\u001b[1;33m\u001b[0m\u001b[1;33m\u001b[0m\u001b[0m\n",
      "\u001b[1;32mC:\\ProgramData\\Anaconda3\\lib\\site-packages\\gevent\\event.py\u001b[0m in \u001b[0;36mwait\u001b[1;34m(self, timeout)\u001b[0m\n\u001b[0;32m    217\u001b[0m             \u001b[0mnoticeable\u001b[0m \u001b[0mwhen\u001b[0m \u001b[0mthe\u001b[0m \u001b[1;33m*\u001b[0m\u001b[0mtimeout\u001b[0m\u001b[1;33m*\u001b[0m \u001b[1;32mis\u001b[0m \u001b[0mpresent\u001b[0m\u001b[1;33m.\u001b[0m\u001b[1;33m\u001b[0m\u001b[1;33m\u001b[0m\u001b[0m\n\u001b[0;32m    218\u001b[0m         \"\"\"\n\u001b[1;32m--> 219\u001b[1;33m         \u001b[1;32mreturn\u001b[0m \u001b[0mself\u001b[0m\u001b[1;33m.\u001b[0m\u001b[0m_wait\u001b[0m\u001b[1;33m(\u001b[0m\u001b[0mtimeout\u001b[0m\u001b[1;33m)\u001b[0m\u001b[1;33m\u001b[0m\u001b[1;33m\u001b[0m\u001b[0m\n\u001b[0m\u001b[0;32m    220\u001b[0m \u001b[1;33m\u001b[0m\u001b[0m\n\u001b[0;32m    221\u001b[0m     \u001b[1;32mdef\u001b[0m \u001b[0m_reset_internal_locks\u001b[0m\u001b[1;33m(\u001b[0m\u001b[0mself\u001b[0m\u001b[1;33m)\u001b[0m\u001b[1;33m:\u001b[0m \u001b[1;31m# pragma: no cover\u001b[0m\u001b[1;33m\u001b[0m\u001b[1;33m\u001b[0m\u001b[0m\n",
      "\u001b[1;32mC:\\ProgramData\\Anaconda3\\lib\\site-packages\\gevent\\event.py\u001b[0m in \u001b[0;36m_wait\u001b[1;34m(self, timeout)\u001b[0m\n\u001b[0;32m    127\u001b[0m             \u001b[1;32mreturn\u001b[0m \u001b[0mself\u001b[0m\u001b[1;33m.\u001b[0m\u001b[0m_wait_return_value\u001b[0m\u001b[1;33m(\u001b[0m\u001b[1;32mFalse\u001b[0m\u001b[1;33m,\u001b[0m \u001b[1;32mFalse\u001b[0m\u001b[1;33m)\u001b[0m\u001b[1;33m\u001b[0m\u001b[1;33m\u001b[0m\u001b[0m\n\u001b[0;32m    128\u001b[0m \u001b[1;33m\u001b[0m\u001b[0m\n\u001b[1;32m--> 129\u001b[1;33m         \u001b[0mgotit\u001b[0m \u001b[1;33m=\u001b[0m \u001b[0mself\u001b[0m\u001b[1;33m.\u001b[0m\u001b[0m_wait_core\u001b[0m\u001b[1;33m(\u001b[0m\u001b[0mtimeout\u001b[0m\u001b[1;33m)\u001b[0m\u001b[1;33m\u001b[0m\u001b[1;33m\u001b[0m\u001b[0m\n\u001b[0m\u001b[0;32m    130\u001b[0m         \u001b[1;32mreturn\u001b[0m \u001b[0mself\u001b[0m\u001b[1;33m.\u001b[0m\u001b[0m_wait_return_value\u001b[0m\u001b[1;33m(\u001b[0m\u001b[1;32mTrue\u001b[0m\u001b[1;33m,\u001b[0m \u001b[0mgotit\u001b[0m\u001b[1;33m)\u001b[0m\u001b[1;33m\u001b[0m\u001b[1;33m\u001b[0m\u001b[0m\n\u001b[0;32m    131\u001b[0m \u001b[1;33m\u001b[0m\u001b[0m\n",
      "\u001b[1;32mC:\\ProgramData\\Anaconda3\\lib\\site-packages\\gevent\\event.py\u001b[0m in \u001b[0;36m_wait_core\u001b[1;34m(self, timeout, catch)\u001b[0m\n\u001b[0;32m    104\u001b[0m             \u001b[1;32mtry\u001b[0m\u001b[1;33m:\u001b[0m\u001b[1;33m\u001b[0m\u001b[1;33m\u001b[0m\u001b[0m\n\u001b[0;32m    105\u001b[0m                 \u001b[1;32mtry\u001b[0m\u001b[1;33m:\u001b[0m\u001b[1;33m\u001b[0m\u001b[1;33m\u001b[0m\u001b[0m\n\u001b[1;32m--> 106\u001b[1;33m                     \u001b[0mresult\u001b[0m \u001b[1;33m=\u001b[0m \u001b[0mself\u001b[0m\u001b[1;33m.\u001b[0m\u001b[0mhub\u001b[0m\u001b[1;33m.\u001b[0m\u001b[0mswitch\u001b[0m\u001b[1;33m(\u001b[0m\u001b[1;33m)\u001b[0m\u001b[1;33m\u001b[0m\u001b[1;33m\u001b[0m\u001b[0m\n\u001b[0m\u001b[0;32m    107\u001b[0m                     \u001b[1;32mif\u001b[0m \u001b[0mresult\u001b[0m \u001b[1;32mis\u001b[0m \u001b[1;32mnot\u001b[0m \u001b[0mself\u001b[0m\u001b[1;33m:\u001b[0m \u001b[1;31m# pragma: no cover\u001b[0m\u001b[1;33m\u001b[0m\u001b[1;33m\u001b[0m\u001b[0m\n\u001b[0;32m    108\u001b[0m                         \u001b[1;32mraise\u001b[0m \u001b[0mInvalidSwitchError\u001b[0m\u001b[1;33m(\u001b[0m\u001b[1;34m'Invalid switch into Event.wait(): %r'\u001b[0m \u001b[1;33m%\u001b[0m \u001b[1;33m(\u001b[0m\u001b[0mresult\u001b[0m\u001b[1;33m,\u001b[0m \u001b[1;33m)\u001b[0m\u001b[1;33m)\u001b[0m\u001b[1;33m\u001b[0m\u001b[1;33m\u001b[0m\u001b[0m\n",
      "\u001b[1;32mC:\\ProgramData\\Anaconda3\\lib\\site-packages\\gevent\\hub.py\u001b[0m in \u001b[0;36mswitch\u001b[1;34m(self)\u001b[0m\n\u001b[0;32m    628\u001b[0m         \u001b[1;32mif\u001b[0m \u001b[0mswitch_out\u001b[0m \u001b[1;32mis\u001b[0m \u001b[1;32mnot\u001b[0m \u001b[1;32mNone\u001b[0m\u001b[1;33m:\u001b[0m\u001b[1;33m\u001b[0m\u001b[1;33m\u001b[0m\u001b[0m\n\u001b[0;32m    629\u001b[0m             \u001b[0mswitch_out\u001b[0m\u001b[1;33m(\u001b[0m\u001b[1;33m)\u001b[0m\u001b[1;33m\u001b[0m\u001b[1;33m\u001b[0m\u001b[0m\n\u001b[1;32m--> 630\u001b[1;33m         \u001b[1;32mreturn\u001b[0m \u001b[0mRawGreenlet\u001b[0m\u001b[1;33m.\u001b[0m\u001b[0mswitch\u001b[0m\u001b[1;33m(\u001b[0m\u001b[0mself\u001b[0m\u001b[1;33m)\u001b[0m\u001b[1;33m\u001b[0m\u001b[1;33m\u001b[0m\u001b[0m\n\u001b[0m\u001b[0;32m    631\u001b[0m \u001b[1;33m\u001b[0m\u001b[0m\n\u001b[0;32m    632\u001b[0m     \u001b[1;32mdef\u001b[0m \u001b[0mswitch_out\u001b[0m\u001b[1;33m(\u001b[0m\u001b[0mself\u001b[0m\u001b[1;33m)\u001b[0m\u001b[1;33m:\u001b[0m\u001b[1;33m\u001b[0m\u001b[1;33m\u001b[0m\u001b[0m\n",
      "\u001b[1;31mKeyboardInterrupt\u001b[0m: "
     ]
    }
   ],
   "source": [
    "monkey.patch_all(thread=False)\n",
    "server = pywsgi.WSGIServer(('127.0.0.2', 5000), app)\n",
    "#app.debug = True\n",
    "server.serve_forever()\n",
    "#http://127.0.0.2:5000/"
   ]
  },
  {
   "cell_type": "code",
   "execution_count": null,
   "metadata": {
    "collapsed": true
   },
   "outputs": [],
   "source": [
    "import sys\n",
    "sys.path.insert(1, r'C:\\Users\\Kart\\jupyter_projects')\n",
    "import mygit as mg"
   ]
  },
  {
   "cell_type": "code",
   "execution_count": null,
   "metadata": {},
   "outputs": [],
   "source": [
    "folder=r'C:\\Users\\Kart\\jupyter_projects\\webtrade'\n",
    "git_url='git@github.com:Rayveni/web.git'\n",
    "gt=mg.gitwrapper(folder)\n",
    "gt.push_commit(git_url,commit_msg='update')"
   ]
  },
  {
   "cell_type": "code",
   "execution_count": null,
   "metadata": {
    "collapsed": true
   },
   "outputs": [],
   "source": [
    "from jobs import job_sl_bonds\n",
    "from db_drivers import mongo_manager\n",
    "cfg={\"driver\": \"mongo\", \"db_name\": \"trade\", \"host\": \"localhost\",\n",
    "     \"port\": 27017, \"user\": \"\", \"user_pswd\": \"\", \"mongo_data\": \"C:\\\\Users\\\\DB\"}\n",
    "\n",
    "a=job_sl_bonds(cfg)"
   ]
  },
  {
   "cell_type": "code",
   "execution_count": null,
   "metadata": {
    "collapsed": true
   },
   "outputs": [],
   "source": [
    "from sys import path\n",
    "path.append(r\"C:\\Users\\Kart\\jupyter_projects\\webtrade\\webtrade\\src\")"
   ]
  },
  {
   "cell_type": "code",
   "execution_count": null,
   "metadata": {
    "collapsed": true
   },
   "outputs": [],
   "source": [
    "from commons import convert_file_size,init_db_manager\n",
    "from jobs import *\n",
    "#a=job_sectors(init_db_manager())"
   ]
  },
  {
   "cell_type": "code",
   "execution_count": null,
   "metadata": {
    "collapsed": true
   },
   "outputs": [],
   "source": [
    "a=job_sl_bonds(init_db_manager())"
   ]
  },
  {
   "cell_type": "code",
   "execution_count": null,
   "metadata": {
    "collapsed": true
   },
   "outputs": [],
   "source": [
    "a=init_db_manager().get_table('smartlabbondsrus',result='matrix')"
   ]
  },
  {
   "cell_type": "code",
   "execution_count": null,
   "metadata": {
    "collapsed": true
   },
   "outputs": [],
   "source": [
    "from sys import path\n",
    "path.append(r\"C:\\Users\\Kart\\jupyter_projects\\webtrade\\webtrade\\external_sources\")"
   ]
  },
  {
   "cell_type": "code",
   "execution_count": null,
   "metadata": {
    "collapsed": true
   },
   "outputs": [],
   "source": [
    "from external_sources import smartlab\n",
    "import pandas as pd\n",
    "a=smartlab().bonds_info()"
   ]
  }
 ],
 "metadata": {
  "kernelspec": {
   "display_name": "Python 3",
   "language": "python",
   "name": "python3"
  },
  "language_info": {
   "codemirror_mode": {
    "name": "ipython",
    "version": 3
   },
   "file_extension": ".py",
   "mimetype": "text/x-python",
   "name": "python",
   "nbconvert_exporter": "python",
   "pygments_lexer": "ipython3",
   "version": "3.6.7"
  }
 },
 "nbformat": 4,
 "nbformat_minor": 2
}
