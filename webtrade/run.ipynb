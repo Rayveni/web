{
 "cells": [
  {
   "cell_type": "code",
   "execution_count": null,
   "metadata": {
    "collapsed": true
   },
   "outputs": [],
   "source": [
    "import sys\n",
    "import os\n",
    "from src import app\n",
    "from gevent import monkey,pywsgi\n",
    "CURRENT_DIR = os.getcwd()\n",
    "sys.path.insert(0, CURRENT_DIR)"
   ]
  },
  {
   "cell_type": "code",
   "execution_count": null,
   "metadata": {
    "scrolled": true
   },
   "outputs": [
    {
     "name": "stderr",
     "output_type": "stream",
     "text": [
      "127.0.0.1 - - [2020-07-28 22:15:54] \"GET /static/vendor/jquery/popper.min.js.map HTTP/1.1\" 404 341 0.001504\n",
      "127.0.0.1 - - [2020-07-28 22:15:54] \"GET /static/vendor/bootstrsap4/bootstrap.min.js.map HTTP/1.1\" 404 341 0.001002\n",
      "127.0.0.1 - - [2020-07-28 22:15:55] \"POST /query_data?view_id=markets_index_data HTTP/1.1\" 200 450948 0.100768\n",
      "127.0.0.1 - - [2020-07-28 22:15:55] \"POST /query_data?table=sec_history_manager HTTP/1.1\" 200 2482 0.008523\n",
      "127.0.0.1 - - [2020-07-28 22:15:56] \"GET /reports/markets HTTP/1.1\" 200 9800 0.027072\n",
      "127.0.0.1 - - [2020-07-28 22:15:56] \"GET /static/vendor/fontawesome-free/css/all.min.css HTTP/1.1\" 200 57492 0.003008\n",
      "127.0.0.1 - - [2020-07-28 22:15:56] \"GET /static/css/template.css HTTP/1.1\" 200 16648 0.002006\n",
      "127.0.0.1 - - [2020-07-28 22:15:56] \"GET /static/css/mycss.css HTTP/1.1\" 200 2438 0.002516\n",
      "127.0.0.1 - - [2020-07-28 22:15:56] \"GET /static/css/d3_chart.css HTTP/1.1\" 200 1772 0.001489\n",
      "127.0.0.1 - - [2020-07-28 22:15:56] \"GET /static/vendor/jquery/jquery-3.4.1.slim.min.js HTTP/1.1\" 200 88470 0.004010\n",
      "127.0.0.1 - - [2020-07-28 22:15:56] \"GET /static/vendor/jquery/popper.min.js HTTP/1.1\" 200 21584 0.001510\n",
      "127.0.0.1 - - [2020-07-28 22:15:56] \"GET /static/js/d3_chart.js HTTP/1.1\" 200 11778 0.002511\n",
      "127.0.0.1 - - [2020-07-28 22:15:56] \"GET /static/vendor/d3/d3.v5.min.js HTTP/1.1\" 200 248639 0.004010\n",
      "127.0.0.1 - - [2020-07-28 22:15:56] \"GET /static/js/ajax_get_data.js HTTP/1.1\" 200 837 0.001504\n",
      "127.0.0.1 - - [2020-07-28 22:15:56] \"GET /static/js/template.js HTTP/1.1\" 200 1194 0.002005\n",
      "127.0.0.1 - - [2020-07-28 22:15:56] \"GET /static/vendor/bootstrsap4/bootstrap.min.js HTTP/1.1\" 200 60339 0.002507\n",
      "127.0.0.1 - - [2020-07-28 22:15:56] \"GET /static/vendor/handsontable/handsontable.full.min.js HTTP/1.1\" 200 1154284 0.013034\n",
      "127.0.0.1 - - [2020-07-28 22:15:56] \"GET /static/js/markets.js HTTP/1.1\" 200 110719 0.002506\n",
      "127.0.0.1 - - [2020-07-28 22:15:57] \"GET /static/vendor/fontawesome-free/webfonts/fa-solid-900.woff2 HTTP/1.1\" 200 76394 0.003009\n",
      "127.0.0.1 - - [2020-07-28 22:15:57] \"GET /static/vendor/fontawesome-free/webfonts/fa-brands-400.woff2 HTTP/1.1\" 200 76246 0.002512\n",
      "127.0.0.1 - - [2020-07-28 22:15:57] \"GET /static/vendor/jquery/popper.min.js.map HTTP/1.1\" 404 341 0.001503\n",
      "127.0.0.1 - - [2020-07-28 22:15:57] \"GET /static/vendor/bootstrsap4/bootstrap.min.js.map HTTP/1.1\" 404 341 0.000501\n",
      "127.0.0.1 - - [2020-07-28 22:15:57] \"POST /query_data?view_id=markets_index_data HTTP/1.1\" 200 450948 0.093760\n",
      "127.0.0.1 - - [2020-07-28 22:15:57] \"POST /query_data?table=sec_history_manager HTTP/1.1\" 200 2482 0.018539\n",
      "127.0.0.1 - - [2020-07-28 22:15:58] \"GET /static/favicon-16x16.png HTTP/1.1\" 200 663 0.001987\n",
      "127.0.0.1 - - [2020-07-28 22:15:59] \"GET /reports/markets HTTP/1.1\" 200 9800 0.008522\n",
      "127.0.0.1 - - [2020-07-28 22:16:00] \"GET /static/vendor/bootstrsap4/bootstrap.min.js.map HTTP/1.1\" 404 341 0.000983\n",
      "127.0.0.1 - - [2020-07-28 22:16:00] \"GET /static/vendor/jquery/popper.min.js.map HTTP/1.1\" 404 341 0.001504\n",
      "127.0.0.1 - - [2020-07-28 22:16:00] \"POST /query_data?view_id=markets_index_data HTTP/1.1\" 200 450948 0.112800\n",
      "127.0.0.1 - - [2020-07-28 22:16:00] \"POST /query_data?table=sec_history_manager HTTP/1.1\" 200 2482 0.008531\n"
     ]
    }
   ],
   "source": [
    "monkey.patch_all(thread=False)\n",
    "server = pywsgi.WSGIServer(('127.0.0.2', 5000), app)\n",
    "#app.debug = Trueee\n",
    "server.serve_forever()\n",
    "#http://127.0.0.2:5000/"
   ]
  },
  {
   "cell_type": "code",
   "execution_count": null,
   "metadata": {
    "collapsed": true
   },
   "outputs": [],
   "source": [
    "import mygit as mg\n",
    "from pathlib import Path\n",
    "import os\n",
    "folder=os.path.abspath('{}/..'.format(os.getcwd()))\n",
    "#folder=Path(folder).parent\n",
    "git_url='git@github.com:Rayveni/web.git'\n",
    "gt=mg.gitwrapper(folder)\n",
    "#gt.pyignore()\n",
    "#git reset --hard origin/master gt.pull()\n",
    "gt.push_commit(git_url,commit_msg='update')"
   ]
  },
  {
   "cell_type": "code",
   "execution_count": null,
   "metadata": {
    "collapsed": true
   },
   "outputs": [],
   "source": [
    "from jobs import job_sl_bonds\n",
    "from db_drivers import mongo_manager\n",
    "cfg={\"driver\": \"mongo\", \"db_name\": \"trade\", \"host\": \"localhost\",\n",
    "     \"port\": 27017, \"user\": \"\", \"user_pswd\": \"\", \"mongo_data\": \"C:\\\\Users\\\\DB\"}\n",
    "\n",
    "a=job_sl_bonds(cfg)"
   ]
  },
  {
   "cell_type": "code",
   "execution_count": null,
   "metadata": {},
   "outputs": [],
   "source": [
    "%%time\n",
    "from sys import path\n",
    "from datetime import datetime\n",
    "import os\n",
    "path.append(os.path.join(os.getcwd(),'src'))\n",
    "\n",
    "from commons import convert_file_size,init_db_manager\n",
    "from jobs import *\n",
    "#a=job_world_fond_indexes(init_db_manager())"
   ]
  },
  {
   "cell_type": "code",
   "execution_count": null,
   "metadata": {},
   "outputs": [],
   "source": [
    "%%time\n",
    "import pandas as pd\n",
    "db=init_db_manager()\n",
    "df2=pd.DataFrame(db.get_table('mosex_securities'))"
   ]
  },
  {
   "cell_type": "code",
   "execution_count": null,
   "metadata": {},
   "outputs": [],
   "source": [
    "dat=db.agg('mosex_securities',group=['list_section', 'supertype', 'instrument_type'],\n",
    "           agg_functions_list=[('count','instrument_id','count')])"
   ]
  },
  {
   "cell_type": "code",
   "execution_count": null,
   "metadata": {},
   "outputs": [],
   "source": [
    "import pandas as pd\n",
    "df=pd.DataFrame(db.get_table('mosex_securities'))"
   ]
  },
  {
   "cell_type": "code",
   "execution_count": null,
   "metadata": {},
   "outputs": [],
   "source": [
    "header=a[0]\n",
    "list_section_id=header.index('list_section')\n",
    "supertype_id=header.index('supertype')\n",
    "data=a[1:]\n",
    "list_section_order=lambda s: 0 if s == 'Первый уровень'   else (1 if s == 'Второй уровень' else 2)\n",
    "supertype_order=lambda s: 0 if s == 'Акции'   else (1 if s == 'Депозитарные расписки' else (2 if s == 'Облигации' else 3))\n",
    "data.sort(key=lambda row: (list_section_order(row[list_section_id]),supertype_order(row[supertype_id])))"
   ]
  },
  {
   "cell_type": "code",
   "execution_count": null,
   "metadata": {},
   "outputs": [],
   "source": [
    "data"
   ]
  },
  {
   "cell_type": "code",
   "execution_count": null,
   "metadata": {},
   "outputs": [],
   "source": [
    "data"
   ]
  },
  {
   "cell_type": "code",
   "execution_count": null,
   "metadata": {},
   "outputs": [],
   "source": [
    "db=init_db_manager()\n",
    "db.get_table('mosex_securities',result='matrix')[:2]"
   ]
  },
  {
   "cell_type": "code",
   "execution_count": null,
   "metadata": {
    "collapsed": true
   },
   "outputs": [],
   "source": [
    "from sys import path\n",
    "path.append(r\"C:\\Users\\Kart\\jupyter_projects\\webtrade\\webtrade\\external_sources\")\n",
    "\n",
    "from external_sources import mosex,tradingview\n",
    "import pandas as pd\n",
    "a=mosex()\n",
    "#a=tradingview()"
   ]
  },
  {
   "cell_type": "code",
   "execution_count": null,
   "metadata": {
    "collapsed": true
   },
   "outputs": [],
   "source": [
    "\n",
    "aa=a.securities_list()"
   ]
  },
  {
   "cell_type": "code",
   "execution_count": null,
   "metadata": {
    "collapsed": true
   },
   "outputs": [],
   "source": [
    "columns= ['DATESTAMP', 'INSTRUMENT_ID', 'LIST_SECTION','SUPERTYPE', 'INSTRUMENT_TYPE', 'INSTRUMENT_CATEGORY', 'TRADE_CODE', 'ISIN', 'REGISTRY_NUMBER', 'REGISTRY_DATE', 'EMITENT_FULL_NAME', 'INN', 'NOMINAL', 'CURRENCY', 'ISSUE_AMOUNT', 'DECISION_DATE', 'OKSM_EDR', 'ONLY_EMITENT_FULL_NAME', 'REG_COUNTRY', 'QUALIFIED_INVESTOR', 'HAS_PROSPECTUS', 'IS_CONCESSION_AGREEMENT', 'IS_MORTGAGE_AGENT', 'INCLUDED_DURING_CREATION', 'SECURITY_HAS_DEFAULT', 'SECURITY_HAS_TECH_DEFAULT', 'INCLUDED_WITHOUT_COMPLIANCE', 'RETAINED_WITHOUT_COMPLIANCE', 'HAS_RESTRICTION_CIRCULATION', 'LISTING_LEVEL_HIST', 'OBLIGATION_PROGRAM_RN', 'COUPON_PERCENT', 'EARLY_REPAYMENT', 'EARLY_REDEMPTION', 'ISS_BOARDS', 'OTHER_SECURITIES', 'DISCLOSURE_PART_PAGE', 'DISCLOSURE_RF_INFO_PAGE']\n",
    "\n",
    "upload_arr=[[*list(v.values)] for i,v in aa[columns].iterrows()]"
   ]
  },
  {
   "cell_type": "code",
   "execution_count": null,
   "metadata": {
    "collapsed": true
   },
   "outputs": [],
   "source": [
    "upload_arr[1]"
   ]
  },
  {
   "cell_type": "code",
   "execution_count": null,
   "metadata": {
    "collapsed": true
   },
   "outputs": [],
   "source": [
    "%%time\n",
    "a=job_sectors(init_db_manager())"
   ]
  }
 ],
 "metadata": {
  "kernelspec": {
   "display_name": "Python 3",
   "language": "python",
   "name": "python3"
  },
  "language_info": {
   "codemirror_mode": {
    "name": "ipython",
    "version": 3
   },
   "file_extension": ".py",
   "mimetype": "text/x-python",
   "name": "python",
   "nbconvert_exporter": "python",
   "pygments_lexer": "ipython3",
   "version": "3.6.10"
  }
 },
 "nbformat": 4,
 "nbformat_minor": 2
}
