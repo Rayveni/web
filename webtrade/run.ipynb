{
 "cells": [
  {
   "cell_type": "code",
   "execution_count": null,
   "metadata": {},
   "outputs": [],
   "source": [
    "import sys\n",
    "import os\n",
    "from src import app\n",
    "from gevent import monkey,pywsgi\n",
    "CURRENT_DIR = os.getcwd()\n",
    "sys.path.insert(0, CURRENT_DIR)"
   ]
  },
  {
   "cell_type": "code",
   "execution_count": null,
   "metadata": {},
   "outputs": [
    {
     "name": "stdout",
     "output_type": "stream",
     "text": [
      "The history saving thread hit an unexpected error (LoopExit('This operation would block forever', <Hub at 0x19ed7cf2340 select pending=0 ref=0>)).History will not be written to the database.\n"
     ]
    },
    {
     "name": "stderr",
     "output_type": "stream",
     "text": [
      "127.0.0.1 - - [2020-02-08 17:41:33] \"GET / HTTP/1.1\" 200 6104 0.017576\n",
      "127.0.0.1 - - [2020-02-08 17:41:39] \"GET /admin/tables HTTP/1.1\" 200 5820 0.341317\n",
      "127.0.0.1 - - [2020-02-08 17:41:39] \"GET /static/css/handsontable.full.min.css HTTP/1.1\" 200 38079 0.003011\n",
      "127.0.0.1 - - [2020-02-08 17:41:39] \"GET /static/js/drop_down_filter.js HTTP/1.1\" 200 953 0.002012\n",
      "127.0.0.1 - - [2020-02-08 17:41:39] \"GET /static/js/admin.js HTTP/1.1\" 200 986 0.002007\n",
      "127.0.0.1 - - [2020-02-08 17:41:39] \"GET /static/vendor/handsontable/handsontable.full.min.js HTTP/1.1\" 200 1154239 0.014017\n",
      "127.0.0.1 - - [2020-02-08 17:41:39] \"GET /static/js/ajax_get_data.js HTTP/1.1\" 200 836 0.002005\n",
      "127.0.0.1 - - [2020-02-08 17:41:45] \"GET /admin/tables HTTP/1.1\" 200 5820 0.016732\n",
      "127.0.0.1 - - [2020-02-08 17:41:45] \"GET /static/vendor/fontawesome-free/css/all.min.css HTTP/1.1\" 200 57493 0.003009\n",
      "127.0.0.1 - - [2020-02-08 17:41:45] \"GET /static/css/template.css HTTP/1.1\" 200 15503 0.002022\n",
      "127.0.0.1 - - [2020-02-08 17:41:45] \"GET /static/css/mycss.css HTTP/1.1\" 200 1095 0.002005\n",
      "127.0.0.1 - - [2020-02-08 17:41:45] \"GET /static/vendor/bootstrsap4/bootstrap.min.js HTTP/1.1\" 200 60338 0.002007\n",
      "127.0.0.1 - - [2020-02-08 17:41:45] \"GET /static/css/handsontable.full.min.css HTTP/1.1\" 200 38079 0.002043\n",
      "127.0.0.1 - - [2020-02-08 17:41:45] \"GET /static/vendor/jquery/jquery-3.4.1.slim.min.js HTTP/1.1\" 200 88468 0.001977\n",
      "127.0.0.1 - - [2020-02-08 17:41:45] \"GET /static/vendor/jquery/popper.min.js HTTP/1.1\" 200 21584 0.003011\n",
      "127.0.0.1 - - [2020-02-08 17:41:45] \"GET /static/js/template.js HTTP/1.1\" 200 720 0.001002\n",
      "127.0.0.1 - - [2020-02-08 17:41:45] \"GET /static/js/drop_down_filter.js HTTP/1.1\" 200 953 0.001003\n",
      "127.0.0.1 - - [2020-02-08 17:41:45] \"GET /static/js/ajax_get_data.js HTTP/1.1\" 200 836 0.001002\n",
      "127.0.0.1 - - [2020-02-08 17:41:45] \"GET /static/js/admin.js HTTP/1.1\" 200 986 0.002002\n",
      "127.0.0.1 - - [2020-02-08 17:41:45] \"GET /static/vendor/handsontable/handsontable.full.min.js HTTP/1.1\" 200 1154239 0.020051\n",
      "127.0.0.1 - - [2020-02-08 17:41:45] \"GET /static/vendor/fontawesome-free/webfonts/fa-solid-900.woff2 HTTP/1.1\" 200 76394 0.004016\n",
      "127.0.0.1 - - [2020-02-08 17:41:45] \"GET /static/favicon-16x16.png HTTP/1.1\" 200 664 0.003008\n",
      "127.0.0.1 - - [2020-02-08 17:41:47] \"GET /static/css/searchicon.png HTTP/1.1\" 404 341 0.000978\n",
      "127.0.0.1 - - [2020-02-08 17:43:13] \"GET /admin/params HTTP/1.1\" 200 6659 0.006019\n"
     ]
    }
   ],
   "source": [
    "monkey.patch_all()\n",
    "server = pywsgi.WSGIServer(('127.0.0.2', 5000), app)\n",
    "#app.debug = True\n",
    "server.serve_forever()\n",
    "#http://127.0.0.2:5000/"
   ]
  },
  {
   "cell_type": "code",
   "execution_count": null,
   "metadata": {
    "collapsed": true
   },
   "outputs": [],
   "source": [
    "import sys\n",
    "sys.path.insert(1, r'C:\\Users\\Kart\\jupyter_projects')\n",
    "import mygit as mg"
   ]
  },
  {
   "cell_type": "code",
   "execution_count": null,
   "metadata": {
    "collapsed": true
   },
   "outputs": [],
   "source": [
    "folder=r'C:\\Users\\Kart\\jupyter_projects\\webtrade'\n",
    "git_url='git@github.com:Rayveni/web.git'\n",
    "gt=mg.gitwrapper(folder)\n",
    "gt.push_commit(git_url,commit_msg='update')"
   ]
  },
  {
   "cell_type": "code",
   "execution_count": null,
   "metadata": {
    "collapsed": true
   },
   "outputs": [],
   "source": [
    "from external_sources import smartlab\n",
    "\n",
    "tv=smartlab()\n",
    "a=tv.bonds_info()"
   ]
  },
  {
   "cell_type": "code",
   "execution_count": null,
   "metadata": {
    "collapsed": true
   },
   "outputs": [],
   "source": [
    "from jobs import job_sl_bonds\n",
    "from db_drivers import mongo_manager\n",
    "cfg={\"driver\": \"mongo\", \"db_name\": \"trade\", \"host\": \"localhost\",\n",
    "     \"port\": 27017, \"user\": \"\", \"user_pswd\": \"\", \"mongo_data\": \"C:\\\\Users\\\\DB\"}\n",
    "\n",
    "a=job_sl_bonds(cfg)"
   ]
  },
  {
   "cell_type": "code",
   "execution_count": null,
   "metadata": {},
   "outputs": [],
   "source": [
    "a=mongo_manager(cfg)\n",
    "list(a.get_table_cursor('upload_info'))"
   ]
  },
  {
   "cell_type": "code",
   "execution_count": null,
   "metadata": {},
   "outputs": [],
   "source": [
    "a.get_table('upload_info')"
   ]
  },
  {
   "cell_type": "code",
   "execution_count": null,
   "metadata": {
    "collapsed": true
   },
   "outputs": [],
   "source": [
    "rr=[{\"bar_code\":\"UA062718794MN\",\"oper_date_time\":\"2019-09-03 08:04:19\",\"index_oper\":\"15160\",\"index_oper_border\":\"15160\",\"country_oper\":496,\"index_next\":\"\",\"index_next_border\":\"\",\"index_to\":\"629801\",\"oper_type\":39,\"oper_attr\":-1,\"oper_date_time_local\":\"2019-09-03 08:04:19\",\"type_of_operand1\":1,\"id_of_operand1\":\"UA062718794MN\",\"document_form\":'null',\"date\":\"2019-09-03\"},{\"bar_code\":\"UA062718794MN\",\"oper_date_time\":\"2019-09-16 14:50:13\",\"index_oper\":\"620984\",\"index_oper_border\":\"620980\",\"country_oper\":643,\"index_next\":\"0\",\"index_next_border\":\"0\",\"index_to\":\"620979\",\"oper_type\":1014,\"oper_attr\":-1,\"oper_date_time_local\":\"2019-09-16 19:50:13\",\"type_of_operand1\":2,\"id_of_operand1\":\"MNALTARUEKAACUY90003150000112\",\"document_form\":'null',\"date\":\"2019-09-16\"},{\"bar_code\":\"UA062718794MN\",\"oper_date_time\":\"2019-09-16 14:50:13\",\"index_oper\":\"620984\",\"index_oper_border\":\"620980\",\"country_oper\":643,\"index_next\":\"0\",\"index_next_border\":\"0\",\"index_to\":'null',\"oper_type\":1022,\"oper_attr\":-1,\"oper_date_time_local\":\"2019-09-16 19:50:13\",\"type_of_operand1\":3,\"id_of_operand1\":\"GUID(2000000000000000000000001B215353)\",\"document_form\":'null',\"date\":\"2019-09-16\"},{\"bar_code\":\"UA062718794MN\",\"oper_date_time\":\"2019-09-16 15:30:49\",\"index_oper\":\"620984\",\"index_oper_border\":\"620980\",\"country_oper\":643,\"index_next\":\"0\",\"index_next_border\":\"0\",\"index_to\":\"620979\",\"oper_type\":1020,\"oper_attr\":-1,\"oper_date_time_local\":\"2019-09-16 20:30:49\",\"type_of_operand1\":3,\"id_of_operand1\":\"MNALTARUEKAACUY90003\",\"document_form\":\"PREDES\",\"date\":\"2019-09-16\"},{\"bar_code\":\"UA062718794MN\",\"oper_date_time\":\"2019-09-16 15:30:49\",\"index_oper\":\"620984\",\"index_oper_border\":\"620980\",\"country_oper\":643,\"index_next\":\"0\",\"index_next_border\":\"0\",\"index_to\":\"620979\",\"oper_type\":1004,\"oper_attr\":-1,\"oper_date_time_local\":\"2019-09-16 20:30:49\",\"type_of_operand1\":3,\"id_of_operand1\":\"MNALTARUEKAACUY90003\",\"document_form\":\"PREDES\",\"date\":\"2019-09-16\"},{\"bar_code\":\"UA062718794MN\",\"oper_date_time\":\"2019-09-16 16:44:27\",\"index_oper\":\"620984\",\"index_oper_border\":\"620980\",\"country_oper\":643,\"index_next\":\"0\",\"index_next_border\":\"0\",\"index_to\":\"620979\",\"oper_type\":1020,\"oper_attr\":-1,\"oper_date_time_local\":\"2019-09-16 21:44:27\",\"type_of_operand1\":2,\"id_of_operand1\":\"MNALTARUEKAACUY90003150000112\",\"document_form\":'null',\"date\":\"2019-09-16\"},{\"bar_code\":\"UA062718794MN\",\"oper_date_time\":\"2019-09-16 16:44:27\",\"index_oper\":\"620984\",\"index_oper_border\":\"620980\",\"country_oper\":643,\"index_next\":\"0\",\"index_next_border\":\"0\",\"index_to\":'null',\"oper_type\":1020,\"oper_attr\":-1,\"oper_date_time_local\":\"2019-09-16 21:44:27\",\"type_of_operand1\":3,\"id_of_operand1\":\"MNALTARUEKAACUY90003150000112\",\"document_form\":\"CN34\",\"date\":\"2019-09-16\"},{\"bar_code\":\"UA062718794MN\",\"oper_date_time\":\"2019-09-16 16:44:27\",\"index_oper\":\"620984\",\"index_oper_border\":\"620980\",\"country_oper\":643,\"index_next\":\"0\",\"index_next_border\":\"0\",\"index_to\":\"620979\",\"oper_type\":1023,\"oper_attr\":-1,\"oper_date_time_local\":\"2019-09-16 21:44:27\",\"type_of_operand1\":2,\"id_of_operand1\":\"MNALTARUEKAACUY90003150000112\",\"document_form\":'null',\"date\":\"2019-09-16\"},{\"bar_code\":\"UA062718794MN\",\"oper_date_time\":\"2019-09-16 22:10:26\",\"index_oper\":\"620981\",\"index_oper_border\":\"620980\",\"country_oper\":643,\"index_next\":\"0\",\"index_next_border\":\"0\",\"index_to\":\"620979\",\"oper_type\":1,\"oper_attr\":'null',\"oper_date_time_local\":\"2019-09-17 03:10:26\",\"type_of_operand1\":2,\"id_of_operand1\":\"MNALTARUEKAACUY90003150000112\",\"document_form\":'null',\"date\":\"2019-09-17\"},{\"bar_code\":\"UA062718794MN\",\"oper_date_time\":\"2019-09-16 22:32:42\",\"index_oper\":\"620981\",\"index_oper_border\":\"620980\",\"country_oper\":643,\"index_next\":\"0\",\"index_next_border\":\"0\",\"index_to\":\"620979\",\"oper_type\":1019,\"oper_attr\":-1,\"oper_date_time_local\":\"2019-09-17 03:32:42\",\"type_of_operand1\":2,\"id_of_operand1\":\"MNALTARUEKAACUY90003150000112\",\"document_form\":'null',\"date\":\"2019-09-17\"},{\"bar_code\":\"UA062718794MN\",\"oper_date_time\":\"2019-09-20 05:16:08\",\"index_oper\":\"620981\",\"index_oper_border\":\"620980\",\"country_oper\":643,\"index_next\":\"0\",\"index_next_border\":\"0\",\"index_to\":\"620979\",\"oper_type\":1004,\"oper_attr\":-1,\"oper_date_time_local\":\"2019-09-20 10:16:08\",\"type_of_operand1\":3,\"id_of_operand1\":\"MNALTARUEKAACUY90003\",\"document_form\":\"PREDES\",\"date\":\"2019-09-20\"},{\"bar_code\":\"UA062718794MN\",\"oper_date_time\":\"2019-09-24 05:51:57\",\"index_oper\":\"620981\",\"index_oper_border\":\"620980\",\"country_oper\":643,\"index_next\":\"0\",\"index_next_border\":\"0\",\"index_to\":\"620979\",\"oper_type\":1004,\"oper_attr\":-1,\"oper_date_time_local\":\"2019-09-24 10:51:57\",\"type_of_operand1\":3,\"id_of_operand1\":\"MNALTARUEKAACUY90003\",\"document_form\":\"PREDES\",\"date\":\"2019-09-24\"}]"
   ]
  },
  {
   "cell_type": "code",
   "execution_count": null,
   "metadata": {},
   "outputs": [],
   "source": [
    "rr[0]"
   ]
  },
  {
   "cell_type": "code",
   "execution_count": null,
   "metadata": {
    "collapsed": true
   },
   "outputs": [],
   "source": []
  }
 ],
 "metadata": {
  "kernelspec": {
   "display_name": "Python 3",
   "language": "python",
   "name": "python3"
  },
  "language_info": {
   "codemirror_mode": {
    "name": "ipython",
    "version": 3
   },
   "file_extension": ".py",
   "mimetype": "text/x-python",
   "name": "python",
   "nbconvert_exporter": "python",
   "pygments_lexer": "ipython3",
   "version": "3.6.7"
  }
 },
 "nbformat": 4,
 "nbformat_minor": 2
}
