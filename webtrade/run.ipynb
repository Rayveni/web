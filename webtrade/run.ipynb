{
 "cells": [
  {
   "cell_type": "code",
   "execution_count": 1,
   "metadata": {
    "scrolled": true
   },
   "outputs": [
    {
     "name": "stdout",
     "output_type": "stream",
     "text": [
      "C:\\Users\\ivolochkov\\Documents\\jupyter_projects\\web\\webtrade\\template_stocks1.csv\n"
     ]
    }
   ],
   "source": [
    "import sys\n",
    "import os\n",
    "from src import app\n",
    "from gevent import monkey,pywsgi\n",
    "CURRENT_DIR = os.getcwd()\n",
    "sys.path.insert(0, CURRENT_DIR)"
   ]
  },
  {
   "cell_type": "code",
   "execution_count": null,
   "metadata": {
    "scrolled": false
   },
   "outputs": [
    {
     "name": "stderr",
     "output_type": "stream",
     "text": [
      "127.0.0.1 - - [2021-07-22 10:59:50] \"GET / HTTP/1.1\" 200 8724 0.020630\n",
      "127.0.0.1 - - [2021-07-22 10:59:50] \"POST /query_data?view_id=open_broker_report&params=_173364_ HTTP/1.1\" 200 8489 0.026365\n",
      "127.0.0.1 - - [2021-07-22 10:59:50] \"POST /query_data?view_id=open_broker_report&params=_173364i_ HTTP/1.1\" 200 992 0.008880\n",
      "127.0.0.1 - - [2021-07-22 10:59:50] \"POST /query_data?view_id=open_broker_report&params=_173364_ HTTP/1.1\" 200 8489 0.022310\n",
      "127.0.0.1 - - [2021-07-22 10:59:50] \"POST /query_data?view_id=open_broker_report&params=_173364i_ HTTP/1.1\" 200 992 0.007001\n",
      "127.0.0.1 - - [2021-07-22 10:59:50] \"POST /query_data?table=sec_sector&noconvert=1 HTTP/1.1\" 200 4031 0.015038\n",
      "127.0.0.1 - - [2021-07-22 10:59:51] \"GET /portfolio_stocks HTTP/1.1\" 200 6959 0.006604\n",
      "127.0.0.1 - - [2021-07-22 10:59:53] \"GET /portfolio_stocks HTTP/1.1\" 200 6959 0.001048\n",
      "127.0.0.1 - - [2021-07-22 10:59:53] \"GET /static/vendor/fontawesome-free/css/all.min.css HTTP/1.1\" 200 57471 0.007491\n",
      "127.0.0.1 - - [2021-07-22 10:59:53] \"GET /static/css/handsontable.full.min.css HTTP/1.1\" 200 33270 0.005002\n",
      "127.0.0.1 - - [2021-07-22 10:59:53] \"GET /static/css/template.css HTTP/1.1\" 200 16699 0.003786\n",
      "127.0.0.1 - - [2021-07-22 10:59:53] \"GET /static/css/mycss.css HTTP/1.1\" 200 3023 0.002583\n",
      "127.0.0.1 - - [2021-07-22 10:59:53] \"GET /static/vendor/jquery/jquery-3.4.1.slim.min.js HTTP/1.1\" 200 88448 0.006765\n",
      "127.0.0.1 - - [2021-07-22 10:59:53] \"GET /static/vendor/jquery/popper.min.js HTTP/1.1\" 200 21563 0.006765\n",
      "127.0.0.1 - - [2021-07-22 10:59:53] \"GET /static/js/template.js HTTP/1.1\" 200 1713 0.003507\n",
      "127.0.0.1 - - [2021-07-22 10:59:53] \"GET /static/vendor/bootstrsap4/bootstrap.min.js HTTP/1.1\" 200 60317 0.006183\n",
      "127.0.0.1 - - [2021-07-22 10:59:53] \"GET /static/vendor/handsontable/handsontable.full.min.js HTTP/1.1\" 200 2207667 0.037666\n",
      "127.0.0.1 - - [2021-07-22 10:59:53] \"GET /static/js/ajax_get_data.js HTTP/1.1\" 200 838 0.002330\n",
      "127.0.0.1 - - [2021-07-22 10:59:53] \"GET /static/js/bonds.js HTTP/1.1\" 200 8246 0.001683\n",
      "127.0.0.1 - - [2021-07-22 10:59:53] \"GET /static/vendor/fontawesome-free/webfonts/fa-solid-900.woff2 HTTP/1.1\" 200 76372 0.013472\n",
      "127.0.0.1 - - [2021-07-22 10:59:53] \"GET /static/vendor/fontawesome-free/webfonts/fa-brands-400.woff2 HTTP/1.1\" 200 76224 0.012099\n",
      "127.0.0.1 - - [2021-07-22 10:59:53] \"GET /static/favicon-16x16.png HTTP/1.1\" 200 641 0.001003\n"
     ]
    }
   ],
   "source": [
    "#monkey.patch_all(thread=False,select=False)\n",
    "server = pywsgi.WSGIServer(('127.0.0.2', 5000), app)\n",
    "#app.debug = Trueee\n",
    "server.serve_forever()\n",
    "#http://127.0.0.2:5000/"
   ]
  },
  {
   "cell_type": "code",
   "execution_count": null,
   "metadata": {},
   "outputs": [],
   "source": [
    "from jobs import job_sl_bonds\n",
    "from db_drivers import mongo_manager\n",
    "cfg={\"driver\": \"mongo\", \"db_name\": \"trade\", \"host\": \"localhost\",\n",
    "     \"port\": 27017, \"user\": \"\", \"user_pswd\": \"\", \"mongo_data\": \"C:\\\\Users\\\\DB\"}\n",
    "\n",
    "a=job_sl_bonds(cfg)"
   ]
  },
  {
   "cell_type": "code",
   "execution_count": null,
   "metadata": {},
   "outputs": [],
   "source": [
    "%%time\n",
    "from sys import path\n",
    "from datetime import datetime\n",
    "import os\n",
    "path.append(os.path.join(os.getcwd(),'src'))\n",
    "\n",
    "from commons import convert_file_size,init_db_manager\n",
    "import pandas as pd\n",
    "from jobs import *\n",
    "#a=job_world_fond_indexes(init_db_manager())"
   ]
  },
  {
   "cell_type": "code",
   "execution_count": null,
   "metadata": {},
   "outputs": [],
   "source": [
    "a=job_sectors(init_db_manager())"
   ]
  },
  {
   "cell_type": "code",
   "execution_count": null,
   "metadata": {},
   "outputs": [],
   "source": [
    "db=init_db_manager()\n",
    "a=db.get_table('mosex_securities',result='matrix')\n",
    "#a=job_update_sec_hist(init_db_manager())"
   ]
  },
  {
   "cell_type": "code",
   "execution_count": null,
   "metadata": {},
   "outputs": [],
   "source": [
    "def __prepare_csv_f(s):\n",
    "    if isnan(s):\n",
    "        return \"\"\n",
    "    return str(s)"
   ]
  },
  {
   "cell_type": "code",
   "execution_count": null,
   "metadata": {},
   "outputs": [],
   "source": [
    "#pd.DataFrame(a[1:],columns=a[0]).to_csv(\"to_csv.csv\",index=False,encoding='cp1251')\n",
    "\"aaaa\".encode(\"cp1251\")"
   ]
  },
  {
   "cell_type": "code",
   "execution_count": null,
   "metadata": {},
   "outputs": [],
   "source": [
    "for row in db.get_table_cursor('sec_sector',query={'ticker': ['IRKT','RKKE']}):\n",
    "    print(list(row.values()))"
   ]
  },
  {
   "cell_type": "code",
   "execution_count": null,
   "metadata": {},
   "outputs": [],
   "source": [
    "for row in db.db['sec_sector'].find({'ticker':{'$in': ['IRKT','RKKE']}}):\n",
    "    print(row)"
   ]
  },
  {
   "cell_type": "code",
   "execution_count": null,
   "metadata": {},
   "outputs": [],
   "source": [
    "db.get_table('sec_sector',query={'ticker':{'$in': ['IRKT','RKKE']}},dict_key=\"ticker\",result='dict',columns=['action',\n",
    "                                                                                                             'industry',\n",
    "                                                                                                             'sector','ticker'])\n"
   ]
  },
  {
   "cell_type": "code",
   "execution_count": null,
   "metadata": {},
   "outputs": [],
   "source": [
    "def f(c=11,a=3,b=6):\n",
    "    return a/b+c\n",
    "aa={'a':5,'b':15}\n",
    "for k,v in aa.items():\n",
    "    print(k,v)"
   ]
  },
  {
   "cell_type": "code",
   "execution_count": null,
   "metadata": {},
   "outputs": [],
   "source": [
    "list(row.values())"
   ]
  },
  {
   "cell_type": "code",
   "execution_count": null,
   "metadata": {},
   "outputs": [],
   "source": [
    "db.find_one('sec_sector',{'ticker': ['IRKT']})"
   ]
  },
  {
   "cell_type": "code",
   "execution_count": null,
   "metadata": {
    "scrolled": true
   },
   "outputs": [],
   "source": [
    "a=pd.DataFrame(a)\n",
    "a"
   ]
  },
  {
   "cell_type": "code",
   "execution_count": null,
   "metadata": {},
   "outputs": [],
   "source": [
    "a.shape"
   ]
  },
  {
   "cell_type": "code",
   "execution_count": null,
   "metadata": {},
   "outputs": [],
   "source": [
    "db.get_table('sec_history_manager_mosex')"
   ]
  },
  {
   "cell_type": "code",
   "execution_count": null,
   "metadata": {},
   "outputs": [],
   "source": [
    "db.get_table('mosex_sec_history')[-10:]"
   ]
  },
  {
   "cell_type": "code",
   "execution_count": null,
   "metadata": {},
   "outputs": [],
   "source": [
    "r=db.find_one('sec_history_manager_mosex',{\"secid\":'GAZP111'})"
   ]
  },
  {
   "cell_type": "code",
   "execution_count": null,
   "metadata": {},
   "outputs": [],
   "source": [
    "from datetime import datetime\n",
    "datetime.strptime('2016-01-04','%Y-%m-%d').month"
   ]
  },
  {
   "cell_type": "code",
   "execution_count": null,
   "metadata": {},
   "outputs": [],
   "source": [
    "db=init_db_manager()"
   ]
  },
  {
   "cell_type": "code",
   "execution_count": null,
   "metadata": {},
   "outputs": [],
   "source": [
    "df[df.boardid=='TQBR'].tradedate.nunique()"
   ]
  },
  {
   "cell_type": "code",
   "execution_count": null,
   "metadata": {},
   "outputs": [],
   "source": [
    "from sys import path\n",
    "path.append(r\"C:\\Users\\Kart\\jupyter_projects\\webtrade\\webtrade\\external_sources\")\n",
    "\n",
    "from external_sources import mosex,tradingview\n",
    "import pandas as pd\n",
    "a=mosex()\n",
    "#a=tradingview()"
   ]
  },
  {
   "cell_type": "code",
   "execution_count": null,
   "metadata": {},
   "outputs": [],
   "source": [
    "\n",
    "aa=a.security_hist('SBER')"
   ]
  },
  {
   "cell_type": "code",
   "execution_count": null,
   "metadata": {},
   "outputs": [],
   "source": [
    "aa[1][1]"
   ]
  },
  {
   "cell_type": "code",
   "execution_count": null,
   "metadata": {},
   "outputs": [],
   "source": []
  }
 ],
 "metadata": {
  "kernelspec": {
   "display_name": "Python 3",
   "language": "python",
   "name": "python3"
  },
  "language_info": {
   "codemirror_mode": {
    "name": "ipython",
    "version": 3
   },
   "file_extension": ".py",
   "mimetype": "text/x-python",
   "name": "python",
   "nbconvert_exporter": "python",
   "pygments_lexer": "ipython3",
   "version": "3.8.8"
  }
 },
 "nbformat": 4,
 "nbformat_minor": 2
}
